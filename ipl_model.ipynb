{
 "cells": [
  {
   "cell_type": "code",
   "execution_count": 5,
   "metadata": {
    "ExecuteTime": {
     "end_time": "2024-04-02T15:27:36.480519Z",
     "start_time": "2024-04-02T15:27:36.477154Z"
    }
   },
   "outputs": [],
   "source": [
    "import numpy as np\n",
    "import pandas as pd"
   ]
  },
  {
   "cell_type": "code",
   "execution_count": 6,
   "metadata": {
    "ExecuteTime": {
     "end_time": "2024-04-02T15:27:36.827806Z",
     "start_time": "2024-04-02T15:27:36.613119Z"
    }
   },
   "outputs": [],
   "source": [
    "match = pd.read_csv(r'C:\\Users\\Admin\\PycharmProjects\\IPL_win_probability\\IPL_Matches_2008_2022 (1).csv', delimiter = ',')\n",
    "delivary = pd.read_csv(r'C:\\Users\\Admin\\PycharmProjects\\IPL_win_probability\\IPL_Ball_by_Ball_2008_2022 (1).csv', delimiter=',')"
   ]
  },
  {
   "cell_type": "code",
   "execution_count": 7,
   "metadata": {
    "ExecuteTime": {
     "end_time": "2024-04-02T15:27:36.843246Z",
     "start_time": "2024-04-02T15:27:36.829801Z"
    }
   },
   "outputs": [
    {
     "data": {
      "text/plain": "        ID       City        Date Season  MatchNumber  \\\n0  1312200  Ahmedabad  2022-05-29   2022        Final   \n1  1312199  Ahmedabad  2022-05-27   2022  Qualifier 2   \n2  1312198    Kolkata  2022-05-25   2022   Eliminator   \n3  1312197    Kolkata  2022-05-24   2022  Qualifier 1   \n4  1304116     Mumbai  2022-05-22   2022           70   \n\n                         Team1                 Team2  \\\n0             Rajasthan Royals        Gujarat Titans   \n1  Royal Challengers Bangalore      Rajasthan Royals   \n2  Royal Challengers Bangalore  Lucknow Super Giants   \n3             Rajasthan Royals        Gujarat Titans   \n4          Sunrisers Hyderabad          Punjab Kings   \n\n                              Venue            TossWinner TossDecision  \\\n0  Narendra Modi Stadium, Ahmedabad      Rajasthan Royals          bat   \n1  Narendra Modi Stadium, Ahmedabad      Rajasthan Royals        field   \n2             Eden Gardens, Kolkata  Lucknow Super Giants        field   \n3             Eden Gardens, Kolkata        Gujarat Titans        field   \n4          Wankhede Stadium, Mumbai   Sunrisers Hyderabad          bat   \n\n  SuperOver                  WinningTeam    WonBy  Margin method  \\\n0         N               Gujarat Titans  Wickets     7.0    NaN   \n1         N             Rajasthan Royals  Wickets     7.0    NaN   \n2         N  Royal Challengers Bangalore     Runs    14.0    NaN   \n3         N               Gujarat Titans  Wickets     7.0    NaN   \n4         N                 Punjab Kings  Wickets     5.0    NaN   \n\n  Player_of_Match                                       Team1Players  \\\n0       HH Pandya  ['YBK Jaiswal', 'JC Buttler', 'SV Samson', 'D ...   \n1      JC Buttler  ['V Kohli', 'F du Plessis', 'RM Patidar', 'GJ ...   \n2      RM Patidar  ['V Kohli', 'F du Plessis', 'RM Patidar', 'GJ ...   \n3       DA Miller  ['YBK Jaiswal', 'JC Buttler', 'SV Samson', 'D ...   \n4   Harpreet Brar  ['PK Garg', 'Abhishek Sharma', 'RA Tripathi', ...   \n\n                                        Team2Players        Umpire1  \\\n0  ['WP Saha', 'Shubman Gill', 'MS Wade', 'HH Pan...    CB Gaffaney   \n1  ['YBK Jaiswal', 'JC Buttler', 'SV Samson', 'D ...    CB Gaffaney   \n2  ['Q de Kock', 'KL Rahul', 'M Vohra', 'DJ Hooda...  J Madanagopal   \n3  ['WP Saha', 'Shubman Gill', 'MS Wade', 'HH Pan...   BNJ Oxenford   \n4  ['JM Bairstow', 'S Dhawan', 'M Shahrukh Khan',...   AK Chaudhary   \n\n         Umpire2  \n0    Nitin Menon  \n1    Nitin Menon  \n2       MA Gough  \n3      VK Sharma  \n4  NA Patwardhan  ",
      "text/html": "<div>\n<style scoped>\n    .dataframe tbody tr th:only-of-type {\n        vertical-align: middle;\n    }\n\n    .dataframe tbody tr th {\n        vertical-align: top;\n    }\n\n    .dataframe thead th {\n        text-align: right;\n    }\n</style>\n<table border=\"1\" class=\"dataframe\">\n  <thead>\n    <tr style=\"text-align: right;\">\n      <th></th>\n      <th>ID</th>\n      <th>City</th>\n      <th>Date</th>\n      <th>Season</th>\n      <th>MatchNumber</th>\n      <th>Team1</th>\n      <th>Team2</th>\n      <th>Venue</th>\n      <th>TossWinner</th>\n      <th>TossDecision</th>\n      <th>SuperOver</th>\n      <th>WinningTeam</th>\n      <th>WonBy</th>\n      <th>Margin</th>\n      <th>method</th>\n      <th>Player_of_Match</th>\n      <th>Team1Players</th>\n      <th>Team2Players</th>\n      <th>Umpire1</th>\n      <th>Umpire2</th>\n    </tr>\n  </thead>\n  <tbody>\n    <tr>\n      <th>0</th>\n      <td>1312200</td>\n      <td>Ahmedabad</td>\n      <td>2022-05-29</td>\n      <td>2022</td>\n      <td>Final</td>\n      <td>Rajasthan Royals</td>\n      <td>Gujarat Titans</td>\n      <td>Narendra Modi Stadium, Ahmedabad</td>\n      <td>Rajasthan Royals</td>\n      <td>bat</td>\n      <td>N</td>\n      <td>Gujarat Titans</td>\n      <td>Wickets</td>\n      <td>7.0</td>\n      <td>NaN</td>\n      <td>HH Pandya</td>\n      <td>['YBK Jaiswal', 'JC Buttler', 'SV Samson', 'D ...</td>\n      <td>['WP Saha', 'Shubman Gill', 'MS Wade', 'HH Pan...</td>\n      <td>CB Gaffaney</td>\n      <td>Nitin Menon</td>\n    </tr>\n    <tr>\n      <th>1</th>\n      <td>1312199</td>\n      <td>Ahmedabad</td>\n      <td>2022-05-27</td>\n      <td>2022</td>\n      <td>Qualifier 2</td>\n      <td>Royal Challengers Bangalore</td>\n      <td>Rajasthan Royals</td>\n      <td>Narendra Modi Stadium, Ahmedabad</td>\n      <td>Rajasthan Royals</td>\n      <td>field</td>\n      <td>N</td>\n      <td>Rajasthan Royals</td>\n      <td>Wickets</td>\n      <td>7.0</td>\n      <td>NaN</td>\n      <td>JC Buttler</td>\n      <td>['V Kohli', 'F du Plessis', 'RM Patidar', 'GJ ...</td>\n      <td>['YBK Jaiswal', 'JC Buttler', 'SV Samson', 'D ...</td>\n      <td>CB Gaffaney</td>\n      <td>Nitin Menon</td>\n    </tr>\n    <tr>\n      <th>2</th>\n      <td>1312198</td>\n      <td>Kolkata</td>\n      <td>2022-05-25</td>\n      <td>2022</td>\n      <td>Eliminator</td>\n      <td>Royal Challengers Bangalore</td>\n      <td>Lucknow Super Giants</td>\n      <td>Eden Gardens, Kolkata</td>\n      <td>Lucknow Super Giants</td>\n      <td>field</td>\n      <td>N</td>\n      <td>Royal Challengers Bangalore</td>\n      <td>Runs</td>\n      <td>14.0</td>\n      <td>NaN</td>\n      <td>RM Patidar</td>\n      <td>['V Kohli', 'F du Plessis', 'RM Patidar', 'GJ ...</td>\n      <td>['Q de Kock', 'KL Rahul', 'M Vohra', 'DJ Hooda...</td>\n      <td>J Madanagopal</td>\n      <td>MA Gough</td>\n    </tr>\n    <tr>\n      <th>3</th>\n      <td>1312197</td>\n      <td>Kolkata</td>\n      <td>2022-05-24</td>\n      <td>2022</td>\n      <td>Qualifier 1</td>\n      <td>Rajasthan Royals</td>\n      <td>Gujarat Titans</td>\n      <td>Eden Gardens, Kolkata</td>\n      <td>Gujarat Titans</td>\n      <td>field</td>\n      <td>N</td>\n      <td>Gujarat Titans</td>\n      <td>Wickets</td>\n      <td>7.0</td>\n      <td>NaN</td>\n      <td>DA Miller</td>\n      <td>['YBK Jaiswal', 'JC Buttler', 'SV Samson', 'D ...</td>\n      <td>['WP Saha', 'Shubman Gill', 'MS Wade', 'HH Pan...</td>\n      <td>BNJ Oxenford</td>\n      <td>VK Sharma</td>\n    </tr>\n    <tr>\n      <th>4</th>\n      <td>1304116</td>\n      <td>Mumbai</td>\n      <td>2022-05-22</td>\n      <td>2022</td>\n      <td>70</td>\n      <td>Sunrisers Hyderabad</td>\n      <td>Punjab Kings</td>\n      <td>Wankhede Stadium, Mumbai</td>\n      <td>Sunrisers Hyderabad</td>\n      <td>bat</td>\n      <td>N</td>\n      <td>Punjab Kings</td>\n      <td>Wickets</td>\n      <td>5.0</td>\n      <td>NaN</td>\n      <td>Harpreet Brar</td>\n      <td>['PK Garg', 'Abhishek Sharma', 'RA Tripathi', ...</td>\n      <td>['JM Bairstow', 'S Dhawan', 'M Shahrukh Khan',...</td>\n      <td>AK Chaudhary</td>\n      <td>NA Patwardhan</td>\n    </tr>\n  </tbody>\n</table>\n</div>"
     },
     "execution_count": 7,
     "metadata": {},
     "output_type": "execute_result"
    }
   ],
   "source": [
    "match.head()"
   ]
  },
  {
   "cell_type": "code",
   "execution_count": 8,
   "metadata": {
    "ExecuteTime": {
     "end_time": "2024-04-02T15:27:36.849767Z",
     "start_time": "2024-04-02T15:27:36.844244Z"
    }
   },
   "outputs": [
    {
     "data": {
      "text/plain": "Index(['ID', 'City', 'Date', 'Season', 'MatchNumber', 'Team1', 'Team2',\n       'Venue', 'TossWinner', 'TossDecision', 'SuperOver', 'WinningTeam',\n       'WonBy', 'Margin', 'method', 'Player_of_Match', 'Team1Players',\n       'Team2Players', 'Umpire1', 'Umpire2'],\n      dtype='object')"
     },
     "execution_count": 8,
     "metadata": {},
     "output_type": "execute_result"
    }
   ],
   "source": [
    "match.columns"
   ]
  },
  {
   "cell_type": "code",
   "execution_count": 9,
   "metadata": {
    "ExecuteTime": {
     "end_time": "2024-04-02T15:27:36.860791Z",
     "start_time": "2024-04-02T15:27:36.850767Z"
    }
   },
   "outputs": [
    {
     "data": {
      "text/plain": "        ID       City        Date Season  MatchNumber  \\\n0  1312200  Ahmedabad  2022-05-29   2022        Final   \n1  1312199  Ahmedabad  2022-05-27   2022  Qualifier 2   \n2  1312198    Kolkata  2022-05-25   2022   Eliminator   \n3  1312197    Kolkata  2022-05-24   2022  Qualifier 1   \n4  1304116     Mumbai  2022-05-22   2022           70   \n\n                         Team1                 Team2  \\\n0             Rajasthan Royals        Gujarat Titans   \n1  Royal Challengers Bangalore      Rajasthan Royals   \n2  Royal Challengers Bangalore  Lucknow Super Giants   \n3             Rajasthan Royals        Gujarat Titans   \n4          Sunrisers Hyderabad          Punjab Kings   \n\n                              Venue            TossWinner TossDecision  \\\n0  Narendra Modi Stadium, Ahmedabad      Rajasthan Royals          bat   \n1  Narendra Modi Stadium, Ahmedabad      Rajasthan Royals        field   \n2             Eden Gardens, Kolkata  Lucknow Super Giants        field   \n3             Eden Gardens, Kolkata        Gujarat Titans        field   \n4          Wankhede Stadium, Mumbai   Sunrisers Hyderabad          bat   \n\n  SuperOver                  WinningTeam    WonBy  Margin method  \\\n0         N               Gujarat Titans  Wickets     7.0    NaN   \n1         N             Rajasthan Royals  Wickets     7.0    NaN   \n2         N  Royal Challengers Bangalore     Runs    14.0    NaN   \n3         N               Gujarat Titans  Wickets     7.0    NaN   \n4         N                 Punjab Kings  Wickets     5.0    NaN   \n\n  Player_of_Match                                       Team1Players  \\\n0       HH Pandya  ['YBK Jaiswal', 'JC Buttler', 'SV Samson', 'D ...   \n1      JC Buttler  ['V Kohli', 'F du Plessis', 'RM Patidar', 'GJ ...   \n2      RM Patidar  ['V Kohli', 'F du Plessis', 'RM Patidar', 'GJ ...   \n3       DA Miller  ['YBK Jaiswal', 'JC Buttler', 'SV Samson', 'D ...   \n4   Harpreet Brar  ['PK Garg', 'Abhishek Sharma', 'RA Tripathi', ...   \n\n                                        Team2Players        Umpire1  \\\n0  ['WP Saha', 'Shubman Gill', 'MS Wade', 'HH Pan...    CB Gaffaney   \n1  ['YBK Jaiswal', 'JC Buttler', 'SV Samson', 'D ...    CB Gaffaney   \n2  ['Q de Kock', 'KL Rahul', 'M Vohra', 'DJ Hooda...  J Madanagopal   \n3  ['WP Saha', 'Shubman Gill', 'MS Wade', 'HH Pan...   BNJ Oxenford   \n4  ['JM Bairstow', 'S Dhawan', 'M Shahrukh Khan',...   AK Chaudhary   \n\n         Umpire2  \n0    Nitin Menon  \n1    Nitin Menon  \n2       MA Gough  \n3      VK Sharma  \n4  NA Patwardhan  ",
      "text/html": "<div>\n<style scoped>\n    .dataframe tbody tr th:only-of-type {\n        vertical-align: middle;\n    }\n\n    .dataframe tbody tr th {\n        vertical-align: top;\n    }\n\n    .dataframe thead th {\n        text-align: right;\n    }\n</style>\n<table border=\"1\" class=\"dataframe\">\n  <thead>\n    <tr style=\"text-align: right;\">\n      <th></th>\n      <th>ID</th>\n      <th>City</th>\n      <th>Date</th>\n      <th>Season</th>\n      <th>MatchNumber</th>\n      <th>Team1</th>\n      <th>Team2</th>\n      <th>Venue</th>\n      <th>TossWinner</th>\n      <th>TossDecision</th>\n      <th>SuperOver</th>\n      <th>WinningTeam</th>\n      <th>WonBy</th>\n      <th>Margin</th>\n      <th>method</th>\n      <th>Player_of_Match</th>\n      <th>Team1Players</th>\n      <th>Team2Players</th>\n      <th>Umpire1</th>\n      <th>Umpire2</th>\n    </tr>\n  </thead>\n  <tbody>\n    <tr>\n      <th>0</th>\n      <td>1312200</td>\n      <td>Ahmedabad</td>\n      <td>2022-05-29</td>\n      <td>2022</td>\n      <td>Final</td>\n      <td>Rajasthan Royals</td>\n      <td>Gujarat Titans</td>\n      <td>Narendra Modi Stadium, Ahmedabad</td>\n      <td>Rajasthan Royals</td>\n      <td>bat</td>\n      <td>N</td>\n      <td>Gujarat Titans</td>\n      <td>Wickets</td>\n      <td>7.0</td>\n      <td>NaN</td>\n      <td>HH Pandya</td>\n      <td>['YBK Jaiswal', 'JC Buttler', 'SV Samson', 'D ...</td>\n      <td>['WP Saha', 'Shubman Gill', 'MS Wade', 'HH Pan...</td>\n      <td>CB Gaffaney</td>\n      <td>Nitin Menon</td>\n    </tr>\n    <tr>\n      <th>1</th>\n      <td>1312199</td>\n      <td>Ahmedabad</td>\n      <td>2022-05-27</td>\n      <td>2022</td>\n      <td>Qualifier 2</td>\n      <td>Royal Challengers Bangalore</td>\n      <td>Rajasthan Royals</td>\n      <td>Narendra Modi Stadium, Ahmedabad</td>\n      <td>Rajasthan Royals</td>\n      <td>field</td>\n      <td>N</td>\n      <td>Rajasthan Royals</td>\n      <td>Wickets</td>\n      <td>7.0</td>\n      <td>NaN</td>\n      <td>JC Buttler</td>\n      <td>['V Kohli', 'F du Plessis', 'RM Patidar', 'GJ ...</td>\n      <td>['YBK Jaiswal', 'JC Buttler', 'SV Samson', 'D ...</td>\n      <td>CB Gaffaney</td>\n      <td>Nitin Menon</td>\n    </tr>\n    <tr>\n      <th>2</th>\n      <td>1312198</td>\n      <td>Kolkata</td>\n      <td>2022-05-25</td>\n      <td>2022</td>\n      <td>Eliminator</td>\n      <td>Royal Challengers Bangalore</td>\n      <td>Lucknow Super Giants</td>\n      <td>Eden Gardens, Kolkata</td>\n      <td>Lucknow Super Giants</td>\n      <td>field</td>\n      <td>N</td>\n      <td>Royal Challengers Bangalore</td>\n      <td>Runs</td>\n      <td>14.0</td>\n      <td>NaN</td>\n      <td>RM Patidar</td>\n      <td>['V Kohli', 'F du Plessis', 'RM Patidar', 'GJ ...</td>\n      <td>['Q de Kock', 'KL Rahul', 'M Vohra', 'DJ Hooda...</td>\n      <td>J Madanagopal</td>\n      <td>MA Gough</td>\n    </tr>\n    <tr>\n      <th>3</th>\n      <td>1312197</td>\n      <td>Kolkata</td>\n      <td>2022-05-24</td>\n      <td>2022</td>\n      <td>Qualifier 1</td>\n      <td>Rajasthan Royals</td>\n      <td>Gujarat Titans</td>\n      <td>Eden Gardens, Kolkata</td>\n      <td>Gujarat Titans</td>\n      <td>field</td>\n      <td>N</td>\n      <td>Gujarat Titans</td>\n      <td>Wickets</td>\n      <td>7.0</td>\n      <td>NaN</td>\n      <td>DA Miller</td>\n      <td>['YBK Jaiswal', 'JC Buttler', 'SV Samson', 'D ...</td>\n      <td>['WP Saha', 'Shubman Gill', 'MS Wade', 'HH Pan...</td>\n      <td>BNJ Oxenford</td>\n      <td>VK Sharma</td>\n    </tr>\n    <tr>\n      <th>4</th>\n      <td>1304116</td>\n      <td>Mumbai</td>\n      <td>2022-05-22</td>\n      <td>2022</td>\n      <td>70</td>\n      <td>Sunrisers Hyderabad</td>\n      <td>Punjab Kings</td>\n      <td>Wankhede Stadium, Mumbai</td>\n      <td>Sunrisers Hyderabad</td>\n      <td>bat</td>\n      <td>N</td>\n      <td>Punjab Kings</td>\n      <td>Wickets</td>\n      <td>5.0</td>\n      <td>NaN</td>\n      <td>Harpreet Brar</td>\n      <td>['PK Garg', 'Abhishek Sharma', 'RA Tripathi', ...</td>\n      <td>['JM Bairstow', 'S Dhawan', 'M Shahrukh Khan',...</td>\n      <td>AK Chaudhary</td>\n      <td>NA Patwardhan</td>\n    </tr>\n  </tbody>\n</table>\n</div>"
     },
     "execution_count": 9,
     "metadata": {},
     "output_type": "execute_result"
    }
   ],
   "source": [
    "match.head()"
   ]
  },
  {
   "cell_type": "code",
   "execution_count": 10,
   "metadata": {
    "ExecuteTime": {
     "end_time": "2024-04-02T15:27:36.868928Z",
     "start_time": "2024-04-02T15:27:36.861789Z"
    }
   },
   "outputs": [
    {
     "data": {
      "text/plain": "        ID  innings  overs  ballnumber       batter          bowler  \\\n0  1312200        1      0           1  YBK Jaiswal  Mohammed Shami   \n1  1312200        1      0           2  YBK Jaiswal  Mohammed Shami   \n2  1312200        1      0           3   JC Buttler  Mohammed Shami   \n3  1312200        1      0           4  YBK Jaiswal  Mohammed Shami   \n4  1312200        1      0           5  YBK Jaiswal  Mohammed Shami   \n\n   non-striker extra_type  batsman_run  extras_run  total_run  non_boundary  \\\n0   JC Buttler        NaN            0           0          0             0   \n1   JC Buttler    legbyes            0           1          1             0   \n2  YBK Jaiswal        NaN            1           0          1             0   \n3   JC Buttler        NaN            0           0          0             0   \n4   JC Buttler        NaN            0           0          0             0   \n\n   isWicketDelivery player_out kind fielders_involved       BattingTeam  \n0                 0        NaN  NaN               NaN  Rajasthan Royals  \n1                 0        NaN  NaN               NaN  Rajasthan Royals  \n2                 0        NaN  NaN               NaN  Rajasthan Royals  \n3                 0        NaN  NaN               NaN  Rajasthan Royals  \n4                 0        NaN  NaN               NaN  Rajasthan Royals  ",
      "text/html": "<div>\n<style scoped>\n    .dataframe tbody tr th:only-of-type {\n        vertical-align: middle;\n    }\n\n    .dataframe tbody tr th {\n        vertical-align: top;\n    }\n\n    .dataframe thead th {\n        text-align: right;\n    }\n</style>\n<table border=\"1\" class=\"dataframe\">\n  <thead>\n    <tr style=\"text-align: right;\">\n      <th></th>\n      <th>ID</th>\n      <th>innings</th>\n      <th>overs</th>\n      <th>ballnumber</th>\n      <th>batter</th>\n      <th>bowler</th>\n      <th>non-striker</th>\n      <th>extra_type</th>\n      <th>batsman_run</th>\n      <th>extras_run</th>\n      <th>total_run</th>\n      <th>non_boundary</th>\n      <th>isWicketDelivery</th>\n      <th>player_out</th>\n      <th>kind</th>\n      <th>fielders_involved</th>\n      <th>BattingTeam</th>\n    </tr>\n  </thead>\n  <tbody>\n    <tr>\n      <th>0</th>\n      <td>1312200</td>\n      <td>1</td>\n      <td>0</td>\n      <td>1</td>\n      <td>YBK Jaiswal</td>\n      <td>Mohammed Shami</td>\n      <td>JC Buttler</td>\n      <td>NaN</td>\n      <td>0</td>\n      <td>0</td>\n      <td>0</td>\n      <td>0</td>\n      <td>0</td>\n      <td>NaN</td>\n      <td>NaN</td>\n      <td>NaN</td>\n      <td>Rajasthan Royals</td>\n    </tr>\n    <tr>\n      <th>1</th>\n      <td>1312200</td>\n      <td>1</td>\n      <td>0</td>\n      <td>2</td>\n      <td>YBK Jaiswal</td>\n      <td>Mohammed Shami</td>\n      <td>JC Buttler</td>\n      <td>legbyes</td>\n      <td>0</td>\n      <td>1</td>\n      <td>1</td>\n      <td>0</td>\n      <td>0</td>\n      <td>NaN</td>\n      <td>NaN</td>\n      <td>NaN</td>\n      <td>Rajasthan Royals</td>\n    </tr>\n    <tr>\n      <th>2</th>\n      <td>1312200</td>\n      <td>1</td>\n      <td>0</td>\n      <td>3</td>\n      <td>JC Buttler</td>\n      <td>Mohammed Shami</td>\n      <td>YBK Jaiswal</td>\n      <td>NaN</td>\n      <td>1</td>\n      <td>0</td>\n      <td>1</td>\n      <td>0</td>\n      <td>0</td>\n      <td>NaN</td>\n      <td>NaN</td>\n      <td>NaN</td>\n      <td>Rajasthan Royals</td>\n    </tr>\n    <tr>\n      <th>3</th>\n      <td>1312200</td>\n      <td>1</td>\n      <td>0</td>\n      <td>4</td>\n      <td>YBK Jaiswal</td>\n      <td>Mohammed Shami</td>\n      <td>JC Buttler</td>\n      <td>NaN</td>\n      <td>0</td>\n      <td>0</td>\n      <td>0</td>\n      <td>0</td>\n      <td>0</td>\n      <td>NaN</td>\n      <td>NaN</td>\n      <td>NaN</td>\n      <td>Rajasthan Royals</td>\n    </tr>\n    <tr>\n      <th>4</th>\n      <td>1312200</td>\n      <td>1</td>\n      <td>0</td>\n      <td>5</td>\n      <td>YBK Jaiswal</td>\n      <td>Mohammed Shami</td>\n      <td>JC Buttler</td>\n      <td>NaN</td>\n      <td>0</td>\n      <td>0</td>\n      <td>0</td>\n      <td>0</td>\n      <td>0</td>\n      <td>NaN</td>\n      <td>NaN</td>\n      <td>NaN</td>\n      <td>Rajasthan Royals</td>\n    </tr>\n  </tbody>\n</table>\n</div>"
     },
     "execution_count": 10,
     "metadata": {},
     "output_type": "execute_result"
    }
   ],
   "source": [
    "delivary.head()"
   ]
  },
  {
   "cell_type": "code",
   "execution_count": 11,
   "metadata": {
    "ExecuteTime": {
     "end_time": "2024-04-02T15:27:36.872959Z",
     "start_time": "2024-04-02T15:27:36.868928Z"
    }
   },
   "outputs": [
    {
     "data": {
      "text/plain": "Index(['ID', 'innings', 'overs', 'ballnumber', 'batter', 'bowler',\n       'non-striker', 'extra_type', 'batsman_run', 'extras_run', 'total_run',\n       'non_boundary', 'isWicketDelivery', 'player_out', 'kind',\n       'fielders_involved', 'BattingTeam'],\n      dtype='object')"
     },
     "execution_count": 11,
     "metadata": {},
     "output_type": "execute_result"
    }
   ],
   "source": [
    "delivary.columns"
   ]
  },
  {
   "cell_type": "code",
   "execution_count": 12,
   "metadata": {
    "ExecuteTime": {
     "end_time": "2024-04-02T15:27:36.877850Z",
     "start_time": "2024-04-02T15:27:36.873957Z"
    }
   },
   "outputs": [
    {
     "data": {
      "text/plain": "(225954, 17)"
     },
     "execution_count": 12,
     "metadata": {},
     "output_type": "execute_result"
    }
   ],
   "source": [
    "delivary.shape"
   ]
  },
  {
   "cell_type": "code",
   "execution_count": 13,
   "metadata": {
    "ExecuteTime": {
     "end_time": "2024-04-02T15:27:36.883254Z",
     "start_time": "2024-04-02T15:27:36.878848Z"
    }
   },
   "outputs": [],
   "source": [
    "delivary['total_run'] = pd.to_numeric(delivary['total_run'], errors='coerce')\n"
   ]
  },
  {
   "cell_type": "code",
   "execution_count": 14,
   "metadata": {
    "ExecuteTime": {
     "end_time": "2024-04-02T15:27:37.017402Z",
     "start_time": "2024-04-02T15:27:36.884251Z"
    }
   },
   "outputs": [],
   "source": [
    "total_score = delivary.groupby(['ID', 'innings']).sum()['total_run'].reset_index()"
   ]
  },
  {
   "cell_type": "code",
   "execution_count": 15,
   "metadata": {
    "ExecuteTime": {
     "end_time": "2024-04-02T15:27:37.022108Z",
     "start_time": "2024-04-02T15:27:37.017402Z"
    }
   },
   "outputs": [
    {
     "data": {
      "text/plain": "(1928, 3)"
     },
     "execution_count": 15,
     "metadata": {},
     "output_type": "execute_result"
    }
   ],
   "source": [
    "total_score.shape"
   ]
  },
  {
   "cell_type": "code",
   "execution_count": 16,
   "metadata": {
    "ExecuteTime": {
     "end_time": "2024-04-02T15:27:37.027320Z",
     "start_time": "2024-04-02T15:27:37.023106Z"
    }
   },
   "outputs": [],
   "source": [
    "total_score = total_score[total_score['innings']==1]"
   ]
  },
  {
   "cell_type": "code",
   "execution_count": 17,
   "metadata": {
    "ExecuteTime": {
     "end_time": "2024-04-02T15:27:37.035469Z",
     "start_time": "2024-04-02T15:27:37.028318Z"
    }
   },
   "outputs": [],
   "source": [
    "match_df = match.merge(total_score[['ID', 'total_run']], left_on='ID', right_on='ID')"
   ]
  },
  {
   "cell_type": "code",
   "execution_count": 18,
   "metadata": {
    "ExecuteTime": {
     "end_time": "2024-04-02T15:27:37.039748Z",
     "start_time": "2024-04-02T15:27:37.036467Z"
    }
   },
   "outputs": [
    {
     "data": {
      "text/plain": "array(['Rajasthan Royals', 'Royal Challengers Bangalore',\n       'Sunrisers Hyderabad', 'Delhi Capitals', 'Chennai Super Kings',\n       'Gujarat Titans', 'Lucknow Super Giants', 'Kolkata Knight Riders',\n       'Punjab Kings', 'Mumbai Indians', 'Kings XI Punjab',\n       'Delhi Daredevils', 'Rising Pune Supergiant', 'Gujarat Lions',\n       'Rising Pune Supergiants', 'Pune Warriors', 'Deccan Chargers',\n       'Kochi Tuskers Kerala'], dtype=object)"
     },
     "execution_count": 18,
     "metadata": {},
     "output_type": "execute_result"
    }
   ],
   "source": [
    "match_df['Team1'].unique()"
   ]
  },
  {
   "cell_type": "code",
   "execution_count": 19,
   "metadata": {
    "ExecuteTime": {
     "end_time": "2024-04-02T15:27:37.043721Z",
     "start_time": "2024-04-02T15:27:37.040746Z"
    }
   },
   "outputs": [],
   "source": [
    "teams = ['Rajasthan Royals',\n",
    "         'Kolkata Knight Riders',\n",
    "         'Chennai Super Kings',\n",
    "         'Mumbai Indians',\n",
    "         'Royal Challengers Bangalore',\n",
    "         'Sunrisers Hyderabad',\n",
    "         'Delhi Capitals',\n",
    "         'Punjab Kings',\n",
    "         'Lucknow Super Giants',\n",
    "         'Gujarat Titans']"
   ]
  },
  {
   "cell_type": "code",
   "execution_count": 20,
   "metadata": {
    "ExecuteTime": {
     "end_time": "2024-04-02T15:27:37.050323Z",
     "start_time": "2024-04-02T15:27:37.044719Z"
    }
   },
   "outputs": [],
   "source": [
    "match_df['Team1'] = match_df['Team1'].str.replace('Deccan Chargers', 'Sunrisers Hyderabad')\n",
    "match_df['Team2'] = match_df['Team2'].str.replace('Deccan Chargers', 'Sunrisers Hyderabad')\n",
    "\n",
    "match_df['Team1'] = match_df['Team1'].str.replace('Delhi Daredevils', 'Delhi Capitals')\n",
    "match_df['Team2'] = match_df['Team2'].str.replace('Delhi Daredevils', 'Delhi Capitals')\n",
    "\n",
    "match_df['Team1'] = match_df['Team1'].str.replace('Kings XI Punjab', 'Punjab Kings')\n",
    "match_df['Team2'] = match_df['Team2'].str.replace('Kings XI Punjab', 'Punjab Kings')"
   ]
  },
  {
   "cell_type": "code",
   "execution_count": 21,
   "metadata": {
    "ExecuteTime": {
     "end_time": "2024-04-02T15:27:37.054631Z",
     "start_time": "2024-04-02T15:27:37.051326Z"
    }
   },
   "outputs": [
    {
     "data": {
      "text/plain": "array(['Rajasthan Royals', 'Royal Challengers Bangalore',\n       'Sunrisers Hyderabad', 'Delhi Capitals', 'Chennai Super Kings',\n       'Gujarat Titans', 'Lucknow Super Giants', 'Kolkata Knight Riders',\n       'Punjab Kings', 'Mumbai Indians', 'Rising Pune Supergiant',\n       'Gujarat Lions', 'Rising Pune Supergiants', 'Pune Warriors',\n       'Kochi Tuskers Kerala'], dtype=object)"
     },
     "execution_count": 21,
     "metadata": {},
     "output_type": "execute_result"
    }
   ],
   "source": [
    "match_df['Team1'].unique()"
   ]
  },
  {
   "cell_type": "code",
   "execution_count": 22,
   "metadata": {
    "ExecuteTime": {
     "end_time": "2024-04-02T15:27:37.058532Z",
     "start_time": "2024-04-02T15:27:37.054631Z"
    }
   },
   "outputs": [
    {
     "data": {
      "text/plain": "array(['Gujarat Titans', 'Rajasthan Royals', 'Lucknow Super Giants',\n       'Punjab Kings', 'Mumbai Indians', 'Royal Challengers Bangalore',\n       'Kolkata Knight Riders', 'Sunrisers Hyderabad', 'Delhi Capitals',\n       'Chennai Super Kings', 'Rising Pune Supergiant', 'Gujarat Lions',\n       'Rising Pune Supergiants', 'Pune Warriors', 'Kochi Tuskers Kerala'],\n      dtype=object)"
     },
     "execution_count": 22,
     "metadata": {},
     "output_type": "execute_result"
    }
   ],
   "source": [
    "match_df['Team2'].unique()"
   ]
  },
  {
   "cell_type": "code",
   "execution_count": 23,
   "metadata": {
    "ExecuteTime": {
     "end_time": "2024-04-02T15:27:37.069208Z",
     "start_time": "2024-04-02T15:27:37.058532Z"
    }
   },
   "outputs": [
    {
     "data": {
      "text/plain": "        ID       City        Date Season  MatchNumber  \\\n0  1312200  Ahmedabad  2022-05-29   2022        Final   \n1  1312199  Ahmedabad  2022-05-27   2022  Qualifier 2   \n2  1312198    Kolkata  2022-05-25   2022   Eliminator   \n3  1312197    Kolkata  2022-05-24   2022  Qualifier 1   \n4  1304116     Mumbai  2022-05-22   2022           70   \n\n                         Team1                 Team2  \\\n0             Rajasthan Royals        Gujarat Titans   \n1  Royal Challengers Bangalore      Rajasthan Royals   \n2  Royal Challengers Bangalore  Lucknow Super Giants   \n3             Rajasthan Royals        Gujarat Titans   \n4          Sunrisers Hyderabad          Punjab Kings   \n\n                              Venue            TossWinner TossDecision  ...  \\\n0  Narendra Modi Stadium, Ahmedabad      Rajasthan Royals          bat  ...   \n1  Narendra Modi Stadium, Ahmedabad      Rajasthan Royals        field  ...   \n2             Eden Gardens, Kolkata  Lucknow Super Giants        field  ...   \n3             Eden Gardens, Kolkata        Gujarat Titans        field  ...   \n4          Wankhede Stadium, Mumbai   Sunrisers Hyderabad          bat  ...   \n\n                   WinningTeam    WonBy Margin  method Player_of_Match  \\\n0               Gujarat Titans  Wickets    7.0     NaN       HH Pandya   \n1             Rajasthan Royals  Wickets    7.0     NaN      JC Buttler   \n2  Royal Challengers Bangalore     Runs   14.0     NaN      RM Patidar   \n3               Gujarat Titans  Wickets    7.0     NaN       DA Miller   \n4                 Punjab Kings  Wickets    5.0     NaN   Harpreet Brar   \n\n                                        Team1Players  \\\n0  ['YBK Jaiswal', 'JC Buttler', 'SV Samson', 'D ...   \n1  ['V Kohli', 'F du Plessis', 'RM Patidar', 'GJ ...   \n2  ['V Kohli', 'F du Plessis', 'RM Patidar', 'GJ ...   \n3  ['YBK Jaiswal', 'JC Buttler', 'SV Samson', 'D ...   \n4  ['PK Garg', 'Abhishek Sharma', 'RA Tripathi', ...   \n\n                                        Team2Players        Umpire1  \\\n0  ['WP Saha', 'Shubman Gill', 'MS Wade', 'HH Pan...    CB Gaffaney   \n1  ['YBK Jaiswal', 'JC Buttler', 'SV Samson', 'D ...    CB Gaffaney   \n2  ['Q de Kock', 'KL Rahul', 'M Vohra', 'DJ Hooda...  J Madanagopal   \n3  ['WP Saha', 'Shubman Gill', 'MS Wade', 'HH Pan...   BNJ Oxenford   \n4  ['JM Bairstow', 'S Dhawan', 'M Shahrukh Khan',...   AK Chaudhary   \n\n         Umpire2 total_run  \n0    Nitin Menon       130  \n1    Nitin Menon       157  \n2       MA Gough       207  \n3      VK Sharma       188  \n4  NA Patwardhan       157  \n\n[5 rows x 21 columns]",
      "text/html": "<div>\n<style scoped>\n    .dataframe tbody tr th:only-of-type {\n        vertical-align: middle;\n    }\n\n    .dataframe tbody tr th {\n        vertical-align: top;\n    }\n\n    .dataframe thead th {\n        text-align: right;\n    }\n</style>\n<table border=\"1\" class=\"dataframe\">\n  <thead>\n    <tr style=\"text-align: right;\">\n      <th></th>\n      <th>ID</th>\n      <th>City</th>\n      <th>Date</th>\n      <th>Season</th>\n      <th>MatchNumber</th>\n      <th>Team1</th>\n      <th>Team2</th>\n      <th>Venue</th>\n      <th>TossWinner</th>\n      <th>TossDecision</th>\n      <th>...</th>\n      <th>WinningTeam</th>\n      <th>WonBy</th>\n      <th>Margin</th>\n      <th>method</th>\n      <th>Player_of_Match</th>\n      <th>Team1Players</th>\n      <th>Team2Players</th>\n      <th>Umpire1</th>\n      <th>Umpire2</th>\n      <th>total_run</th>\n    </tr>\n  </thead>\n  <tbody>\n    <tr>\n      <th>0</th>\n      <td>1312200</td>\n      <td>Ahmedabad</td>\n      <td>2022-05-29</td>\n      <td>2022</td>\n      <td>Final</td>\n      <td>Rajasthan Royals</td>\n      <td>Gujarat Titans</td>\n      <td>Narendra Modi Stadium, Ahmedabad</td>\n      <td>Rajasthan Royals</td>\n      <td>bat</td>\n      <td>...</td>\n      <td>Gujarat Titans</td>\n      <td>Wickets</td>\n      <td>7.0</td>\n      <td>NaN</td>\n      <td>HH Pandya</td>\n      <td>['YBK Jaiswal', 'JC Buttler', 'SV Samson', 'D ...</td>\n      <td>['WP Saha', 'Shubman Gill', 'MS Wade', 'HH Pan...</td>\n      <td>CB Gaffaney</td>\n      <td>Nitin Menon</td>\n      <td>130</td>\n    </tr>\n    <tr>\n      <th>1</th>\n      <td>1312199</td>\n      <td>Ahmedabad</td>\n      <td>2022-05-27</td>\n      <td>2022</td>\n      <td>Qualifier 2</td>\n      <td>Royal Challengers Bangalore</td>\n      <td>Rajasthan Royals</td>\n      <td>Narendra Modi Stadium, Ahmedabad</td>\n      <td>Rajasthan Royals</td>\n      <td>field</td>\n      <td>...</td>\n      <td>Rajasthan Royals</td>\n      <td>Wickets</td>\n      <td>7.0</td>\n      <td>NaN</td>\n      <td>JC Buttler</td>\n      <td>['V Kohli', 'F du Plessis', 'RM Patidar', 'GJ ...</td>\n      <td>['YBK Jaiswal', 'JC Buttler', 'SV Samson', 'D ...</td>\n      <td>CB Gaffaney</td>\n      <td>Nitin Menon</td>\n      <td>157</td>\n    </tr>\n    <tr>\n      <th>2</th>\n      <td>1312198</td>\n      <td>Kolkata</td>\n      <td>2022-05-25</td>\n      <td>2022</td>\n      <td>Eliminator</td>\n      <td>Royal Challengers Bangalore</td>\n      <td>Lucknow Super Giants</td>\n      <td>Eden Gardens, Kolkata</td>\n      <td>Lucknow Super Giants</td>\n      <td>field</td>\n      <td>...</td>\n      <td>Royal Challengers Bangalore</td>\n      <td>Runs</td>\n      <td>14.0</td>\n      <td>NaN</td>\n      <td>RM Patidar</td>\n      <td>['V Kohli', 'F du Plessis', 'RM Patidar', 'GJ ...</td>\n      <td>['Q de Kock', 'KL Rahul', 'M Vohra', 'DJ Hooda...</td>\n      <td>J Madanagopal</td>\n      <td>MA Gough</td>\n      <td>207</td>\n    </tr>\n    <tr>\n      <th>3</th>\n      <td>1312197</td>\n      <td>Kolkata</td>\n      <td>2022-05-24</td>\n      <td>2022</td>\n      <td>Qualifier 1</td>\n      <td>Rajasthan Royals</td>\n      <td>Gujarat Titans</td>\n      <td>Eden Gardens, Kolkata</td>\n      <td>Gujarat Titans</td>\n      <td>field</td>\n      <td>...</td>\n      <td>Gujarat Titans</td>\n      <td>Wickets</td>\n      <td>7.0</td>\n      <td>NaN</td>\n      <td>DA Miller</td>\n      <td>['YBK Jaiswal', 'JC Buttler', 'SV Samson', 'D ...</td>\n      <td>['WP Saha', 'Shubman Gill', 'MS Wade', 'HH Pan...</td>\n      <td>BNJ Oxenford</td>\n      <td>VK Sharma</td>\n      <td>188</td>\n    </tr>\n    <tr>\n      <th>4</th>\n      <td>1304116</td>\n      <td>Mumbai</td>\n      <td>2022-05-22</td>\n      <td>2022</td>\n      <td>70</td>\n      <td>Sunrisers Hyderabad</td>\n      <td>Punjab Kings</td>\n      <td>Wankhede Stadium, Mumbai</td>\n      <td>Sunrisers Hyderabad</td>\n      <td>bat</td>\n      <td>...</td>\n      <td>Punjab Kings</td>\n      <td>Wickets</td>\n      <td>5.0</td>\n      <td>NaN</td>\n      <td>Harpreet Brar</td>\n      <td>['PK Garg', 'Abhishek Sharma', 'RA Tripathi', ...</td>\n      <td>['JM Bairstow', 'S Dhawan', 'M Shahrukh Khan',...</td>\n      <td>AK Chaudhary</td>\n      <td>NA Patwardhan</td>\n      <td>157</td>\n    </tr>\n  </tbody>\n</table>\n<p>5 rows × 21 columns</p>\n</div>"
     },
     "execution_count": 23,
     "metadata": {},
     "output_type": "execute_result"
    }
   ],
   "source": [
    "match_df.head()"
   ]
  },
  {
   "cell_type": "code",
   "execution_count": 24,
   "metadata": {
    "ExecuteTime": {
     "end_time": "2024-04-02T15:27:37.074227Z",
     "start_time": "2024-04-02T15:27:37.069208Z"
    }
   },
   "outputs": [],
   "source": [
    "match_df = match_df[match_df['Team1'].isin(teams)]\n",
    "match_df = match_df[match_df['Team2'].isin(teams)]"
   ]
  },
  {
   "cell_type": "code",
   "execution_count": 25,
   "metadata": {
    "ExecuteTime": {
     "end_time": "2024-04-02T15:27:37.078280Z",
     "start_time": "2024-04-02T15:27:37.075226Z"
    }
   },
   "outputs": [
    {
     "data": {
      "text/plain": "array(['Rajasthan Royals', 'Royal Challengers Bangalore',\n       'Sunrisers Hyderabad', 'Delhi Capitals', 'Chennai Super Kings',\n       'Gujarat Titans', 'Lucknow Super Giants', 'Kolkata Knight Riders',\n       'Punjab Kings', 'Mumbai Indians'], dtype=object)"
     },
     "execution_count": 25,
     "metadata": {},
     "output_type": "execute_result"
    }
   ],
   "source": [
    "match_df['Team1'].unique()"
   ]
  },
  {
   "cell_type": "code",
   "execution_count": 26,
   "metadata": {
    "ExecuteTime": {
     "end_time": "2024-04-02T15:27:37.082486Z",
     "start_time": "2024-04-02T15:27:37.079279Z"
    }
   },
   "outputs": [
    {
     "data": {
      "text/plain": "array(['Gujarat Titans', 'Rajasthan Royals', 'Lucknow Super Giants',\n       'Punjab Kings', 'Mumbai Indians', 'Royal Challengers Bangalore',\n       'Kolkata Knight Riders', 'Sunrisers Hyderabad', 'Delhi Capitals',\n       'Chennai Super Kings'], dtype=object)"
     },
     "execution_count": 26,
     "metadata": {},
     "output_type": "execute_result"
    }
   ],
   "source": [
    "match_df['Team2'].unique()"
   ]
  },
  {
   "cell_type": "code",
   "execution_count": 27,
   "metadata": {
    "ExecuteTime": {
     "end_time": "2024-04-02T15:27:37.086916Z",
     "start_time": "2024-04-02T15:27:37.083485Z"
    }
   },
   "outputs": [
    {
     "data": {
      "text/plain": "Index(['ID', 'City', 'Date', 'Season', 'MatchNumber', 'Team1', 'Team2',\n       'Venue', 'TossWinner', 'TossDecision', 'SuperOver', 'WinningTeam',\n       'WonBy', 'Margin', 'method', 'Player_of_Match', 'Team1Players',\n       'Team2Players', 'Umpire1', 'Umpire2', 'total_run'],\n      dtype='object')"
     },
     "execution_count": 27,
     "metadata": {},
     "output_type": "execute_result"
    }
   ],
   "source": [
    "match_df.columns"
   ]
  },
  {
   "cell_type": "code",
   "execution_count": 28,
   "metadata": {
    "ExecuteTime": {
     "end_time": "2024-04-02T15:27:37.090913Z",
     "start_time": "2024-04-02T15:27:37.087915Z"
    }
   },
   "outputs": [],
   "source": [
    "match_df = match_df[['ID','City', 'WinningTeam', 'total_run']]"
   ]
  },
  {
   "cell_type": "code",
   "execution_count": 29,
   "metadata": {
    "ExecuteTime": {
     "end_time": "2024-04-02T15:27:37.158627Z",
     "start_time": "2024-04-02T15:27:37.091911Z"
    }
   },
   "outputs": [],
   "source": [
    "delivary_df = match_df.merge(delivary, on='ID')"
   ]
  },
  {
   "cell_type": "code",
   "execution_count": 30,
   "metadata": {
    "ExecuteTime": {
     "end_time": "2024-04-02T15:27:37.182309Z",
     "start_time": "2024-04-02T15:27:37.158627Z"
    }
   },
   "outputs": [],
   "source": [
    "delivary_df = delivary_df[delivary_df['innings']==2]"
   ]
  },
  {
   "cell_type": "code",
   "execution_count": 31,
   "metadata": {
    "ExecuteTime": {
     "end_time": "2024-04-02T15:27:37.187628Z",
     "start_time": "2024-04-02T15:27:37.183307Z"
    }
   },
   "outputs": [
    {
     "data": {
      "text/plain": "(95974, 20)"
     },
     "execution_count": 31,
     "metadata": {},
     "output_type": "execute_result"
    }
   ],
   "source": [
    "delivary_df.shape"
   ]
  },
  {
   "cell_type": "code",
   "execution_count": 32,
   "metadata": {
    "ExecuteTime": {
     "end_time": "2024-04-02T15:27:37.191780Z",
     "start_time": "2024-04-02T15:27:37.187628Z"
    }
   },
   "outputs": [
    {
     "data": {
      "text/plain": "Index(['ID', 'City', 'WinningTeam', 'total_run_x', 'innings', 'overs',\n       'ballnumber', 'batter', 'bowler', 'non-striker', 'extra_type',\n       'batsman_run', 'extras_run', 'total_run_y', 'non_boundary',\n       'isWicketDelivery', 'player_out', 'kind', 'fielders_involved',\n       'BattingTeam'],\n      dtype='object')"
     },
     "execution_count": 32,
     "metadata": {},
     "output_type": "execute_result"
    }
   ],
   "source": [
    "delivary_df.columns"
   ]
  },
  {
   "cell_type": "code",
   "execution_count": 33,
   "metadata": {
    "ExecuteTime": {
     "end_time": "2024-04-02T15:27:37.200290Z",
     "start_time": "2024-04-02T15:27:37.192778Z"
    }
   },
   "outputs": [
    {
     "data": {
      "text/plain": "          ID       City     WinningTeam  total_run_x  innings  overs  \\\n120  1312200  Ahmedabad  Gujarat Titans          130        2      0   \n121  1312200  Ahmedabad  Gujarat Titans          130        2      0   \n122  1312200  Ahmedabad  Gujarat Titans          130        2      0   \n123  1312200  Ahmedabad  Gujarat Titans          130        2      0   \n124  1312200  Ahmedabad  Gujarat Titans          130        2      0   \n\n     ballnumber        batter    bowler   non-striker extra_type  batsman_run  \\\n120           1       WP Saha  TA Boult  Shubman Gill        NaN            0   \n121           2       WP Saha  TA Boult  Shubman Gill        NaN            0   \n122           3       WP Saha  TA Boult  Shubman Gill        NaN            1   \n123           4  Shubman Gill  TA Boult       WP Saha        NaN            0   \n124           5  Shubman Gill  TA Boult       WP Saha        NaN            0   \n\n     extras_run  total_run_y  non_boundary  isWicketDelivery player_out kind  \\\n120           0            0             0                 0        NaN  NaN   \n121           0            0             0                 0        NaN  NaN   \n122           0            1             0                 0        NaN  NaN   \n123           0            0             0                 0        NaN  NaN   \n124           0            0             0                 0        NaN  NaN   \n\n    fielders_involved     BattingTeam  \n120               NaN  Gujarat Titans  \n121               NaN  Gujarat Titans  \n122               NaN  Gujarat Titans  \n123               NaN  Gujarat Titans  \n124               NaN  Gujarat Titans  ",
      "text/html": "<div>\n<style scoped>\n    .dataframe tbody tr th:only-of-type {\n        vertical-align: middle;\n    }\n\n    .dataframe tbody tr th {\n        vertical-align: top;\n    }\n\n    .dataframe thead th {\n        text-align: right;\n    }\n</style>\n<table border=\"1\" class=\"dataframe\">\n  <thead>\n    <tr style=\"text-align: right;\">\n      <th></th>\n      <th>ID</th>\n      <th>City</th>\n      <th>WinningTeam</th>\n      <th>total_run_x</th>\n      <th>innings</th>\n      <th>overs</th>\n      <th>ballnumber</th>\n      <th>batter</th>\n      <th>bowler</th>\n      <th>non-striker</th>\n      <th>extra_type</th>\n      <th>batsman_run</th>\n      <th>extras_run</th>\n      <th>total_run_y</th>\n      <th>non_boundary</th>\n      <th>isWicketDelivery</th>\n      <th>player_out</th>\n      <th>kind</th>\n      <th>fielders_involved</th>\n      <th>BattingTeam</th>\n    </tr>\n  </thead>\n  <tbody>\n    <tr>\n      <th>120</th>\n      <td>1312200</td>\n      <td>Ahmedabad</td>\n      <td>Gujarat Titans</td>\n      <td>130</td>\n      <td>2</td>\n      <td>0</td>\n      <td>1</td>\n      <td>WP Saha</td>\n      <td>TA Boult</td>\n      <td>Shubman Gill</td>\n      <td>NaN</td>\n      <td>0</td>\n      <td>0</td>\n      <td>0</td>\n      <td>0</td>\n      <td>0</td>\n      <td>NaN</td>\n      <td>NaN</td>\n      <td>NaN</td>\n      <td>Gujarat Titans</td>\n    </tr>\n    <tr>\n      <th>121</th>\n      <td>1312200</td>\n      <td>Ahmedabad</td>\n      <td>Gujarat Titans</td>\n      <td>130</td>\n      <td>2</td>\n      <td>0</td>\n      <td>2</td>\n      <td>WP Saha</td>\n      <td>TA Boult</td>\n      <td>Shubman Gill</td>\n      <td>NaN</td>\n      <td>0</td>\n      <td>0</td>\n      <td>0</td>\n      <td>0</td>\n      <td>0</td>\n      <td>NaN</td>\n      <td>NaN</td>\n      <td>NaN</td>\n      <td>Gujarat Titans</td>\n    </tr>\n    <tr>\n      <th>122</th>\n      <td>1312200</td>\n      <td>Ahmedabad</td>\n      <td>Gujarat Titans</td>\n      <td>130</td>\n      <td>2</td>\n      <td>0</td>\n      <td>3</td>\n      <td>WP Saha</td>\n      <td>TA Boult</td>\n      <td>Shubman Gill</td>\n      <td>NaN</td>\n      <td>1</td>\n      <td>0</td>\n      <td>1</td>\n      <td>0</td>\n      <td>0</td>\n      <td>NaN</td>\n      <td>NaN</td>\n      <td>NaN</td>\n      <td>Gujarat Titans</td>\n    </tr>\n    <tr>\n      <th>123</th>\n      <td>1312200</td>\n      <td>Ahmedabad</td>\n      <td>Gujarat Titans</td>\n      <td>130</td>\n      <td>2</td>\n      <td>0</td>\n      <td>4</td>\n      <td>Shubman Gill</td>\n      <td>TA Boult</td>\n      <td>WP Saha</td>\n      <td>NaN</td>\n      <td>0</td>\n      <td>0</td>\n      <td>0</td>\n      <td>0</td>\n      <td>0</td>\n      <td>NaN</td>\n      <td>NaN</td>\n      <td>NaN</td>\n      <td>Gujarat Titans</td>\n    </tr>\n    <tr>\n      <th>124</th>\n      <td>1312200</td>\n      <td>Ahmedabad</td>\n      <td>Gujarat Titans</td>\n      <td>130</td>\n      <td>2</td>\n      <td>0</td>\n      <td>5</td>\n      <td>Shubman Gill</td>\n      <td>TA Boult</td>\n      <td>WP Saha</td>\n      <td>NaN</td>\n      <td>0</td>\n      <td>0</td>\n      <td>0</td>\n      <td>0</td>\n      <td>0</td>\n      <td>NaN</td>\n      <td>NaN</td>\n      <td>NaN</td>\n      <td>Gujarat Titans</td>\n    </tr>\n  </tbody>\n</table>\n</div>"
     },
     "execution_count": 33,
     "metadata": {},
     "output_type": "execute_result"
    }
   ],
   "source": [
    "delivary_df.head()"
   ]
  },
  {
   "cell_type": "code",
   "execution_count": 34,
   "metadata": {
    "ExecuteTime": {
     "end_time": "2024-04-02T15:27:37.205272Z",
     "start_time": "2024-04-02T15:27:37.201288Z"
    }
   },
   "outputs": [],
   "source": [
    "delivary_df['total_run_y'] = delivary_df['total_run_y'].astype(int)\n",
    "delivary_df['total_run_y'] = pd.to_numeric(delivary_df['total_run_y'], errors='coerce').fillna(0)"
   ]
  },
  {
   "cell_type": "code",
   "execution_count": 35,
   "metadata": {
    "ExecuteTime": {
     "end_time": "2024-04-02T15:27:37.224210Z",
     "start_time": "2024-04-02T15:27:37.216237Z"
    }
   },
   "outputs": [],
   "source": [
    "# Perform the cumulative sum\n",
    "delivary_df['current_score'] = delivary_df.groupby('ID')['total_run_y'].cumsum()"
   ]
  },
  {
   "cell_type": "code",
   "execution_count": 36,
   "metadata": {
    "ExecuteTime": {
     "end_time": "2024-04-02T15:27:37.462542Z",
     "start_time": "2024-04-02T15:27:37.457819Z"
    }
   },
   "outputs": [
    {
     "data": {
      "text/plain": "120       0\n121       0\n122       1\n123       0\n124       0\n         ..\n198930    1\n198931    1\n198932    0\n198933    1\n198934    0\nName: total_run_y, Length: 95974, dtype: int32"
     },
     "execution_count": 36,
     "metadata": {},
     "output_type": "execute_result"
    }
   ],
   "source": [
    "delivary_df['total_run_y']"
   ]
  },
  {
   "cell_type": "code",
   "execution_count": 37,
   "metadata": {
    "ExecuteTime": {
     "end_time": "2024-04-02T15:27:37.566845Z",
     "start_time": "2024-04-02T15:27:37.556232Z"
    }
   },
   "outputs": [
    {
     "data": {
      "text/plain": "          ID       City     WinningTeam  total_run_x  innings  overs  \\\n120  1312200  Ahmedabad  Gujarat Titans          130        2      0   \n121  1312200  Ahmedabad  Gujarat Titans          130        2      0   \n122  1312200  Ahmedabad  Gujarat Titans          130        2      0   \n123  1312200  Ahmedabad  Gujarat Titans          130        2      0   \n124  1312200  Ahmedabad  Gujarat Titans          130        2      0   \n\n     ballnumber        batter    bowler   non-striker  ... batsman_run  \\\n120           1       WP Saha  TA Boult  Shubman Gill  ...           0   \n121           2       WP Saha  TA Boult  Shubman Gill  ...           0   \n122           3       WP Saha  TA Boult  Shubman Gill  ...           1   \n123           4  Shubman Gill  TA Boult       WP Saha  ...           0   \n124           5  Shubman Gill  TA Boult       WP Saha  ...           0   \n\n     extras_run  total_run_y  non_boundary  isWicketDelivery  player_out kind  \\\n120           0            0             0                 0         NaN  NaN   \n121           0            0             0                 0         NaN  NaN   \n122           0            1             0                 0         NaN  NaN   \n123           0            0             0                 0         NaN  NaN   \n124           0            0             0                 0         NaN  NaN   \n\n    fielders_involved     BattingTeam current_score  \n120               NaN  Gujarat Titans             0  \n121               NaN  Gujarat Titans             0  \n122               NaN  Gujarat Titans             1  \n123               NaN  Gujarat Titans             1  \n124               NaN  Gujarat Titans             1  \n\n[5 rows x 21 columns]",
      "text/html": "<div>\n<style scoped>\n    .dataframe tbody tr th:only-of-type {\n        vertical-align: middle;\n    }\n\n    .dataframe tbody tr th {\n        vertical-align: top;\n    }\n\n    .dataframe thead th {\n        text-align: right;\n    }\n</style>\n<table border=\"1\" class=\"dataframe\">\n  <thead>\n    <tr style=\"text-align: right;\">\n      <th></th>\n      <th>ID</th>\n      <th>City</th>\n      <th>WinningTeam</th>\n      <th>total_run_x</th>\n      <th>innings</th>\n      <th>overs</th>\n      <th>ballnumber</th>\n      <th>batter</th>\n      <th>bowler</th>\n      <th>non-striker</th>\n      <th>...</th>\n      <th>batsman_run</th>\n      <th>extras_run</th>\n      <th>total_run_y</th>\n      <th>non_boundary</th>\n      <th>isWicketDelivery</th>\n      <th>player_out</th>\n      <th>kind</th>\n      <th>fielders_involved</th>\n      <th>BattingTeam</th>\n      <th>current_score</th>\n    </tr>\n  </thead>\n  <tbody>\n    <tr>\n      <th>120</th>\n      <td>1312200</td>\n      <td>Ahmedabad</td>\n      <td>Gujarat Titans</td>\n      <td>130</td>\n      <td>2</td>\n      <td>0</td>\n      <td>1</td>\n      <td>WP Saha</td>\n      <td>TA Boult</td>\n      <td>Shubman Gill</td>\n      <td>...</td>\n      <td>0</td>\n      <td>0</td>\n      <td>0</td>\n      <td>0</td>\n      <td>0</td>\n      <td>NaN</td>\n      <td>NaN</td>\n      <td>NaN</td>\n      <td>Gujarat Titans</td>\n      <td>0</td>\n    </tr>\n    <tr>\n      <th>121</th>\n      <td>1312200</td>\n      <td>Ahmedabad</td>\n      <td>Gujarat Titans</td>\n      <td>130</td>\n      <td>2</td>\n      <td>0</td>\n      <td>2</td>\n      <td>WP Saha</td>\n      <td>TA Boult</td>\n      <td>Shubman Gill</td>\n      <td>...</td>\n      <td>0</td>\n      <td>0</td>\n      <td>0</td>\n      <td>0</td>\n      <td>0</td>\n      <td>NaN</td>\n      <td>NaN</td>\n      <td>NaN</td>\n      <td>Gujarat Titans</td>\n      <td>0</td>\n    </tr>\n    <tr>\n      <th>122</th>\n      <td>1312200</td>\n      <td>Ahmedabad</td>\n      <td>Gujarat Titans</td>\n      <td>130</td>\n      <td>2</td>\n      <td>0</td>\n      <td>3</td>\n      <td>WP Saha</td>\n      <td>TA Boult</td>\n      <td>Shubman Gill</td>\n      <td>...</td>\n      <td>1</td>\n      <td>0</td>\n      <td>1</td>\n      <td>0</td>\n      <td>0</td>\n      <td>NaN</td>\n      <td>NaN</td>\n      <td>NaN</td>\n      <td>Gujarat Titans</td>\n      <td>1</td>\n    </tr>\n    <tr>\n      <th>123</th>\n      <td>1312200</td>\n      <td>Ahmedabad</td>\n      <td>Gujarat Titans</td>\n      <td>130</td>\n      <td>2</td>\n      <td>0</td>\n      <td>4</td>\n      <td>Shubman Gill</td>\n      <td>TA Boult</td>\n      <td>WP Saha</td>\n      <td>...</td>\n      <td>0</td>\n      <td>0</td>\n      <td>0</td>\n      <td>0</td>\n      <td>0</td>\n      <td>NaN</td>\n      <td>NaN</td>\n      <td>NaN</td>\n      <td>Gujarat Titans</td>\n      <td>1</td>\n    </tr>\n    <tr>\n      <th>124</th>\n      <td>1312200</td>\n      <td>Ahmedabad</td>\n      <td>Gujarat Titans</td>\n      <td>130</td>\n      <td>2</td>\n      <td>0</td>\n      <td>5</td>\n      <td>Shubman Gill</td>\n      <td>TA Boult</td>\n      <td>WP Saha</td>\n      <td>...</td>\n      <td>0</td>\n      <td>0</td>\n      <td>0</td>\n      <td>0</td>\n      <td>0</td>\n      <td>NaN</td>\n      <td>NaN</td>\n      <td>NaN</td>\n      <td>Gujarat Titans</td>\n      <td>1</td>\n    </tr>\n  </tbody>\n</table>\n<p>5 rows × 21 columns</p>\n</div>"
     },
     "execution_count": 37,
     "metadata": {},
     "output_type": "execute_result"
    }
   ],
   "source": [
    "delivary_df.head()"
   ]
  },
  {
   "cell_type": "code",
   "execution_count": 38,
   "metadata": {
    "ExecuteTime": {
     "end_time": "2024-04-02T15:27:37.616137Z",
     "start_time": "2024-04-02T15:27:37.611699Z"
    }
   },
   "outputs": [],
   "source": [
    "delivary_df['Runs_Lefts'] = delivary_df['total_run_x'] - delivary_df['current_score']"
   ]
  },
  {
   "cell_type": "code",
   "execution_count": 39,
   "metadata": {
    "ExecuteTime": {
     "end_time": "2024-04-02T15:27:37.685839Z",
     "start_time": "2024-04-02T15:27:37.676279Z"
    }
   },
   "outputs": [
    {
     "data": {
      "text/plain": "          ID       City     WinningTeam  total_run_x  innings  overs  \\\n120  1312200  Ahmedabad  Gujarat Titans          130        2      0   \n121  1312200  Ahmedabad  Gujarat Titans          130        2      0   \n122  1312200  Ahmedabad  Gujarat Titans          130        2      0   \n123  1312200  Ahmedabad  Gujarat Titans          130        2      0   \n124  1312200  Ahmedabad  Gujarat Titans          130        2      0   \n\n     ballnumber        batter    bowler   non-striker  ... extras_run  \\\n120           1       WP Saha  TA Boult  Shubman Gill  ...          0   \n121           2       WP Saha  TA Boult  Shubman Gill  ...          0   \n122           3       WP Saha  TA Boult  Shubman Gill  ...          0   \n123           4  Shubman Gill  TA Boult       WP Saha  ...          0   \n124           5  Shubman Gill  TA Boult       WP Saha  ...          0   \n\n     total_run_y  non_boundary  isWicketDelivery  player_out  kind  \\\n120            0             0                 0         NaN   NaN   \n121            0             0                 0         NaN   NaN   \n122            1             0                 0         NaN   NaN   \n123            0             0                 0         NaN   NaN   \n124            0             0                 0         NaN   NaN   \n\n    fielders_involved     BattingTeam current_score Runs_Lefts  \n120               NaN  Gujarat Titans             0        130  \n121               NaN  Gujarat Titans             0        130  \n122               NaN  Gujarat Titans             1        129  \n123               NaN  Gujarat Titans             1        129  \n124               NaN  Gujarat Titans             1        129  \n\n[5 rows x 22 columns]",
      "text/html": "<div>\n<style scoped>\n    .dataframe tbody tr th:only-of-type {\n        vertical-align: middle;\n    }\n\n    .dataframe tbody tr th {\n        vertical-align: top;\n    }\n\n    .dataframe thead th {\n        text-align: right;\n    }\n</style>\n<table border=\"1\" class=\"dataframe\">\n  <thead>\n    <tr style=\"text-align: right;\">\n      <th></th>\n      <th>ID</th>\n      <th>City</th>\n      <th>WinningTeam</th>\n      <th>total_run_x</th>\n      <th>innings</th>\n      <th>overs</th>\n      <th>ballnumber</th>\n      <th>batter</th>\n      <th>bowler</th>\n      <th>non-striker</th>\n      <th>...</th>\n      <th>extras_run</th>\n      <th>total_run_y</th>\n      <th>non_boundary</th>\n      <th>isWicketDelivery</th>\n      <th>player_out</th>\n      <th>kind</th>\n      <th>fielders_involved</th>\n      <th>BattingTeam</th>\n      <th>current_score</th>\n      <th>Runs_Lefts</th>\n    </tr>\n  </thead>\n  <tbody>\n    <tr>\n      <th>120</th>\n      <td>1312200</td>\n      <td>Ahmedabad</td>\n      <td>Gujarat Titans</td>\n      <td>130</td>\n      <td>2</td>\n      <td>0</td>\n      <td>1</td>\n      <td>WP Saha</td>\n      <td>TA Boult</td>\n      <td>Shubman Gill</td>\n      <td>...</td>\n      <td>0</td>\n      <td>0</td>\n      <td>0</td>\n      <td>0</td>\n      <td>NaN</td>\n      <td>NaN</td>\n      <td>NaN</td>\n      <td>Gujarat Titans</td>\n      <td>0</td>\n      <td>130</td>\n    </tr>\n    <tr>\n      <th>121</th>\n      <td>1312200</td>\n      <td>Ahmedabad</td>\n      <td>Gujarat Titans</td>\n      <td>130</td>\n      <td>2</td>\n      <td>0</td>\n      <td>2</td>\n      <td>WP Saha</td>\n      <td>TA Boult</td>\n      <td>Shubman Gill</td>\n      <td>...</td>\n      <td>0</td>\n      <td>0</td>\n      <td>0</td>\n      <td>0</td>\n      <td>NaN</td>\n      <td>NaN</td>\n      <td>NaN</td>\n      <td>Gujarat Titans</td>\n      <td>0</td>\n      <td>130</td>\n    </tr>\n    <tr>\n      <th>122</th>\n      <td>1312200</td>\n      <td>Ahmedabad</td>\n      <td>Gujarat Titans</td>\n      <td>130</td>\n      <td>2</td>\n      <td>0</td>\n      <td>3</td>\n      <td>WP Saha</td>\n      <td>TA Boult</td>\n      <td>Shubman Gill</td>\n      <td>...</td>\n      <td>0</td>\n      <td>1</td>\n      <td>0</td>\n      <td>0</td>\n      <td>NaN</td>\n      <td>NaN</td>\n      <td>NaN</td>\n      <td>Gujarat Titans</td>\n      <td>1</td>\n      <td>129</td>\n    </tr>\n    <tr>\n      <th>123</th>\n      <td>1312200</td>\n      <td>Ahmedabad</td>\n      <td>Gujarat Titans</td>\n      <td>130</td>\n      <td>2</td>\n      <td>0</td>\n      <td>4</td>\n      <td>Shubman Gill</td>\n      <td>TA Boult</td>\n      <td>WP Saha</td>\n      <td>...</td>\n      <td>0</td>\n      <td>0</td>\n      <td>0</td>\n      <td>0</td>\n      <td>NaN</td>\n      <td>NaN</td>\n      <td>NaN</td>\n      <td>Gujarat Titans</td>\n      <td>1</td>\n      <td>129</td>\n    </tr>\n    <tr>\n      <th>124</th>\n      <td>1312200</td>\n      <td>Ahmedabad</td>\n      <td>Gujarat Titans</td>\n      <td>130</td>\n      <td>2</td>\n      <td>0</td>\n      <td>5</td>\n      <td>Shubman Gill</td>\n      <td>TA Boult</td>\n      <td>WP Saha</td>\n      <td>...</td>\n      <td>0</td>\n      <td>0</td>\n      <td>0</td>\n      <td>0</td>\n      <td>NaN</td>\n      <td>NaN</td>\n      <td>NaN</td>\n      <td>Gujarat Titans</td>\n      <td>1</td>\n      <td>129</td>\n    </tr>\n  </tbody>\n</table>\n<p>5 rows × 22 columns</p>\n</div>"
     },
     "execution_count": 39,
     "metadata": {},
     "output_type": "execute_result"
    }
   ],
   "source": [
    "delivary_df.head()"
   ]
  },
  {
   "cell_type": "code",
   "execution_count": 40,
   "metadata": {
    "ExecuteTime": {
     "end_time": "2024-04-02T15:27:37.721948Z",
     "start_time": "2024-04-02T15:27:37.717734Z"
    }
   },
   "outputs": [],
   "source": [
    "delivary_df['Balls_Lefts'] = 120 - (delivary_df['overs'] * 6 + delivary_df['ballnumber'])"
   ]
  },
  {
   "cell_type": "code",
   "execution_count": 41,
   "metadata": {
    "ExecuteTime": {
     "end_time": "2024-04-02T15:27:37.784074Z",
     "start_time": "2024-04-02T15:27:37.769651Z"
    }
   },
   "outputs": [
    {
     "data": {
      "text/plain": "          ID       City     WinningTeam  total_run_x  innings  overs  \\\n120  1312200  Ahmedabad  Gujarat Titans          130        2      0   \n121  1312200  Ahmedabad  Gujarat Titans          130        2      0   \n122  1312200  Ahmedabad  Gujarat Titans          130        2      0   \n123  1312200  Ahmedabad  Gujarat Titans          130        2      0   \n124  1312200  Ahmedabad  Gujarat Titans          130        2      0   \n125  1312200  Ahmedabad  Gujarat Titans          130        2      0   \n126  1312200  Ahmedabad  Gujarat Titans          130        2      1   \n127  1312200  Ahmedabad  Gujarat Titans          130        2      1   \n128  1312200  Ahmedabad  Gujarat Titans          130        2      1   \n129  1312200  Ahmedabad  Gujarat Titans          130        2      1   \n130  1312200  Ahmedabad  Gujarat Titans          130        2      1   \n131  1312200  Ahmedabad  Gujarat Titans          130        2      1   \n132  1312200  Ahmedabad  Gujarat Titans          130        2      2   \n133  1312200  Ahmedabad  Gujarat Titans          130        2      2   \n134  1312200  Ahmedabad  Gujarat Titans          130        2      2   \n135  1312200  Ahmedabad  Gujarat Titans          130        2      2   \n136  1312200  Ahmedabad  Gujarat Titans          130        2      2   \n137  1312200  Ahmedabad  Gujarat Titans          130        2      2   \n138  1312200  Ahmedabad  Gujarat Titans          130        2      3   \n139  1312200  Ahmedabad  Gujarat Titans          130        2      3   \n140  1312200  Ahmedabad  Gujarat Titans          130        2      3   \n141  1312200  Ahmedabad  Gujarat Titans          130        2      3   \n142  1312200  Ahmedabad  Gujarat Titans          130        2      3   \n143  1312200  Ahmedabad  Gujarat Titans          130        2      3   \n144  1312200  Ahmedabad  Gujarat Titans          130        2      3   \n145  1312200  Ahmedabad  Gujarat Titans          130        2      4   \n146  1312200  Ahmedabad  Gujarat Titans          130        2      4   \n147  1312200  Ahmedabad  Gujarat Titans          130        2      4   \n148  1312200  Ahmedabad  Gujarat Titans          130        2      4   \n149  1312200  Ahmedabad  Gujarat Titans          130        2      4   \n\n     ballnumber        batter             bowler   non-striker  ...  \\\n120           1       WP Saha           TA Boult  Shubman Gill  ...   \n121           2       WP Saha           TA Boult  Shubman Gill  ...   \n122           3       WP Saha           TA Boult  Shubman Gill  ...   \n123           4  Shubman Gill           TA Boult       WP Saha  ...   \n124           5  Shubman Gill           TA Boult       WP Saha  ...   \n125           6  Shubman Gill           TA Boult       WP Saha  ...   \n126           1       WP Saha  M Prasidh Krishna  Shubman Gill  ...   \n127           2       WP Saha  M Prasidh Krishna  Shubman Gill  ...   \n128           3       WP Saha  M Prasidh Krishna  Shubman Gill  ...   \n129           4       WP Saha  M Prasidh Krishna  Shubman Gill  ...   \n130           5       MS Wade  M Prasidh Krishna  Shubman Gill  ...   \n131           6       MS Wade  M Prasidh Krishna  Shubman Gill  ...   \n132           1  Shubman Gill           TA Boult       MS Wade  ...   \n133           2  Shubman Gill           TA Boult       MS Wade  ...   \n134           3  Shubman Gill           TA Boult       MS Wade  ...   \n135           4  Shubman Gill           TA Boult       MS Wade  ...   \n136           5  Shubman Gill           TA Boult       MS Wade  ...   \n137           6  Shubman Gill           TA Boult       MS Wade  ...   \n138           1       MS Wade  M Prasidh Krishna  Shubman Gill  ...   \n139           2       MS Wade  M Prasidh Krishna  Shubman Gill  ...   \n140           3       MS Wade  M Prasidh Krishna  Shubman Gill  ...   \n141           4       MS Wade  M Prasidh Krishna  Shubman Gill  ...   \n142           5       MS Wade  M Prasidh Krishna  Shubman Gill  ...   \n143           6       MS Wade  M Prasidh Krishna  Shubman Gill  ...   \n144           7       MS Wade  M Prasidh Krishna  Shubman Gill  ...   \n145           1  Shubman Gill           TA Boult       MS Wade  ...   \n146           2       MS Wade           TA Boult  Shubman Gill  ...   \n147           3       MS Wade           TA Boult  Shubman Gill  ...   \n148           4     HH Pandya           TA Boult  Shubman Gill  ...   \n149           5     HH Pandya           TA Boult  Shubman Gill  ...   \n\n    total_run_y  non_boundary  isWicketDelivery  player_out    kind  \\\n120           0             0                 0         NaN     NaN   \n121           0             0                 0         NaN     NaN   \n122           1             0                 0         NaN     NaN   \n123           0             0                 0         NaN     NaN   \n124           0             0                 0         NaN     NaN   \n125           4             0                 0         NaN     NaN   \n126           0             0                 0         NaN     NaN   \n127           4             0                 0         NaN     NaN   \n128           0             0                 0         NaN     NaN   \n129           0             0                 1     WP Saha  bowled   \n130           2             0                 0         NaN     NaN   \n131           0             0                 0         NaN     NaN   \n132           0             0                 0         NaN     NaN   \n133           0             0                 0         NaN     NaN   \n134           0             0                 0         NaN     NaN   \n135           0             0                 0         NaN     NaN   \n136           0             0                 0         NaN     NaN   \n137           0             0                 0         NaN     NaN   \n138           5             0                 0         NaN     NaN   \n139           0             0                 0         NaN     NaN   \n140           0             0                 0         NaN     NaN   \n141           0             0                 0         NaN     NaN   \n142           6             0                 0         NaN     NaN   \n143           0             0                 0         NaN     NaN   \n144           0             0                 0         NaN     NaN   \n145           1             0                 0         NaN     NaN   \n146           0             0                 0         NaN     NaN   \n147           0             0                 1     MS Wade  caught   \n148           1             0                 0         NaN     NaN   \n149           0             0                 0         NaN     NaN   \n\n     fielders_involved     BattingTeam current_score Runs_Lefts Balls_Lefts  \n120                NaN  Gujarat Titans             0        130         119  \n121                NaN  Gujarat Titans             0        130         118  \n122                NaN  Gujarat Titans             1        129         117  \n123                NaN  Gujarat Titans             1        129         116  \n124                NaN  Gujarat Titans             1        129         115  \n125                NaN  Gujarat Titans             5        125         114  \n126                NaN  Gujarat Titans             5        125         113  \n127                NaN  Gujarat Titans             9        121         112  \n128                NaN  Gujarat Titans             9        121         111  \n129                NaN  Gujarat Titans             9        121         110  \n130                NaN  Gujarat Titans            11        119         109  \n131                NaN  Gujarat Titans            11        119         108  \n132                NaN  Gujarat Titans            11        119         107  \n133                NaN  Gujarat Titans            11        119         106  \n134                NaN  Gujarat Titans            11        119         105  \n135                NaN  Gujarat Titans            11        119         104  \n136                NaN  Gujarat Titans            11        119         103  \n137                NaN  Gujarat Titans            11        119         102  \n138                NaN  Gujarat Titans            16        114         101  \n139                NaN  Gujarat Titans            16        114         100  \n140                NaN  Gujarat Titans            16        114          99  \n141                NaN  Gujarat Titans            16        114          98  \n142                NaN  Gujarat Titans            22        108          97  \n143                NaN  Gujarat Titans            22        108          96  \n144                NaN  Gujarat Titans            22        108          95  \n145                NaN  Gujarat Titans            23        107          95  \n146                NaN  Gujarat Titans            23        107          94  \n147            R Parag  Gujarat Titans            23        107          93  \n148                NaN  Gujarat Titans            24        106          92  \n149                NaN  Gujarat Titans            24        106          91  \n\n[30 rows x 23 columns]",
      "text/html": "<div>\n<style scoped>\n    .dataframe tbody tr th:only-of-type {\n        vertical-align: middle;\n    }\n\n    .dataframe tbody tr th {\n        vertical-align: top;\n    }\n\n    .dataframe thead th {\n        text-align: right;\n    }\n</style>\n<table border=\"1\" class=\"dataframe\">\n  <thead>\n    <tr style=\"text-align: right;\">\n      <th></th>\n      <th>ID</th>\n      <th>City</th>\n      <th>WinningTeam</th>\n      <th>total_run_x</th>\n      <th>innings</th>\n      <th>overs</th>\n      <th>ballnumber</th>\n      <th>batter</th>\n      <th>bowler</th>\n      <th>non-striker</th>\n      <th>...</th>\n      <th>total_run_y</th>\n      <th>non_boundary</th>\n      <th>isWicketDelivery</th>\n      <th>player_out</th>\n      <th>kind</th>\n      <th>fielders_involved</th>\n      <th>BattingTeam</th>\n      <th>current_score</th>\n      <th>Runs_Lefts</th>\n      <th>Balls_Lefts</th>\n    </tr>\n  </thead>\n  <tbody>\n    <tr>\n      <th>120</th>\n      <td>1312200</td>\n      <td>Ahmedabad</td>\n      <td>Gujarat Titans</td>\n      <td>130</td>\n      <td>2</td>\n      <td>0</td>\n      <td>1</td>\n      <td>WP Saha</td>\n      <td>TA Boult</td>\n      <td>Shubman Gill</td>\n      <td>...</td>\n      <td>0</td>\n      <td>0</td>\n      <td>0</td>\n      <td>NaN</td>\n      <td>NaN</td>\n      <td>NaN</td>\n      <td>Gujarat Titans</td>\n      <td>0</td>\n      <td>130</td>\n      <td>119</td>\n    </tr>\n    <tr>\n      <th>121</th>\n      <td>1312200</td>\n      <td>Ahmedabad</td>\n      <td>Gujarat Titans</td>\n      <td>130</td>\n      <td>2</td>\n      <td>0</td>\n      <td>2</td>\n      <td>WP Saha</td>\n      <td>TA Boult</td>\n      <td>Shubman Gill</td>\n      <td>...</td>\n      <td>0</td>\n      <td>0</td>\n      <td>0</td>\n      <td>NaN</td>\n      <td>NaN</td>\n      <td>NaN</td>\n      <td>Gujarat Titans</td>\n      <td>0</td>\n      <td>130</td>\n      <td>118</td>\n    </tr>\n    <tr>\n      <th>122</th>\n      <td>1312200</td>\n      <td>Ahmedabad</td>\n      <td>Gujarat Titans</td>\n      <td>130</td>\n      <td>2</td>\n      <td>0</td>\n      <td>3</td>\n      <td>WP Saha</td>\n      <td>TA Boult</td>\n      <td>Shubman Gill</td>\n      <td>...</td>\n      <td>1</td>\n      <td>0</td>\n      <td>0</td>\n      <td>NaN</td>\n      <td>NaN</td>\n      <td>NaN</td>\n      <td>Gujarat Titans</td>\n      <td>1</td>\n      <td>129</td>\n      <td>117</td>\n    </tr>\n    <tr>\n      <th>123</th>\n      <td>1312200</td>\n      <td>Ahmedabad</td>\n      <td>Gujarat Titans</td>\n      <td>130</td>\n      <td>2</td>\n      <td>0</td>\n      <td>4</td>\n      <td>Shubman Gill</td>\n      <td>TA Boult</td>\n      <td>WP Saha</td>\n      <td>...</td>\n      <td>0</td>\n      <td>0</td>\n      <td>0</td>\n      <td>NaN</td>\n      <td>NaN</td>\n      <td>NaN</td>\n      <td>Gujarat Titans</td>\n      <td>1</td>\n      <td>129</td>\n      <td>116</td>\n    </tr>\n    <tr>\n      <th>124</th>\n      <td>1312200</td>\n      <td>Ahmedabad</td>\n      <td>Gujarat Titans</td>\n      <td>130</td>\n      <td>2</td>\n      <td>0</td>\n      <td>5</td>\n      <td>Shubman Gill</td>\n      <td>TA Boult</td>\n      <td>WP Saha</td>\n      <td>...</td>\n      <td>0</td>\n      <td>0</td>\n      <td>0</td>\n      <td>NaN</td>\n      <td>NaN</td>\n      <td>NaN</td>\n      <td>Gujarat Titans</td>\n      <td>1</td>\n      <td>129</td>\n      <td>115</td>\n    </tr>\n    <tr>\n      <th>125</th>\n      <td>1312200</td>\n      <td>Ahmedabad</td>\n      <td>Gujarat Titans</td>\n      <td>130</td>\n      <td>2</td>\n      <td>0</td>\n      <td>6</td>\n      <td>Shubman Gill</td>\n      <td>TA Boult</td>\n      <td>WP Saha</td>\n      <td>...</td>\n      <td>4</td>\n      <td>0</td>\n      <td>0</td>\n      <td>NaN</td>\n      <td>NaN</td>\n      <td>NaN</td>\n      <td>Gujarat Titans</td>\n      <td>5</td>\n      <td>125</td>\n      <td>114</td>\n    </tr>\n    <tr>\n      <th>126</th>\n      <td>1312200</td>\n      <td>Ahmedabad</td>\n      <td>Gujarat Titans</td>\n      <td>130</td>\n      <td>2</td>\n      <td>1</td>\n      <td>1</td>\n      <td>WP Saha</td>\n      <td>M Prasidh Krishna</td>\n      <td>Shubman Gill</td>\n      <td>...</td>\n      <td>0</td>\n      <td>0</td>\n      <td>0</td>\n      <td>NaN</td>\n      <td>NaN</td>\n      <td>NaN</td>\n      <td>Gujarat Titans</td>\n      <td>5</td>\n      <td>125</td>\n      <td>113</td>\n    </tr>\n    <tr>\n      <th>127</th>\n      <td>1312200</td>\n      <td>Ahmedabad</td>\n      <td>Gujarat Titans</td>\n      <td>130</td>\n      <td>2</td>\n      <td>1</td>\n      <td>2</td>\n      <td>WP Saha</td>\n      <td>M Prasidh Krishna</td>\n      <td>Shubman Gill</td>\n      <td>...</td>\n      <td>4</td>\n      <td>0</td>\n      <td>0</td>\n      <td>NaN</td>\n      <td>NaN</td>\n      <td>NaN</td>\n      <td>Gujarat Titans</td>\n      <td>9</td>\n      <td>121</td>\n      <td>112</td>\n    </tr>\n    <tr>\n      <th>128</th>\n      <td>1312200</td>\n      <td>Ahmedabad</td>\n      <td>Gujarat Titans</td>\n      <td>130</td>\n      <td>2</td>\n      <td>1</td>\n      <td>3</td>\n      <td>WP Saha</td>\n      <td>M Prasidh Krishna</td>\n      <td>Shubman Gill</td>\n      <td>...</td>\n      <td>0</td>\n      <td>0</td>\n      <td>0</td>\n      <td>NaN</td>\n      <td>NaN</td>\n      <td>NaN</td>\n      <td>Gujarat Titans</td>\n      <td>9</td>\n      <td>121</td>\n      <td>111</td>\n    </tr>\n    <tr>\n      <th>129</th>\n      <td>1312200</td>\n      <td>Ahmedabad</td>\n      <td>Gujarat Titans</td>\n      <td>130</td>\n      <td>2</td>\n      <td>1</td>\n      <td>4</td>\n      <td>WP Saha</td>\n      <td>M Prasidh Krishna</td>\n      <td>Shubman Gill</td>\n      <td>...</td>\n      <td>0</td>\n      <td>0</td>\n      <td>1</td>\n      <td>WP Saha</td>\n      <td>bowled</td>\n      <td>NaN</td>\n      <td>Gujarat Titans</td>\n      <td>9</td>\n      <td>121</td>\n      <td>110</td>\n    </tr>\n    <tr>\n      <th>130</th>\n      <td>1312200</td>\n      <td>Ahmedabad</td>\n      <td>Gujarat Titans</td>\n      <td>130</td>\n      <td>2</td>\n      <td>1</td>\n      <td>5</td>\n      <td>MS Wade</td>\n      <td>M Prasidh Krishna</td>\n      <td>Shubman Gill</td>\n      <td>...</td>\n      <td>2</td>\n      <td>0</td>\n      <td>0</td>\n      <td>NaN</td>\n      <td>NaN</td>\n      <td>NaN</td>\n      <td>Gujarat Titans</td>\n      <td>11</td>\n      <td>119</td>\n      <td>109</td>\n    </tr>\n    <tr>\n      <th>131</th>\n      <td>1312200</td>\n      <td>Ahmedabad</td>\n      <td>Gujarat Titans</td>\n      <td>130</td>\n      <td>2</td>\n      <td>1</td>\n      <td>6</td>\n      <td>MS Wade</td>\n      <td>M Prasidh Krishna</td>\n      <td>Shubman Gill</td>\n      <td>...</td>\n      <td>0</td>\n      <td>0</td>\n      <td>0</td>\n      <td>NaN</td>\n      <td>NaN</td>\n      <td>NaN</td>\n      <td>Gujarat Titans</td>\n      <td>11</td>\n      <td>119</td>\n      <td>108</td>\n    </tr>\n    <tr>\n      <th>132</th>\n      <td>1312200</td>\n      <td>Ahmedabad</td>\n      <td>Gujarat Titans</td>\n      <td>130</td>\n      <td>2</td>\n      <td>2</td>\n      <td>1</td>\n      <td>Shubman Gill</td>\n      <td>TA Boult</td>\n      <td>MS Wade</td>\n      <td>...</td>\n      <td>0</td>\n      <td>0</td>\n      <td>0</td>\n      <td>NaN</td>\n      <td>NaN</td>\n      <td>NaN</td>\n      <td>Gujarat Titans</td>\n      <td>11</td>\n      <td>119</td>\n      <td>107</td>\n    </tr>\n    <tr>\n      <th>133</th>\n      <td>1312200</td>\n      <td>Ahmedabad</td>\n      <td>Gujarat Titans</td>\n      <td>130</td>\n      <td>2</td>\n      <td>2</td>\n      <td>2</td>\n      <td>Shubman Gill</td>\n      <td>TA Boult</td>\n      <td>MS Wade</td>\n      <td>...</td>\n      <td>0</td>\n      <td>0</td>\n      <td>0</td>\n      <td>NaN</td>\n      <td>NaN</td>\n      <td>NaN</td>\n      <td>Gujarat Titans</td>\n      <td>11</td>\n      <td>119</td>\n      <td>106</td>\n    </tr>\n    <tr>\n      <th>134</th>\n      <td>1312200</td>\n      <td>Ahmedabad</td>\n      <td>Gujarat Titans</td>\n      <td>130</td>\n      <td>2</td>\n      <td>2</td>\n      <td>3</td>\n      <td>Shubman Gill</td>\n      <td>TA Boult</td>\n      <td>MS Wade</td>\n      <td>...</td>\n      <td>0</td>\n      <td>0</td>\n      <td>0</td>\n      <td>NaN</td>\n      <td>NaN</td>\n      <td>NaN</td>\n      <td>Gujarat Titans</td>\n      <td>11</td>\n      <td>119</td>\n      <td>105</td>\n    </tr>\n    <tr>\n      <th>135</th>\n      <td>1312200</td>\n      <td>Ahmedabad</td>\n      <td>Gujarat Titans</td>\n      <td>130</td>\n      <td>2</td>\n      <td>2</td>\n      <td>4</td>\n      <td>Shubman Gill</td>\n      <td>TA Boult</td>\n      <td>MS Wade</td>\n      <td>...</td>\n      <td>0</td>\n      <td>0</td>\n      <td>0</td>\n      <td>NaN</td>\n      <td>NaN</td>\n      <td>NaN</td>\n      <td>Gujarat Titans</td>\n      <td>11</td>\n      <td>119</td>\n      <td>104</td>\n    </tr>\n    <tr>\n      <th>136</th>\n      <td>1312200</td>\n      <td>Ahmedabad</td>\n      <td>Gujarat Titans</td>\n      <td>130</td>\n      <td>2</td>\n      <td>2</td>\n      <td>5</td>\n      <td>Shubman Gill</td>\n      <td>TA Boult</td>\n      <td>MS Wade</td>\n      <td>...</td>\n      <td>0</td>\n      <td>0</td>\n      <td>0</td>\n      <td>NaN</td>\n      <td>NaN</td>\n      <td>NaN</td>\n      <td>Gujarat Titans</td>\n      <td>11</td>\n      <td>119</td>\n      <td>103</td>\n    </tr>\n    <tr>\n      <th>137</th>\n      <td>1312200</td>\n      <td>Ahmedabad</td>\n      <td>Gujarat Titans</td>\n      <td>130</td>\n      <td>2</td>\n      <td>2</td>\n      <td>6</td>\n      <td>Shubman Gill</td>\n      <td>TA Boult</td>\n      <td>MS Wade</td>\n      <td>...</td>\n      <td>0</td>\n      <td>0</td>\n      <td>0</td>\n      <td>NaN</td>\n      <td>NaN</td>\n      <td>NaN</td>\n      <td>Gujarat Titans</td>\n      <td>11</td>\n      <td>119</td>\n      <td>102</td>\n    </tr>\n    <tr>\n      <th>138</th>\n      <td>1312200</td>\n      <td>Ahmedabad</td>\n      <td>Gujarat Titans</td>\n      <td>130</td>\n      <td>2</td>\n      <td>3</td>\n      <td>1</td>\n      <td>MS Wade</td>\n      <td>M Prasidh Krishna</td>\n      <td>Shubman Gill</td>\n      <td>...</td>\n      <td>5</td>\n      <td>0</td>\n      <td>0</td>\n      <td>NaN</td>\n      <td>NaN</td>\n      <td>NaN</td>\n      <td>Gujarat Titans</td>\n      <td>16</td>\n      <td>114</td>\n      <td>101</td>\n    </tr>\n    <tr>\n      <th>139</th>\n      <td>1312200</td>\n      <td>Ahmedabad</td>\n      <td>Gujarat Titans</td>\n      <td>130</td>\n      <td>2</td>\n      <td>3</td>\n      <td>2</td>\n      <td>MS Wade</td>\n      <td>M Prasidh Krishna</td>\n      <td>Shubman Gill</td>\n      <td>...</td>\n      <td>0</td>\n      <td>0</td>\n      <td>0</td>\n      <td>NaN</td>\n      <td>NaN</td>\n      <td>NaN</td>\n      <td>Gujarat Titans</td>\n      <td>16</td>\n      <td>114</td>\n      <td>100</td>\n    </tr>\n    <tr>\n      <th>140</th>\n      <td>1312200</td>\n      <td>Ahmedabad</td>\n      <td>Gujarat Titans</td>\n      <td>130</td>\n      <td>2</td>\n      <td>3</td>\n      <td>3</td>\n      <td>MS Wade</td>\n      <td>M Prasidh Krishna</td>\n      <td>Shubman Gill</td>\n      <td>...</td>\n      <td>0</td>\n      <td>0</td>\n      <td>0</td>\n      <td>NaN</td>\n      <td>NaN</td>\n      <td>NaN</td>\n      <td>Gujarat Titans</td>\n      <td>16</td>\n      <td>114</td>\n      <td>99</td>\n    </tr>\n    <tr>\n      <th>141</th>\n      <td>1312200</td>\n      <td>Ahmedabad</td>\n      <td>Gujarat Titans</td>\n      <td>130</td>\n      <td>2</td>\n      <td>3</td>\n      <td>4</td>\n      <td>MS Wade</td>\n      <td>M Prasidh Krishna</td>\n      <td>Shubman Gill</td>\n      <td>...</td>\n      <td>0</td>\n      <td>0</td>\n      <td>0</td>\n      <td>NaN</td>\n      <td>NaN</td>\n      <td>NaN</td>\n      <td>Gujarat Titans</td>\n      <td>16</td>\n      <td>114</td>\n      <td>98</td>\n    </tr>\n    <tr>\n      <th>142</th>\n      <td>1312200</td>\n      <td>Ahmedabad</td>\n      <td>Gujarat Titans</td>\n      <td>130</td>\n      <td>2</td>\n      <td>3</td>\n      <td>5</td>\n      <td>MS Wade</td>\n      <td>M Prasidh Krishna</td>\n      <td>Shubman Gill</td>\n      <td>...</td>\n      <td>6</td>\n      <td>0</td>\n      <td>0</td>\n      <td>NaN</td>\n      <td>NaN</td>\n      <td>NaN</td>\n      <td>Gujarat Titans</td>\n      <td>22</td>\n      <td>108</td>\n      <td>97</td>\n    </tr>\n    <tr>\n      <th>143</th>\n      <td>1312200</td>\n      <td>Ahmedabad</td>\n      <td>Gujarat Titans</td>\n      <td>130</td>\n      <td>2</td>\n      <td>3</td>\n      <td>6</td>\n      <td>MS Wade</td>\n      <td>M Prasidh Krishna</td>\n      <td>Shubman Gill</td>\n      <td>...</td>\n      <td>0</td>\n      <td>0</td>\n      <td>0</td>\n      <td>NaN</td>\n      <td>NaN</td>\n      <td>NaN</td>\n      <td>Gujarat Titans</td>\n      <td>22</td>\n      <td>108</td>\n      <td>96</td>\n    </tr>\n    <tr>\n      <th>144</th>\n      <td>1312200</td>\n      <td>Ahmedabad</td>\n      <td>Gujarat Titans</td>\n      <td>130</td>\n      <td>2</td>\n      <td>3</td>\n      <td>7</td>\n      <td>MS Wade</td>\n      <td>M Prasidh Krishna</td>\n      <td>Shubman Gill</td>\n      <td>...</td>\n      <td>0</td>\n      <td>0</td>\n      <td>0</td>\n      <td>NaN</td>\n      <td>NaN</td>\n      <td>NaN</td>\n      <td>Gujarat Titans</td>\n      <td>22</td>\n      <td>108</td>\n      <td>95</td>\n    </tr>\n    <tr>\n      <th>145</th>\n      <td>1312200</td>\n      <td>Ahmedabad</td>\n      <td>Gujarat Titans</td>\n      <td>130</td>\n      <td>2</td>\n      <td>4</td>\n      <td>1</td>\n      <td>Shubman Gill</td>\n      <td>TA Boult</td>\n      <td>MS Wade</td>\n      <td>...</td>\n      <td>1</td>\n      <td>0</td>\n      <td>0</td>\n      <td>NaN</td>\n      <td>NaN</td>\n      <td>NaN</td>\n      <td>Gujarat Titans</td>\n      <td>23</td>\n      <td>107</td>\n      <td>95</td>\n    </tr>\n    <tr>\n      <th>146</th>\n      <td>1312200</td>\n      <td>Ahmedabad</td>\n      <td>Gujarat Titans</td>\n      <td>130</td>\n      <td>2</td>\n      <td>4</td>\n      <td>2</td>\n      <td>MS Wade</td>\n      <td>TA Boult</td>\n      <td>Shubman Gill</td>\n      <td>...</td>\n      <td>0</td>\n      <td>0</td>\n      <td>0</td>\n      <td>NaN</td>\n      <td>NaN</td>\n      <td>NaN</td>\n      <td>Gujarat Titans</td>\n      <td>23</td>\n      <td>107</td>\n      <td>94</td>\n    </tr>\n    <tr>\n      <th>147</th>\n      <td>1312200</td>\n      <td>Ahmedabad</td>\n      <td>Gujarat Titans</td>\n      <td>130</td>\n      <td>2</td>\n      <td>4</td>\n      <td>3</td>\n      <td>MS Wade</td>\n      <td>TA Boult</td>\n      <td>Shubman Gill</td>\n      <td>...</td>\n      <td>0</td>\n      <td>0</td>\n      <td>1</td>\n      <td>MS Wade</td>\n      <td>caught</td>\n      <td>R Parag</td>\n      <td>Gujarat Titans</td>\n      <td>23</td>\n      <td>107</td>\n      <td>93</td>\n    </tr>\n    <tr>\n      <th>148</th>\n      <td>1312200</td>\n      <td>Ahmedabad</td>\n      <td>Gujarat Titans</td>\n      <td>130</td>\n      <td>2</td>\n      <td>4</td>\n      <td>4</td>\n      <td>HH Pandya</td>\n      <td>TA Boult</td>\n      <td>Shubman Gill</td>\n      <td>...</td>\n      <td>1</td>\n      <td>0</td>\n      <td>0</td>\n      <td>NaN</td>\n      <td>NaN</td>\n      <td>NaN</td>\n      <td>Gujarat Titans</td>\n      <td>24</td>\n      <td>106</td>\n      <td>92</td>\n    </tr>\n    <tr>\n      <th>149</th>\n      <td>1312200</td>\n      <td>Ahmedabad</td>\n      <td>Gujarat Titans</td>\n      <td>130</td>\n      <td>2</td>\n      <td>4</td>\n      <td>5</td>\n      <td>HH Pandya</td>\n      <td>TA Boult</td>\n      <td>Shubman Gill</td>\n      <td>...</td>\n      <td>0</td>\n      <td>0</td>\n      <td>0</td>\n      <td>NaN</td>\n      <td>NaN</td>\n      <td>NaN</td>\n      <td>Gujarat Titans</td>\n      <td>24</td>\n      <td>106</td>\n      <td>91</td>\n    </tr>\n  </tbody>\n</table>\n<p>30 rows × 23 columns</p>\n</div>"
     },
     "execution_count": 41,
     "metadata": {},
     "output_type": "execute_result"
    }
   ],
   "source": [
    "delivary_df.head(30)"
   ]
  },
  {
   "cell_type": "code",
   "execution_count": 42,
   "metadata": {
    "ExecuteTime": {
     "end_time": "2024-04-02T15:27:37.829158Z",
     "start_time": "2024-04-02T15:27:37.823967Z"
    }
   },
   "outputs": [
    {
     "data": {
      "text/plain": "Index(['ID', 'City', 'WinningTeam', 'total_run_x', 'innings', 'overs',\n       'ballnumber', 'batter', 'bowler', 'non-striker', 'extra_type',\n       'batsman_run', 'extras_run', 'total_run_y', 'non_boundary',\n       'isWicketDelivery', 'player_out', 'kind', 'fielders_involved',\n       'BattingTeam', 'current_score', 'Runs_Lefts', 'Balls_Lefts'],\n      dtype='object')"
     },
     "execution_count": 42,
     "metadata": {},
     "output_type": "execute_result"
    }
   ],
   "source": [
    "delivary_df.columns"
   ]
  },
  {
   "cell_type": "code",
   "execution_count": 43,
   "metadata": {
    "ExecuteTime": {
     "end_time": "2024-04-02T15:27:37.957887Z",
     "start_time": "2024-04-02T15:27:37.900428Z"
    }
   },
   "outputs": [],
   "source": [
    "delivary_df['player_out'] = delivary_df['player_out'].fillna(\"0\")\n",
    "delivary_df['player_out'] = delivary_df['player_out'].apply(lambda x: x if x == \"0\" else '1')\n",
    "delivary_df['player_out'] = delivary_df['player_out'].astype('int')\n",
    "wickets_cumsum = delivary_df.groupby('ID')['player_out'].apply(np.cumsum)\n"
   ]
  },
  {
   "cell_type": "code",
   "execution_count": 44,
   "metadata": {
    "ExecuteTime": {
     "end_time": "2024-04-02T15:27:37.973026Z",
     "start_time": "2024-04-02T15:27:37.965372Z"
    }
   },
   "outputs": [
    {
     "data": {
      "text/plain": "ID             \n335982   198834    0\n         198835    0\n         198836    0\n         198837    0\n         198838    0\n                  ..\n1312200  228       3\n         229       3\n         230       3\n         231       3\n         232       3\nName: player_out, Length: 95974, dtype: int32"
     },
     "execution_count": 44,
     "metadata": {},
     "output_type": "execute_result"
    }
   ],
   "source": [
    "wickets_cumsum"
   ]
  },
  {
   "cell_type": "code",
   "execution_count": 45,
   "metadata": {
    "ExecuteTime": {
     "end_time": "2024-04-02T15:27:38.058177Z",
     "start_time": "2024-04-02T15:27:38.049773Z"
    }
   },
   "outputs": [],
   "source": [
    "delivary_df['Wicket_remaining'] = 10 - wickets_cumsum.reset_index(level=0, drop=True)"
   ]
  },
  {
   "cell_type": "code",
   "execution_count": 46,
   "metadata": {
    "ExecuteTime": {
     "end_time": "2024-04-02T15:27:38.072497Z",
     "start_time": "2024-04-02T15:27:38.062232Z"
    }
   },
   "outputs": [
    {
     "data": {
      "text/plain": "          ID       City     WinningTeam  total_run_x  innings  overs  \\\n120  1312200  Ahmedabad  Gujarat Titans          130        2      0   \n121  1312200  Ahmedabad  Gujarat Titans          130        2      0   \n122  1312200  Ahmedabad  Gujarat Titans          130        2      0   \n123  1312200  Ahmedabad  Gujarat Titans          130        2      0   \n124  1312200  Ahmedabad  Gujarat Titans          130        2      0   \n\n     ballnumber        batter    bowler   non-striker  ... non_boundary  \\\n120           1       WP Saha  TA Boult  Shubman Gill  ...            0   \n121           2       WP Saha  TA Boult  Shubman Gill  ...            0   \n122           3       WP Saha  TA Boult  Shubman Gill  ...            0   \n123           4  Shubman Gill  TA Boult       WP Saha  ...            0   \n124           5  Shubman Gill  TA Boult       WP Saha  ...            0   \n\n     isWicketDelivery  player_out  kind  fielders_involved     BattingTeam  \\\n120                 0           0   NaN                NaN  Gujarat Titans   \n121                 0           0   NaN                NaN  Gujarat Titans   \n122                 0           0   NaN                NaN  Gujarat Titans   \n123                 0           0   NaN                NaN  Gujarat Titans   \n124                 0           0   NaN                NaN  Gujarat Titans   \n\n     current_score Runs_Lefts Balls_Lefts Wicket_remaining  \n120              0        130         119               10  \n121              0        130         118               10  \n122              1        129         117               10  \n123              1        129         116               10  \n124              1        129         115               10  \n\n[5 rows x 24 columns]",
      "text/html": "<div>\n<style scoped>\n    .dataframe tbody tr th:only-of-type {\n        vertical-align: middle;\n    }\n\n    .dataframe tbody tr th {\n        vertical-align: top;\n    }\n\n    .dataframe thead th {\n        text-align: right;\n    }\n</style>\n<table border=\"1\" class=\"dataframe\">\n  <thead>\n    <tr style=\"text-align: right;\">\n      <th></th>\n      <th>ID</th>\n      <th>City</th>\n      <th>WinningTeam</th>\n      <th>total_run_x</th>\n      <th>innings</th>\n      <th>overs</th>\n      <th>ballnumber</th>\n      <th>batter</th>\n      <th>bowler</th>\n      <th>non-striker</th>\n      <th>...</th>\n      <th>non_boundary</th>\n      <th>isWicketDelivery</th>\n      <th>player_out</th>\n      <th>kind</th>\n      <th>fielders_involved</th>\n      <th>BattingTeam</th>\n      <th>current_score</th>\n      <th>Runs_Lefts</th>\n      <th>Balls_Lefts</th>\n      <th>Wicket_remaining</th>\n    </tr>\n  </thead>\n  <tbody>\n    <tr>\n      <th>120</th>\n      <td>1312200</td>\n      <td>Ahmedabad</td>\n      <td>Gujarat Titans</td>\n      <td>130</td>\n      <td>2</td>\n      <td>0</td>\n      <td>1</td>\n      <td>WP Saha</td>\n      <td>TA Boult</td>\n      <td>Shubman Gill</td>\n      <td>...</td>\n      <td>0</td>\n      <td>0</td>\n      <td>0</td>\n      <td>NaN</td>\n      <td>NaN</td>\n      <td>Gujarat Titans</td>\n      <td>0</td>\n      <td>130</td>\n      <td>119</td>\n      <td>10</td>\n    </tr>\n    <tr>\n      <th>121</th>\n      <td>1312200</td>\n      <td>Ahmedabad</td>\n      <td>Gujarat Titans</td>\n      <td>130</td>\n      <td>2</td>\n      <td>0</td>\n      <td>2</td>\n      <td>WP Saha</td>\n      <td>TA Boult</td>\n      <td>Shubman Gill</td>\n      <td>...</td>\n      <td>0</td>\n      <td>0</td>\n      <td>0</td>\n      <td>NaN</td>\n      <td>NaN</td>\n      <td>Gujarat Titans</td>\n      <td>0</td>\n      <td>130</td>\n      <td>118</td>\n      <td>10</td>\n    </tr>\n    <tr>\n      <th>122</th>\n      <td>1312200</td>\n      <td>Ahmedabad</td>\n      <td>Gujarat Titans</td>\n      <td>130</td>\n      <td>2</td>\n      <td>0</td>\n      <td>3</td>\n      <td>WP Saha</td>\n      <td>TA Boult</td>\n      <td>Shubman Gill</td>\n      <td>...</td>\n      <td>0</td>\n      <td>0</td>\n      <td>0</td>\n      <td>NaN</td>\n      <td>NaN</td>\n      <td>Gujarat Titans</td>\n      <td>1</td>\n      <td>129</td>\n      <td>117</td>\n      <td>10</td>\n    </tr>\n    <tr>\n      <th>123</th>\n      <td>1312200</td>\n      <td>Ahmedabad</td>\n      <td>Gujarat Titans</td>\n      <td>130</td>\n      <td>2</td>\n      <td>0</td>\n      <td>4</td>\n      <td>Shubman Gill</td>\n      <td>TA Boult</td>\n      <td>WP Saha</td>\n      <td>...</td>\n      <td>0</td>\n      <td>0</td>\n      <td>0</td>\n      <td>NaN</td>\n      <td>NaN</td>\n      <td>Gujarat Titans</td>\n      <td>1</td>\n      <td>129</td>\n      <td>116</td>\n      <td>10</td>\n    </tr>\n    <tr>\n      <th>124</th>\n      <td>1312200</td>\n      <td>Ahmedabad</td>\n      <td>Gujarat Titans</td>\n      <td>130</td>\n      <td>2</td>\n      <td>0</td>\n      <td>5</td>\n      <td>Shubman Gill</td>\n      <td>TA Boult</td>\n      <td>WP Saha</td>\n      <td>...</td>\n      <td>0</td>\n      <td>0</td>\n      <td>0</td>\n      <td>NaN</td>\n      <td>NaN</td>\n      <td>Gujarat Titans</td>\n      <td>1</td>\n      <td>129</td>\n      <td>115</td>\n      <td>10</td>\n    </tr>\n  </tbody>\n</table>\n<p>5 rows × 24 columns</p>\n</div>"
     },
     "execution_count": 46,
     "metadata": {},
     "output_type": "execute_result"
    }
   ],
   "source": [
    "delivary_df.head()"
   ]
  },
  {
   "cell_type": "code",
   "execution_count": 47,
   "metadata": {
    "ExecuteTime": {
     "end_time": "2024-04-02T15:27:38.131301Z",
     "start_time": "2024-04-02T15:27:38.116352Z"
    }
   },
   "outputs": [
    {
     "data": {
      "text/plain": "          ID       City     WinningTeam  total_run_x  innings  overs  \\\n120  1312200  Ahmedabad  Gujarat Titans          130        2      0   \n121  1312200  Ahmedabad  Gujarat Titans          130        2      0   \n122  1312200  Ahmedabad  Gujarat Titans          130        2      0   \n123  1312200  Ahmedabad  Gujarat Titans          130        2      0   \n124  1312200  Ahmedabad  Gujarat Titans          130        2      0   \n125  1312200  Ahmedabad  Gujarat Titans          130        2      0   \n126  1312200  Ahmedabad  Gujarat Titans          130        2      1   \n127  1312200  Ahmedabad  Gujarat Titans          130        2      1   \n128  1312200  Ahmedabad  Gujarat Titans          130        2      1   \n129  1312200  Ahmedabad  Gujarat Titans          130        2      1   \n130  1312200  Ahmedabad  Gujarat Titans          130        2      1   \n131  1312200  Ahmedabad  Gujarat Titans          130        2      1   \n132  1312200  Ahmedabad  Gujarat Titans          130        2      2   \n133  1312200  Ahmedabad  Gujarat Titans          130        2      2   \n134  1312200  Ahmedabad  Gujarat Titans          130        2      2   \n135  1312200  Ahmedabad  Gujarat Titans          130        2      2   \n136  1312200  Ahmedabad  Gujarat Titans          130        2      2   \n137  1312200  Ahmedabad  Gujarat Titans          130        2      2   \n138  1312200  Ahmedabad  Gujarat Titans          130        2      3   \n139  1312200  Ahmedabad  Gujarat Titans          130        2      3   \n140  1312200  Ahmedabad  Gujarat Titans          130        2      3   \n141  1312200  Ahmedabad  Gujarat Titans          130        2      3   \n142  1312200  Ahmedabad  Gujarat Titans          130        2      3   \n143  1312200  Ahmedabad  Gujarat Titans          130        2      3   \n144  1312200  Ahmedabad  Gujarat Titans          130        2      3   \n145  1312200  Ahmedabad  Gujarat Titans          130        2      4   \n146  1312200  Ahmedabad  Gujarat Titans          130        2      4   \n147  1312200  Ahmedabad  Gujarat Titans          130        2      4   \n148  1312200  Ahmedabad  Gujarat Titans          130        2      4   \n149  1312200  Ahmedabad  Gujarat Titans          130        2      4   \n150  1312200  Ahmedabad  Gujarat Titans          130        2      4   \n151  1312200  Ahmedabad  Gujarat Titans          130        2      4   \n152  1312200  Ahmedabad  Gujarat Titans          130        2      4   \n153  1312200  Ahmedabad  Gujarat Titans          130        2      5   \n154  1312200  Ahmedabad  Gujarat Titans          130        2      5   \n155  1312200  Ahmedabad  Gujarat Titans          130        2      5   \n156  1312200  Ahmedabad  Gujarat Titans          130        2      5   \n157  1312200  Ahmedabad  Gujarat Titans          130        2      5   \n158  1312200  Ahmedabad  Gujarat Titans          130        2      5   \n159  1312200  Ahmedabad  Gujarat Titans          130        2      6   \n160  1312200  Ahmedabad  Gujarat Titans          130        2      6   \n161  1312200  Ahmedabad  Gujarat Titans          130        2      6   \n162  1312200  Ahmedabad  Gujarat Titans          130        2      6   \n163  1312200  Ahmedabad  Gujarat Titans          130        2      6   \n164  1312200  Ahmedabad  Gujarat Titans          130        2      6   \n165  1312200  Ahmedabad  Gujarat Titans          130        2      7   \n166  1312200  Ahmedabad  Gujarat Titans          130        2      7   \n167  1312200  Ahmedabad  Gujarat Titans          130        2      7   \n168  1312200  Ahmedabad  Gujarat Titans          130        2      7   \n169  1312200  Ahmedabad  Gujarat Titans          130        2      7   \n\n     ballnumber        batter             bowler   non-striker  ...  \\\n120           1       WP Saha           TA Boult  Shubman Gill  ...   \n121           2       WP Saha           TA Boult  Shubman Gill  ...   \n122           3       WP Saha           TA Boult  Shubman Gill  ...   \n123           4  Shubman Gill           TA Boult       WP Saha  ...   \n124           5  Shubman Gill           TA Boult       WP Saha  ...   \n125           6  Shubman Gill           TA Boult       WP Saha  ...   \n126           1       WP Saha  M Prasidh Krishna  Shubman Gill  ...   \n127           2       WP Saha  M Prasidh Krishna  Shubman Gill  ...   \n128           3       WP Saha  M Prasidh Krishna  Shubman Gill  ...   \n129           4       WP Saha  M Prasidh Krishna  Shubman Gill  ...   \n130           5       MS Wade  M Prasidh Krishna  Shubman Gill  ...   \n131           6       MS Wade  M Prasidh Krishna  Shubman Gill  ...   \n132           1  Shubman Gill           TA Boult       MS Wade  ...   \n133           2  Shubman Gill           TA Boult       MS Wade  ...   \n134           3  Shubman Gill           TA Boult       MS Wade  ...   \n135           4  Shubman Gill           TA Boult       MS Wade  ...   \n136           5  Shubman Gill           TA Boult       MS Wade  ...   \n137           6  Shubman Gill           TA Boult       MS Wade  ...   \n138           1       MS Wade  M Prasidh Krishna  Shubman Gill  ...   \n139           2       MS Wade  M Prasidh Krishna  Shubman Gill  ...   \n140           3       MS Wade  M Prasidh Krishna  Shubman Gill  ...   \n141           4       MS Wade  M Prasidh Krishna  Shubman Gill  ...   \n142           5       MS Wade  M Prasidh Krishna  Shubman Gill  ...   \n143           6       MS Wade  M Prasidh Krishna  Shubman Gill  ...   \n144           7       MS Wade  M Prasidh Krishna  Shubman Gill  ...   \n145           1  Shubman Gill           TA Boult       MS Wade  ...   \n146           2       MS Wade           TA Boult  Shubman Gill  ...   \n147           3       MS Wade           TA Boult  Shubman Gill  ...   \n148           4     HH Pandya           TA Boult  Shubman Gill  ...   \n149           5     HH Pandya           TA Boult  Shubman Gill  ...   \n150           6     HH Pandya           TA Boult  Shubman Gill  ...   \n151           7     HH Pandya           TA Boult  Shubman Gill  ...   \n152           8     HH Pandya           TA Boult  Shubman Gill  ...   \n153           1  Shubman Gill          YS Chahal     HH Pandya  ...   \n154           2  Shubman Gill          YS Chahal     HH Pandya  ...   \n155           3  Shubman Gill          YS Chahal     HH Pandya  ...   \n156           4     HH Pandya          YS Chahal  Shubman Gill  ...   \n157           5     HH Pandya          YS Chahal  Shubman Gill  ...   \n158           6  Shubman Gill          YS Chahal     HH Pandya  ...   \n159           1     HH Pandya           OC McCoy  Shubman Gill  ...   \n160           2     HH Pandya           OC McCoy  Shubman Gill  ...   \n161           3  Shubman Gill           OC McCoy     HH Pandya  ...   \n162           4  Shubman Gill           OC McCoy     HH Pandya  ...   \n163           5     HH Pandya           OC McCoy  Shubman Gill  ...   \n164           6  Shubman Gill           OC McCoy     HH Pandya  ...   \n165           1  Shubman Gill          YS Chahal     HH Pandya  ...   \n166           2  Shubman Gill          YS Chahal     HH Pandya  ...   \n167           3  Shubman Gill          YS Chahal     HH Pandya  ...   \n168           4     HH Pandya          YS Chahal  Shubman Gill  ...   \n169           5  Shubman Gill          YS Chahal     HH Pandya  ...   \n\n    non_boundary  isWicketDelivery  player_out    kind  fielders_involved  \\\n120            0                 0           0     NaN                NaN   \n121            0                 0           0     NaN                NaN   \n122            0                 0           0     NaN                NaN   \n123            0                 0           0     NaN                NaN   \n124            0                 0           0     NaN                NaN   \n125            0                 0           0     NaN                NaN   \n126            0                 0           0     NaN                NaN   \n127            0                 0           0     NaN                NaN   \n128            0                 0           0     NaN                NaN   \n129            0                 1           1  bowled                NaN   \n130            0                 0           0     NaN                NaN   \n131            0                 0           0     NaN                NaN   \n132            0                 0           0     NaN                NaN   \n133            0                 0           0     NaN                NaN   \n134            0                 0           0     NaN                NaN   \n135            0                 0           0     NaN                NaN   \n136            0                 0           0     NaN                NaN   \n137            0                 0           0     NaN                NaN   \n138            0                 0           0     NaN                NaN   \n139            0                 0           0     NaN                NaN   \n140            0                 0           0     NaN                NaN   \n141            0                 0           0     NaN                NaN   \n142            0                 0           0     NaN                NaN   \n143            0                 0           0     NaN                NaN   \n144            0                 0           0     NaN                NaN   \n145            0                 0           0     NaN                NaN   \n146            0                 0           0     NaN                NaN   \n147            0                 1           1  caught            R Parag   \n148            0                 0           0     NaN                NaN   \n149            0                 0           0     NaN                NaN   \n150            0                 0           0     NaN                NaN   \n151            0                 0           0     NaN                NaN   \n152            0                 0           0     NaN                NaN   \n153            0                 0           0     NaN                NaN   \n154            0                 0           0     NaN                NaN   \n155            0                 0           0     NaN                NaN   \n156            0                 0           0     NaN                NaN   \n157            0                 0           0     NaN                NaN   \n158            0                 0           0     NaN                NaN   \n159            0                 0           0     NaN                NaN   \n160            0                 0           0     NaN                NaN   \n161            0                 0           0     NaN                NaN   \n162            0                 0           0     NaN                NaN   \n163            0                 0           0     NaN                NaN   \n164            0                 0           0     NaN                NaN   \n165            0                 0           0     NaN                NaN   \n166            0                 0           0     NaN                NaN   \n167            0                 0           0     NaN                NaN   \n168            0                 0           0     NaN                NaN   \n169            0                 0           0     NaN                NaN   \n\n        BattingTeam  current_score Runs_Lefts Balls_Lefts Wicket_remaining  \n120  Gujarat Titans              0        130         119               10  \n121  Gujarat Titans              0        130         118               10  \n122  Gujarat Titans              1        129         117               10  \n123  Gujarat Titans              1        129         116               10  \n124  Gujarat Titans              1        129         115               10  \n125  Gujarat Titans              5        125         114               10  \n126  Gujarat Titans              5        125         113               10  \n127  Gujarat Titans              9        121         112               10  \n128  Gujarat Titans              9        121         111               10  \n129  Gujarat Titans              9        121         110                9  \n130  Gujarat Titans             11        119         109                9  \n131  Gujarat Titans             11        119         108                9  \n132  Gujarat Titans             11        119         107                9  \n133  Gujarat Titans             11        119         106                9  \n134  Gujarat Titans             11        119         105                9  \n135  Gujarat Titans             11        119         104                9  \n136  Gujarat Titans             11        119         103                9  \n137  Gujarat Titans             11        119         102                9  \n138  Gujarat Titans             16        114         101                9  \n139  Gujarat Titans             16        114         100                9  \n140  Gujarat Titans             16        114          99                9  \n141  Gujarat Titans             16        114          98                9  \n142  Gujarat Titans             22        108          97                9  \n143  Gujarat Titans             22        108          96                9  \n144  Gujarat Titans             22        108          95                9  \n145  Gujarat Titans             23        107          95                9  \n146  Gujarat Titans             23        107          94                9  \n147  Gujarat Titans             23        107          93                8  \n148  Gujarat Titans             24        106          92                8  \n149  Gujarat Titans             24        106          91                8  \n150  Gujarat Titans             24        106          90                8  \n151  Gujarat Titans             25        105          89                8  \n152  Gujarat Titans             25        105          88                8  \n153  Gujarat Titans             25        105          89                8  \n154  Gujarat Titans             25        105          88                8  \n155  Gujarat Titans             26        104          87                8  \n156  Gujarat Titans             26        104          86                8  \n157  Gujarat Titans             27        103          85                8  \n158  Gujarat Titans             31         99          84                8  \n159  Gujarat Titans             31         99          83                8  \n160  Gujarat Titans             32         98          82                8  \n161  Gujarat Titans             32         98          81                8  \n162  Gujarat Titans             33         97          80                8  \n163  Gujarat Titans             34         96          79                8  \n164  Gujarat Titans             35         95          78                8  \n165  Gujarat Titans             35         95          77                8  \n166  Gujarat Titans             35         95          76                8  \n167  Gujarat Titans             36         94          75                8  \n168  Gujarat Titans             37         93          74                8  \n169  Gujarat Titans             38         92          73                8  \n\n[50 rows x 24 columns]",
      "text/html": "<div>\n<style scoped>\n    .dataframe tbody tr th:only-of-type {\n        vertical-align: middle;\n    }\n\n    .dataframe tbody tr th {\n        vertical-align: top;\n    }\n\n    .dataframe thead th {\n        text-align: right;\n    }\n</style>\n<table border=\"1\" class=\"dataframe\">\n  <thead>\n    <tr style=\"text-align: right;\">\n      <th></th>\n      <th>ID</th>\n      <th>City</th>\n      <th>WinningTeam</th>\n      <th>total_run_x</th>\n      <th>innings</th>\n      <th>overs</th>\n      <th>ballnumber</th>\n      <th>batter</th>\n      <th>bowler</th>\n      <th>non-striker</th>\n      <th>...</th>\n      <th>non_boundary</th>\n      <th>isWicketDelivery</th>\n      <th>player_out</th>\n      <th>kind</th>\n      <th>fielders_involved</th>\n      <th>BattingTeam</th>\n      <th>current_score</th>\n      <th>Runs_Lefts</th>\n      <th>Balls_Lefts</th>\n      <th>Wicket_remaining</th>\n    </tr>\n  </thead>\n  <tbody>\n    <tr>\n      <th>120</th>\n      <td>1312200</td>\n      <td>Ahmedabad</td>\n      <td>Gujarat Titans</td>\n      <td>130</td>\n      <td>2</td>\n      <td>0</td>\n      <td>1</td>\n      <td>WP Saha</td>\n      <td>TA Boult</td>\n      <td>Shubman Gill</td>\n      <td>...</td>\n      <td>0</td>\n      <td>0</td>\n      <td>0</td>\n      <td>NaN</td>\n      <td>NaN</td>\n      <td>Gujarat Titans</td>\n      <td>0</td>\n      <td>130</td>\n      <td>119</td>\n      <td>10</td>\n    </tr>\n    <tr>\n      <th>121</th>\n      <td>1312200</td>\n      <td>Ahmedabad</td>\n      <td>Gujarat Titans</td>\n      <td>130</td>\n      <td>2</td>\n      <td>0</td>\n      <td>2</td>\n      <td>WP Saha</td>\n      <td>TA Boult</td>\n      <td>Shubman Gill</td>\n      <td>...</td>\n      <td>0</td>\n      <td>0</td>\n      <td>0</td>\n      <td>NaN</td>\n      <td>NaN</td>\n      <td>Gujarat Titans</td>\n      <td>0</td>\n      <td>130</td>\n      <td>118</td>\n      <td>10</td>\n    </tr>\n    <tr>\n      <th>122</th>\n      <td>1312200</td>\n      <td>Ahmedabad</td>\n      <td>Gujarat Titans</td>\n      <td>130</td>\n      <td>2</td>\n      <td>0</td>\n      <td>3</td>\n      <td>WP Saha</td>\n      <td>TA Boult</td>\n      <td>Shubman Gill</td>\n      <td>...</td>\n      <td>0</td>\n      <td>0</td>\n      <td>0</td>\n      <td>NaN</td>\n      <td>NaN</td>\n      <td>Gujarat Titans</td>\n      <td>1</td>\n      <td>129</td>\n      <td>117</td>\n      <td>10</td>\n    </tr>\n    <tr>\n      <th>123</th>\n      <td>1312200</td>\n      <td>Ahmedabad</td>\n      <td>Gujarat Titans</td>\n      <td>130</td>\n      <td>2</td>\n      <td>0</td>\n      <td>4</td>\n      <td>Shubman Gill</td>\n      <td>TA Boult</td>\n      <td>WP Saha</td>\n      <td>...</td>\n      <td>0</td>\n      <td>0</td>\n      <td>0</td>\n      <td>NaN</td>\n      <td>NaN</td>\n      <td>Gujarat Titans</td>\n      <td>1</td>\n      <td>129</td>\n      <td>116</td>\n      <td>10</td>\n    </tr>\n    <tr>\n      <th>124</th>\n      <td>1312200</td>\n      <td>Ahmedabad</td>\n      <td>Gujarat Titans</td>\n      <td>130</td>\n      <td>2</td>\n      <td>0</td>\n      <td>5</td>\n      <td>Shubman Gill</td>\n      <td>TA Boult</td>\n      <td>WP Saha</td>\n      <td>...</td>\n      <td>0</td>\n      <td>0</td>\n      <td>0</td>\n      <td>NaN</td>\n      <td>NaN</td>\n      <td>Gujarat Titans</td>\n      <td>1</td>\n      <td>129</td>\n      <td>115</td>\n      <td>10</td>\n    </tr>\n    <tr>\n      <th>125</th>\n      <td>1312200</td>\n      <td>Ahmedabad</td>\n      <td>Gujarat Titans</td>\n      <td>130</td>\n      <td>2</td>\n      <td>0</td>\n      <td>6</td>\n      <td>Shubman Gill</td>\n      <td>TA Boult</td>\n      <td>WP Saha</td>\n      <td>...</td>\n      <td>0</td>\n      <td>0</td>\n      <td>0</td>\n      <td>NaN</td>\n      <td>NaN</td>\n      <td>Gujarat Titans</td>\n      <td>5</td>\n      <td>125</td>\n      <td>114</td>\n      <td>10</td>\n    </tr>\n    <tr>\n      <th>126</th>\n      <td>1312200</td>\n      <td>Ahmedabad</td>\n      <td>Gujarat Titans</td>\n      <td>130</td>\n      <td>2</td>\n      <td>1</td>\n      <td>1</td>\n      <td>WP Saha</td>\n      <td>M Prasidh Krishna</td>\n      <td>Shubman Gill</td>\n      <td>...</td>\n      <td>0</td>\n      <td>0</td>\n      <td>0</td>\n      <td>NaN</td>\n      <td>NaN</td>\n      <td>Gujarat Titans</td>\n      <td>5</td>\n      <td>125</td>\n      <td>113</td>\n      <td>10</td>\n    </tr>\n    <tr>\n      <th>127</th>\n      <td>1312200</td>\n      <td>Ahmedabad</td>\n      <td>Gujarat Titans</td>\n      <td>130</td>\n      <td>2</td>\n      <td>1</td>\n      <td>2</td>\n      <td>WP Saha</td>\n      <td>M Prasidh Krishna</td>\n      <td>Shubman Gill</td>\n      <td>...</td>\n      <td>0</td>\n      <td>0</td>\n      <td>0</td>\n      <td>NaN</td>\n      <td>NaN</td>\n      <td>Gujarat Titans</td>\n      <td>9</td>\n      <td>121</td>\n      <td>112</td>\n      <td>10</td>\n    </tr>\n    <tr>\n      <th>128</th>\n      <td>1312200</td>\n      <td>Ahmedabad</td>\n      <td>Gujarat Titans</td>\n      <td>130</td>\n      <td>2</td>\n      <td>1</td>\n      <td>3</td>\n      <td>WP Saha</td>\n      <td>M Prasidh Krishna</td>\n      <td>Shubman Gill</td>\n      <td>...</td>\n      <td>0</td>\n      <td>0</td>\n      <td>0</td>\n      <td>NaN</td>\n      <td>NaN</td>\n      <td>Gujarat Titans</td>\n      <td>9</td>\n      <td>121</td>\n      <td>111</td>\n      <td>10</td>\n    </tr>\n    <tr>\n      <th>129</th>\n      <td>1312200</td>\n      <td>Ahmedabad</td>\n      <td>Gujarat Titans</td>\n      <td>130</td>\n      <td>2</td>\n      <td>1</td>\n      <td>4</td>\n      <td>WP Saha</td>\n      <td>M Prasidh Krishna</td>\n      <td>Shubman Gill</td>\n      <td>...</td>\n      <td>0</td>\n      <td>1</td>\n      <td>1</td>\n      <td>bowled</td>\n      <td>NaN</td>\n      <td>Gujarat Titans</td>\n      <td>9</td>\n      <td>121</td>\n      <td>110</td>\n      <td>9</td>\n    </tr>\n    <tr>\n      <th>130</th>\n      <td>1312200</td>\n      <td>Ahmedabad</td>\n      <td>Gujarat Titans</td>\n      <td>130</td>\n      <td>2</td>\n      <td>1</td>\n      <td>5</td>\n      <td>MS Wade</td>\n      <td>M Prasidh Krishna</td>\n      <td>Shubman Gill</td>\n      <td>...</td>\n      <td>0</td>\n      <td>0</td>\n      <td>0</td>\n      <td>NaN</td>\n      <td>NaN</td>\n      <td>Gujarat Titans</td>\n      <td>11</td>\n      <td>119</td>\n      <td>109</td>\n      <td>9</td>\n    </tr>\n    <tr>\n      <th>131</th>\n      <td>1312200</td>\n      <td>Ahmedabad</td>\n      <td>Gujarat Titans</td>\n      <td>130</td>\n      <td>2</td>\n      <td>1</td>\n      <td>6</td>\n      <td>MS Wade</td>\n      <td>M Prasidh Krishna</td>\n      <td>Shubman Gill</td>\n      <td>...</td>\n      <td>0</td>\n      <td>0</td>\n      <td>0</td>\n      <td>NaN</td>\n      <td>NaN</td>\n      <td>Gujarat Titans</td>\n      <td>11</td>\n      <td>119</td>\n      <td>108</td>\n      <td>9</td>\n    </tr>\n    <tr>\n      <th>132</th>\n      <td>1312200</td>\n      <td>Ahmedabad</td>\n      <td>Gujarat Titans</td>\n      <td>130</td>\n      <td>2</td>\n      <td>2</td>\n      <td>1</td>\n      <td>Shubman Gill</td>\n      <td>TA Boult</td>\n      <td>MS Wade</td>\n      <td>...</td>\n      <td>0</td>\n      <td>0</td>\n      <td>0</td>\n      <td>NaN</td>\n      <td>NaN</td>\n      <td>Gujarat Titans</td>\n      <td>11</td>\n      <td>119</td>\n      <td>107</td>\n      <td>9</td>\n    </tr>\n    <tr>\n      <th>133</th>\n      <td>1312200</td>\n      <td>Ahmedabad</td>\n      <td>Gujarat Titans</td>\n      <td>130</td>\n      <td>2</td>\n      <td>2</td>\n      <td>2</td>\n      <td>Shubman Gill</td>\n      <td>TA Boult</td>\n      <td>MS Wade</td>\n      <td>...</td>\n      <td>0</td>\n      <td>0</td>\n      <td>0</td>\n      <td>NaN</td>\n      <td>NaN</td>\n      <td>Gujarat Titans</td>\n      <td>11</td>\n      <td>119</td>\n      <td>106</td>\n      <td>9</td>\n    </tr>\n    <tr>\n      <th>134</th>\n      <td>1312200</td>\n      <td>Ahmedabad</td>\n      <td>Gujarat Titans</td>\n      <td>130</td>\n      <td>2</td>\n      <td>2</td>\n      <td>3</td>\n      <td>Shubman Gill</td>\n      <td>TA Boult</td>\n      <td>MS Wade</td>\n      <td>...</td>\n      <td>0</td>\n      <td>0</td>\n      <td>0</td>\n      <td>NaN</td>\n      <td>NaN</td>\n      <td>Gujarat Titans</td>\n      <td>11</td>\n      <td>119</td>\n      <td>105</td>\n      <td>9</td>\n    </tr>\n    <tr>\n      <th>135</th>\n      <td>1312200</td>\n      <td>Ahmedabad</td>\n      <td>Gujarat Titans</td>\n      <td>130</td>\n      <td>2</td>\n      <td>2</td>\n      <td>4</td>\n      <td>Shubman Gill</td>\n      <td>TA Boult</td>\n      <td>MS Wade</td>\n      <td>...</td>\n      <td>0</td>\n      <td>0</td>\n      <td>0</td>\n      <td>NaN</td>\n      <td>NaN</td>\n      <td>Gujarat Titans</td>\n      <td>11</td>\n      <td>119</td>\n      <td>104</td>\n      <td>9</td>\n    </tr>\n    <tr>\n      <th>136</th>\n      <td>1312200</td>\n      <td>Ahmedabad</td>\n      <td>Gujarat Titans</td>\n      <td>130</td>\n      <td>2</td>\n      <td>2</td>\n      <td>5</td>\n      <td>Shubman Gill</td>\n      <td>TA Boult</td>\n      <td>MS Wade</td>\n      <td>...</td>\n      <td>0</td>\n      <td>0</td>\n      <td>0</td>\n      <td>NaN</td>\n      <td>NaN</td>\n      <td>Gujarat Titans</td>\n      <td>11</td>\n      <td>119</td>\n      <td>103</td>\n      <td>9</td>\n    </tr>\n    <tr>\n      <th>137</th>\n      <td>1312200</td>\n      <td>Ahmedabad</td>\n      <td>Gujarat Titans</td>\n      <td>130</td>\n      <td>2</td>\n      <td>2</td>\n      <td>6</td>\n      <td>Shubman Gill</td>\n      <td>TA Boult</td>\n      <td>MS Wade</td>\n      <td>...</td>\n      <td>0</td>\n      <td>0</td>\n      <td>0</td>\n      <td>NaN</td>\n      <td>NaN</td>\n      <td>Gujarat Titans</td>\n      <td>11</td>\n      <td>119</td>\n      <td>102</td>\n      <td>9</td>\n    </tr>\n    <tr>\n      <th>138</th>\n      <td>1312200</td>\n      <td>Ahmedabad</td>\n      <td>Gujarat Titans</td>\n      <td>130</td>\n      <td>2</td>\n      <td>3</td>\n      <td>1</td>\n      <td>MS Wade</td>\n      <td>M Prasidh Krishna</td>\n      <td>Shubman Gill</td>\n      <td>...</td>\n      <td>0</td>\n      <td>0</td>\n      <td>0</td>\n      <td>NaN</td>\n      <td>NaN</td>\n      <td>Gujarat Titans</td>\n      <td>16</td>\n      <td>114</td>\n      <td>101</td>\n      <td>9</td>\n    </tr>\n    <tr>\n      <th>139</th>\n      <td>1312200</td>\n      <td>Ahmedabad</td>\n      <td>Gujarat Titans</td>\n      <td>130</td>\n      <td>2</td>\n      <td>3</td>\n      <td>2</td>\n      <td>MS Wade</td>\n      <td>M Prasidh Krishna</td>\n      <td>Shubman Gill</td>\n      <td>...</td>\n      <td>0</td>\n      <td>0</td>\n      <td>0</td>\n      <td>NaN</td>\n      <td>NaN</td>\n      <td>Gujarat Titans</td>\n      <td>16</td>\n      <td>114</td>\n      <td>100</td>\n      <td>9</td>\n    </tr>\n    <tr>\n      <th>140</th>\n      <td>1312200</td>\n      <td>Ahmedabad</td>\n      <td>Gujarat Titans</td>\n      <td>130</td>\n      <td>2</td>\n      <td>3</td>\n      <td>3</td>\n      <td>MS Wade</td>\n      <td>M Prasidh Krishna</td>\n      <td>Shubman Gill</td>\n      <td>...</td>\n      <td>0</td>\n      <td>0</td>\n      <td>0</td>\n      <td>NaN</td>\n      <td>NaN</td>\n      <td>Gujarat Titans</td>\n      <td>16</td>\n      <td>114</td>\n      <td>99</td>\n      <td>9</td>\n    </tr>\n    <tr>\n      <th>141</th>\n      <td>1312200</td>\n      <td>Ahmedabad</td>\n      <td>Gujarat Titans</td>\n      <td>130</td>\n      <td>2</td>\n      <td>3</td>\n      <td>4</td>\n      <td>MS Wade</td>\n      <td>M Prasidh Krishna</td>\n      <td>Shubman Gill</td>\n      <td>...</td>\n      <td>0</td>\n      <td>0</td>\n      <td>0</td>\n      <td>NaN</td>\n      <td>NaN</td>\n      <td>Gujarat Titans</td>\n      <td>16</td>\n      <td>114</td>\n      <td>98</td>\n      <td>9</td>\n    </tr>\n    <tr>\n      <th>142</th>\n      <td>1312200</td>\n      <td>Ahmedabad</td>\n      <td>Gujarat Titans</td>\n      <td>130</td>\n      <td>2</td>\n      <td>3</td>\n      <td>5</td>\n      <td>MS Wade</td>\n      <td>M Prasidh Krishna</td>\n      <td>Shubman Gill</td>\n      <td>...</td>\n      <td>0</td>\n      <td>0</td>\n      <td>0</td>\n      <td>NaN</td>\n      <td>NaN</td>\n      <td>Gujarat Titans</td>\n      <td>22</td>\n      <td>108</td>\n      <td>97</td>\n      <td>9</td>\n    </tr>\n    <tr>\n      <th>143</th>\n      <td>1312200</td>\n      <td>Ahmedabad</td>\n      <td>Gujarat Titans</td>\n      <td>130</td>\n      <td>2</td>\n      <td>3</td>\n      <td>6</td>\n      <td>MS Wade</td>\n      <td>M Prasidh Krishna</td>\n      <td>Shubman Gill</td>\n      <td>...</td>\n      <td>0</td>\n      <td>0</td>\n      <td>0</td>\n      <td>NaN</td>\n      <td>NaN</td>\n      <td>Gujarat Titans</td>\n      <td>22</td>\n      <td>108</td>\n      <td>96</td>\n      <td>9</td>\n    </tr>\n    <tr>\n      <th>144</th>\n      <td>1312200</td>\n      <td>Ahmedabad</td>\n      <td>Gujarat Titans</td>\n      <td>130</td>\n      <td>2</td>\n      <td>3</td>\n      <td>7</td>\n      <td>MS Wade</td>\n      <td>M Prasidh Krishna</td>\n      <td>Shubman Gill</td>\n      <td>...</td>\n      <td>0</td>\n      <td>0</td>\n      <td>0</td>\n      <td>NaN</td>\n      <td>NaN</td>\n      <td>Gujarat Titans</td>\n      <td>22</td>\n      <td>108</td>\n      <td>95</td>\n      <td>9</td>\n    </tr>\n    <tr>\n      <th>145</th>\n      <td>1312200</td>\n      <td>Ahmedabad</td>\n      <td>Gujarat Titans</td>\n      <td>130</td>\n      <td>2</td>\n      <td>4</td>\n      <td>1</td>\n      <td>Shubman Gill</td>\n      <td>TA Boult</td>\n      <td>MS Wade</td>\n      <td>...</td>\n      <td>0</td>\n      <td>0</td>\n      <td>0</td>\n      <td>NaN</td>\n      <td>NaN</td>\n      <td>Gujarat Titans</td>\n      <td>23</td>\n      <td>107</td>\n      <td>95</td>\n      <td>9</td>\n    </tr>\n    <tr>\n      <th>146</th>\n      <td>1312200</td>\n      <td>Ahmedabad</td>\n      <td>Gujarat Titans</td>\n      <td>130</td>\n      <td>2</td>\n      <td>4</td>\n      <td>2</td>\n      <td>MS Wade</td>\n      <td>TA Boult</td>\n      <td>Shubman Gill</td>\n      <td>...</td>\n      <td>0</td>\n      <td>0</td>\n      <td>0</td>\n      <td>NaN</td>\n      <td>NaN</td>\n      <td>Gujarat Titans</td>\n      <td>23</td>\n      <td>107</td>\n      <td>94</td>\n      <td>9</td>\n    </tr>\n    <tr>\n      <th>147</th>\n      <td>1312200</td>\n      <td>Ahmedabad</td>\n      <td>Gujarat Titans</td>\n      <td>130</td>\n      <td>2</td>\n      <td>4</td>\n      <td>3</td>\n      <td>MS Wade</td>\n      <td>TA Boult</td>\n      <td>Shubman Gill</td>\n      <td>...</td>\n      <td>0</td>\n      <td>1</td>\n      <td>1</td>\n      <td>caught</td>\n      <td>R Parag</td>\n      <td>Gujarat Titans</td>\n      <td>23</td>\n      <td>107</td>\n      <td>93</td>\n      <td>8</td>\n    </tr>\n    <tr>\n      <th>148</th>\n      <td>1312200</td>\n      <td>Ahmedabad</td>\n      <td>Gujarat Titans</td>\n      <td>130</td>\n      <td>2</td>\n      <td>4</td>\n      <td>4</td>\n      <td>HH Pandya</td>\n      <td>TA Boult</td>\n      <td>Shubman Gill</td>\n      <td>...</td>\n      <td>0</td>\n      <td>0</td>\n      <td>0</td>\n      <td>NaN</td>\n      <td>NaN</td>\n      <td>Gujarat Titans</td>\n      <td>24</td>\n      <td>106</td>\n      <td>92</td>\n      <td>8</td>\n    </tr>\n    <tr>\n      <th>149</th>\n      <td>1312200</td>\n      <td>Ahmedabad</td>\n      <td>Gujarat Titans</td>\n      <td>130</td>\n      <td>2</td>\n      <td>4</td>\n      <td>5</td>\n      <td>HH Pandya</td>\n      <td>TA Boult</td>\n      <td>Shubman Gill</td>\n      <td>...</td>\n      <td>0</td>\n      <td>0</td>\n      <td>0</td>\n      <td>NaN</td>\n      <td>NaN</td>\n      <td>Gujarat Titans</td>\n      <td>24</td>\n      <td>106</td>\n      <td>91</td>\n      <td>8</td>\n    </tr>\n    <tr>\n      <th>150</th>\n      <td>1312200</td>\n      <td>Ahmedabad</td>\n      <td>Gujarat Titans</td>\n      <td>130</td>\n      <td>2</td>\n      <td>4</td>\n      <td>6</td>\n      <td>HH Pandya</td>\n      <td>TA Boult</td>\n      <td>Shubman Gill</td>\n      <td>...</td>\n      <td>0</td>\n      <td>0</td>\n      <td>0</td>\n      <td>NaN</td>\n      <td>NaN</td>\n      <td>Gujarat Titans</td>\n      <td>24</td>\n      <td>106</td>\n      <td>90</td>\n      <td>8</td>\n    </tr>\n    <tr>\n      <th>151</th>\n      <td>1312200</td>\n      <td>Ahmedabad</td>\n      <td>Gujarat Titans</td>\n      <td>130</td>\n      <td>2</td>\n      <td>4</td>\n      <td>7</td>\n      <td>HH Pandya</td>\n      <td>TA Boult</td>\n      <td>Shubman Gill</td>\n      <td>...</td>\n      <td>0</td>\n      <td>0</td>\n      <td>0</td>\n      <td>NaN</td>\n      <td>NaN</td>\n      <td>Gujarat Titans</td>\n      <td>25</td>\n      <td>105</td>\n      <td>89</td>\n      <td>8</td>\n    </tr>\n    <tr>\n      <th>152</th>\n      <td>1312200</td>\n      <td>Ahmedabad</td>\n      <td>Gujarat Titans</td>\n      <td>130</td>\n      <td>2</td>\n      <td>4</td>\n      <td>8</td>\n      <td>HH Pandya</td>\n      <td>TA Boult</td>\n      <td>Shubman Gill</td>\n      <td>...</td>\n      <td>0</td>\n      <td>0</td>\n      <td>0</td>\n      <td>NaN</td>\n      <td>NaN</td>\n      <td>Gujarat Titans</td>\n      <td>25</td>\n      <td>105</td>\n      <td>88</td>\n      <td>8</td>\n    </tr>\n    <tr>\n      <th>153</th>\n      <td>1312200</td>\n      <td>Ahmedabad</td>\n      <td>Gujarat Titans</td>\n      <td>130</td>\n      <td>2</td>\n      <td>5</td>\n      <td>1</td>\n      <td>Shubman Gill</td>\n      <td>YS Chahal</td>\n      <td>HH Pandya</td>\n      <td>...</td>\n      <td>0</td>\n      <td>0</td>\n      <td>0</td>\n      <td>NaN</td>\n      <td>NaN</td>\n      <td>Gujarat Titans</td>\n      <td>25</td>\n      <td>105</td>\n      <td>89</td>\n      <td>8</td>\n    </tr>\n    <tr>\n      <th>154</th>\n      <td>1312200</td>\n      <td>Ahmedabad</td>\n      <td>Gujarat Titans</td>\n      <td>130</td>\n      <td>2</td>\n      <td>5</td>\n      <td>2</td>\n      <td>Shubman Gill</td>\n      <td>YS Chahal</td>\n      <td>HH Pandya</td>\n      <td>...</td>\n      <td>0</td>\n      <td>0</td>\n      <td>0</td>\n      <td>NaN</td>\n      <td>NaN</td>\n      <td>Gujarat Titans</td>\n      <td>25</td>\n      <td>105</td>\n      <td>88</td>\n      <td>8</td>\n    </tr>\n    <tr>\n      <th>155</th>\n      <td>1312200</td>\n      <td>Ahmedabad</td>\n      <td>Gujarat Titans</td>\n      <td>130</td>\n      <td>2</td>\n      <td>5</td>\n      <td>3</td>\n      <td>Shubman Gill</td>\n      <td>YS Chahal</td>\n      <td>HH Pandya</td>\n      <td>...</td>\n      <td>0</td>\n      <td>0</td>\n      <td>0</td>\n      <td>NaN</td>\n      <td>NaN</td>\n      <td>Gujarat Titans</td>\n      <td>26</td>\n      <td>104</td>\n      <td>87</td>\n      <td>8</td>\n    </tr>\n    <tr>\n      <th>156</th>\n      <td>1312200</td>\n      <td>Ahmedabad</td>\n      <td>Gujarat Titans</td>\n      <td>130</td>\n      <td>2</td>\n      <td>5</td>\n      <td>4</td>\n      <td>HH Pandya</td>\n      <td>YS Chahal</td>\n      <td>Shubman Gill</td>\n      <td>...</td>\n      <td>0</td>\n      <td>0</td>\n      <td>0</td>\n      <td>NaN</td>\n      <td>NaN</td>\n      <td>Gujarat Titans</td>\n      <td>26</td>\n      <td>104</td>\n      <td>86</td>\n      <td>8</td>\n    </tr>\n    <tr>\n      <th>157</th>\n      <td>1312200</td>\n      <td>Ahmedabad</td>\n      <td>Gujarat Titans</td>\n      <td>130</td>\n      <td>2</td>\n      <td>5</td>\n      <td>5</td>\n      <td>HH Pandya</td>\n      <td>YS Chahal</td>\n      <td>Shubman Gill</td>\n      <td>...</td>\n      <td>0</td>\n      <td>0</td>\n      <td>0</td>\n      <td>NaN</td>\n      <td>NaN</td>\n      <td>Gujarat Titans</td>\n      <td>27</td>\n      <td>103</td>\n      <td>85</td>\n      <td>8</td>\n    </tr>\n    <tr>\n      <th>158</th>\n      <td>1312200</td>\n      <td>Ahmedabad</td>\n      <td>Gujarat Titans</td>\n      <td>130</td>\n      <td>2</td>\n      <td>5</td>\n      <td>6</td>\n      <td>Shubman Gill</td>\n      <td>YS Chahal</td>\n      <td>HH Pandya</td>\n      <td>...</td>\n      <td>0</td>\n      <td>0</td>\n      <td>0</td>\n      <td>NaN</td>\n      <td>NaN</td>\n      <td>Gujarat Titans</td>\n      <td>31</td>\n      <td>99</td>\n      <td>84</td>\n      <td>8</td>\n    </tr>\n    <tr>\n      <th>159</th>\n      <td>1312200</td>\n      <td>Ahmedabad</td>\n      <td>Gujarat Titans</td>\n      <td>130</td>\n      <td>2</td>\n      <td>6</td>\n      <td>1</td>\n      <td>HH Pandya</td>\n      <td>OC McCoy</td>\n      <td>Shubman Gill</td>\n      <td>...</td>\n      <td>0</td>\n      <td>0</td>\n      <td>0</td>\n      <td>NaN</td>\n      <td>NaN</td>\n      <td>Gujarat Titans</td>\n      <td>31</td>\n      <td>99</td>\n      <td>83</td>\n      <td>8</td>\n    </tr>\n    <tr>\n      <th>160</th>\n      <td>1312200</td>\n      <td>Ahmedabad</td>\n      <td>Gujarat Titans</td>\n      <td>130</td>\n      <td>2</td>\n      <td>6</td>\n      <td>2</td>\n      <td>HH Pandya</td>\n      <td>OC McCoy</td>\n      <td>Shubman Gill</td>\n      <td>...</td>\n      <td>0</td>\n      <td>0</td>\n      <td>0</td>\n      <td>NaN</td>\n      <td>NaN</td>\n      <td>Gujarat Titans</td>\n      <td>32</td>\n      <td>98</td>\n      <td>82</td>\n      <td>8</td>\n    </tr>\n    <tr>\n      <th>161</th>\n      <td>1312200</td>\n      <td>Ahmedabad</td>\n      <td>Gujarat Titans</td>\n      <td>130</td>\n      <td>2</td>\n      <td>6</td>\n      <td>3</td>\n      <td>Shubman Gill</td>\n      <td>OC McCoy</td>\n      <td>HH Pandya</td>\n      <td>...</td>\n      <td>0</td>\n      <td>0</td>\n      <td>0</td>\n      <td>NaN</td>\n      <td>NaN</td>\n      <td>Gujarat Titans</td>\n      <td>32</td>\n      <td>98</td>\n      <td>81</td>\n      <td>8</td>\n    </tr>\n    <tr>\n      <th>162</th>\n      <td>1312200</td>\n      <td>Ahmedabad</td>\n      <td>Gujarat Titans</td>\n      <td>130</td>\n      <td>2</td>\n      <td>6</td>\n      <td>4</td>\n      <td>Shubman Gill</td>\n      <td>OC McCoy</td>\n      <td>HH Pandya</td>\n      <td>...</td>\n      <td>0</td>\n      <td>0</td>\n      <td>0</td>\n      <td>NaN</td>\n      <td>NaN</td>\n      <td>Gujarat Titans</td>\n      <td>33</td>\n      <td>97</td>\n      <td>80</td>\n      <td>8</td>\n    </tr>\n    <tr>\n      <th>163</th>\n      <td>1312200</td>\n      <td>Ahmedabad</td>\n      <td>Gujarat Titans</td>\n      <td>130</td>\n      <td>2</td>\n      <td>6</td>\n      <td>5</td>\n      <td>HH Pandya</td>\n      <td>OC McCoy</td>\n      <td>Shubman Gill</td>\n      <td>...</td>\n      <td>0</td>\n      <td>0</td>\n      <td>0</td>\n      <td>NaN</td>\n      <td>NaN</td>\n      <td>Gujarat Titans</td>\n      <td>34</td>\n      <td>96</td>\n      <td>79</td>\n      <td>8</td>\n    </tr>\n    <tr>\n      <th>164</th>\n      <td>1312200</td>\n      <td>Ahmedabad</td>\n      <td>Gujarat Titans</td>\n      <td>130</td>\n      <td>2</td>\n      <td>6</td>\n      <td>6</td>\n      <td>Shubman Gill</td>\n      <td>OC McCoy</td>\n      <td>HH Pandya</td>\n      <td>...</td>\n      <td>0</td>\n      <td>0</td>\n      <td>0</td>\n      <td>NaN</td>\n      <td>NaN</td>\n      <td>Gujarat Titans</td>\n      <td>35</td>\n      <td>95</td>\n      <td>78</td>\n      <td>8</td>\n    </tr>\n    <tr>\n      <th>165</th>\n      <td>1312200</td>\n      <td>Ahmedabad</td>\n      <td>Gujarat Titans</td>\n      <td>130</td>\n      <td>2</td>\n      <td>7</td>\n      <td>1</td>\n      <td>Shubman Gill</td>\n      <td>YS Chahal</td>\n      <td>HH Pandya</td>\n      <td>...</td>\n      <td>0</td>\n      <td>0</td>\n      <td>0</td>\n      <td>NaN</td>\n      <td>NaN</td>\n      <td>Gujarat Titans</td>\n      <td>35</td>\n      <td>95</td>\n      <td>77</td>\n      <td>8</td>\n    </tr>\n    <tr>\n      <th>166</th>\n      <td>1312200</td>\n      <td>Ahmedabad</td>\n      <td>Gujarat Titans</td>\n      <td>130</td>\n      <td>2</td>\n      <td>7</td>\n      <td>2</td>\n      <td>Shubman Gill</td>\n      <td>YS Chahal</td>\n      <td>HH Pandya</td>\n      <td>...</td>\n      <td>0</td>\n      <td>0</td>\n      <td>0</td>\n      <td>NaN</td>\n      <td>NaN</td>\n      <td>Gujarat Titans</td>\n      <td>35</td>\n      <td>95</td>\n      <td>76</td>\n      <td>8</td>\n    </tr>\n    <tr>\n      <th>167</th>\n      <td>1312200</td>\n      <td>Ahmedabad</td>\n      <td>Gujarat Titans</td>\n      <td>130</td>\n      <td>2</td>\n      <td>7</td>\n      <td>3</td>\n      <td>Shubman Gill</td>\n      <td>YS Chahal</td>\n      <td>HH Pandya</td>\n      <td>...</td>\n      <td>0</td>\n      <td>0</td>\n      <td>0</td>\n      <td>NaN</td>\n      <td>NaN</td>\n      <td>Gujarat Titans</td>\n      <td>36</td>\n      <td>94</td>\n      <td>75</td>\n      <td>8</td>\n    </tr>\n    <tr>\n      <th>168</th>\n      <td>1312200</td>\n      <td>Ahmedabad</td>\n      <td>Gujarat Titans</td>\n      <td>130</td>\n      <td>2</td>\n      <td>7</td>\n      <td>4</td>\n      <td>HH Pandya</td>\n      <td>YS Chahal</td>\n      <td>Shubman Gill</td>\n      <td>...</td>\n      <td>0</td>\n      <td>0</td>\n      <td>0</td>\n      <td>NaN</td>\n      <td>NaN</td>\n      <td>Gujarat Titans</td>\n      <td>37</td>\n      <td>93</td>\n      <td>74</td>\n      <td>8</td>\n    </tr>\n    <tr>\n      <th>169</th>\n      <td>1312200</td>\n      <td>Ahmedabad</td>\n      <td>Gujarat Titans</td>\n      <td>130</td>\n      <td>2</td>\n      <td>7</td>\n      <td>5</td>\n      <td>Shubman Gill</td>\n      <td>YS Chahal</td>\n      <td>HH Pandya</td>\n      <td>...</td>\n      <td>0</td>\n      <td>0</td>\n      <td>0</td>\n      <td>NaN</td>\n      <td>NaN</td>\n      <td>Gujarat Titans</td>\n      <td>38</td>\n      <td>92</td>\n      <td>73</td>\n      <td>8</td>\n    </tr>\n  </tbody>\n</table>\n<p>50 rows × 24 columns</p>\n</div>"
     },
     "execution_count": 47,
     "metadata": {},
     "output_type": "execute_result"
    }
   ],
   "source": [
    "delivary_df.head(50)"
   ]
  },
  {
   "cell_type": "code",
   "execution_count": 48,
   "metadata": {
    "ExecuteTime": {
     "end_time": "2024-04-02T15:27:38.161228Z",
     "start_time": "2024-04-02T15:27:38.151752Z"
    }
   },
   "outputs": [
    {
     "data": {
      "text/plain": "            ID       City            WinningTeam  total_run_x  innings  overs  \\\n198930  335982  Bangalore  Kolkata Knight Riders          222        2     14   \n198931  335982  Bangalore  Kolkata Knight Riders          222        2     14   \n198932  335982  Bangalore  Kolkata Knight Riders          222        2     14   \n198933  335982  Bangalore  Kolkata Knight Riders          222        2     15   \n198934  335982  Bangalore  Kolkata Knight Riders          222        2     15   \n\n        ballnumber    batter     bowler non-striker  ... non_boundary  \\\n198930           5   P Kumar   I Sharma    SB Joshi  ...            0   \n198931           6  SB Joshi   I Sharma     P Kumar  ...            0   \n198932           7   P Kumar   I Sharma    SB Joshi  ...            0   \n198933           1  SB Joshi  LR Shukla     P Kumar  ...            0   \n198934           2  SB Joshi  LR Shukla     P Kumar  ...            0   \n\n        isWicketDelivery  player_out    kind  fielders_involved  \\\n198930                 0           0     NaN                NaN   \n198931                 0           0     NaN                NaN   \n198932                 0           0     NaN                NaN   \n198933                 0           0     NaN                NaN   \n198934                 1           1  caught        BB McCullum   \n\n                        BattingTeam  current_score Runs_Lefts Balls_Lefts  \\\n198930  Royal Challengers Bangalore             80        142          31   \n198931  Royal Challengers Bangalore             81        141          30   \n198932  Royal Challengers Bangalore             81        141          29   \n198933  Royal Challengers Bangalore             82        140          29   \n198934  Royal Challengers Bangalore             82        140          28   \n\n       Wicket_remaining  \n198930                1  \n198931                1  \n198932                1  \n198933                1  \n198934                0  \n\n[5 rows x 24 columns]",
      "text/html": "<div>\n<style scoped>\n    .dataframe tbody tr th:only-of-type {\n        vertical-align: middle;\n    }\n\n    .dataframe tbody tr th {\n        vertical-align: top;\n    }\n\n    .dataframe thead th {\n        text-align: right;\n    }\n</style>\n<table border=\"1\" class=\"dataframe\">\n  <thead>\n    <tr style=\"text-align: right;\">\n      <th></th>\n      <th>ID</th>\n      <th>City</th>\n      <th>WinningTeam</th>\n      <th>total_run_x</th>\n      <th>innings</th>\n      <th>overs</th>\n      <th>ballnumber</th>\n      <th>batter</th>\n      <th>bowler</th>\n      <th>non-striker</th>\n      <th>...</th>\n      <th>non_boundary</th>\n      <th>isWicketDelivery</th>\n      <th>player_out</th>\n      <th>kind</th>\n      <th>fielders_involved</th>\n      <th>BattingTeam</th>\n      <th>current_score</th>\n      <th>Runs_Lefts</th>\n      <th>Balls_Lefts</th>\n      <th>Wicket_remaining</th>\n    </tr>\n  </thead>\n  <tbody>\n    <tr>\n      <th>198930</th>\n      <td>335982</td>\n      <td>Bangalore</td>\n      <td>Kolkata Knight Riders</td>\n      <td>222</td>\n      <td>2</td>\n      <td>14</td>\n      <td>5</td>\n      <td>P Kumar</td>\n      <td>I Sharma</td>\n      <td>SB Joshi</td>\n      <td>...</td>\n      <td>0</td>\n      <td>0</td>\n      <td>0</td>\n      <td>NaN</td>\n      <td>NaN</td>\n      <td>Royal Challengers Bangalore</td>\n      <td>80</td>\n      <td>142</td>\n      <td>31</td>\n      <td>1</td>\n    </tr>\n    <tr>\n      <th>198931</th>\n      <td>335982</td>\n      <td>Bangalore</td>\n      <td>Kolkata Knight Riders</td>\n      <td>222</td>\n      <td>2</td>\n      <td>14</td>\n      <td>6</td>\n      <td>SB Joshi</td>\n      <td>I Sharma</td>\n      <td>P Kumar</td>\n      <td>...</td>\n      <td>0</td>\n      <td>0</td>\n      <td>0</td>\n      <td>NaN</td>\n      <td>NaN</td>\n      <td>Royal Challengers Bangalore</td>\n      <td>81</td>\n      <td>141</td>\n      <td>30</td>\n      <td>1</td>\n    </tr>\n    <tr>\n      <th>198932</th>\n      <td>335982</td>\n      <td>Bangalore</td>\n      <td>Kolkata Knight Riders</td>\n      <td>222</td>\n      <td>2</td>\n      <td>14</td>\n      <td>7</td>\n      <td>P Kumar</td>\n      <td>I Sharma</td>\n      <td>SB Joshi</td>\n      <td>...</td>\n      <td>0</td>\n      <td>0</td>\n      <td>0</td>\n      <td>NaN</td>\n      <td>NaN</td>\n      <td>Royal Challengers Bangalore</td>\n      <td>81</td>\n      <td>141</td>\n      <td>29</td>\n      <td>1</td>\n    </tr>\n    <tr>\n      <th>198933</th>\n      <td>335982</td>\n      <td>Bangalore</td>\n      <td>Kolkata Knight Riders</td>\n      <td>222</td>\n      <td>2</td>\n      <td>15</td>\n      <td>1</td>\n      <td>SB Joshi</td>\n      <td>LR Shukla</td>\n      <td>P Kumar</td>\n      <td>...</td>\n      <td>0</td>\n      <td>0</td>\n      <td>0</td>\n      <td>NaN</td>\n      <td>NaN</td>\n      <td>Royal Challengers Bangalore</td>\n      <td>82</td>\n      <td>140</td>\n      <td>29</td>\n      <td>1</td>\n    </tr>\n    <tr>\n      <th>198934</th>\n      <td>335982</td>\n      <td>Bangalore</td>\n      <td>Kolkata Knight Riders</td>\n      <td>222</td>\n      <td>2</td>\n      <td>15</td>\n      <td>2</td>\n      <td>SB Joshi</td>\n      <td>LR Shukla</td>\n      <td>P Kumar</td>\n      <td>...</td>\n      <td>0</td>\n      <td>1</td>\n      <td>1</td>\n      <td>caught</td>\n      <td>BB McCullum</td>\n      <td>Royal Challengers Bangalore</td>\n      <td>82</td>\n      <td>140</td>\n      <td>28</td>\n      <td>0</td>\n    </tr>\n  </tbody>\n</table>\n<p>5 rows × 24 columns</p>\n</div>"
     },
     "execution_count": 48,
     "metadata": {},
     "output_type": "execute_result"
    }
   ],
   "source": [
    "delivary_df.tail()"
   ]
  },
  {
   "cell_type": "code",
   "execution_count": 49,
   "metadata": {
    "ExecuteTime": {
     "end_time": "2024-04-02T15:27:38.212101Z",
     "start_time": "2024-04-02T15:27:38.208074Z"
    }
   },
   "outputs": [],
   "source": [
    "delivary_df['Current_run_rate'] = (delivary_df['current_score']*6)/(120 - delivary_df['Balls_Lefts'])"
   ]
  },
  {
   "cell_type": "code",
   "execution_count": 50,
   "metadata": {
    "ExecuteTime": {
     "end_time": "2024-04-02T15:27:38.254275Z",
     "start_time": "2024-04-02T15:27:38.249978Z"
    }
   },
   "outputs": [],
   "source": [
    "delivary_df['Required_run_rate'] = (delivary_df['Runs_Lefts'] * 6)/ delivary_df['Balls_Lefts']"
   ]
  },
  {
   "cell_type": "code",
   "execution_count": 51,
   "metadata": {
    "ExecuteTime": {
     "end_time": "2024-04-02T15:27:38.353857Z",
     "start_time": "2024-04-02T15:27:38.340010Z"
    }
   },
   "outputs": [
    {
     "data": {
      "text/plain": "          ID       City     WinningTeam  total_run_x  innings  overs  \\\n120  1312200  Ahmedabad  Gujarat Titans          130        2      0   \n121  1312200  Ahmedabad  Gujarat Titans          130        2      0   \n122  1312200  Ahmedabad  Gujarat Titans          130        2      0   \n123  1312200  Ahmedabad  Gujarat Titans          130        2      0   \n124  1312200  Ahmedabad  Gujarat Titans          130        2      0   \n125  1312200  Ahmedabad  Gujarat Titans          130        2      0   \n126  1312200  Ahmedabad  Gujarat Titans          130        2      1   \n127  1312200  Ahmedabad  Gujarat Titans          130        2      1   \n128  1312200  Ahmedabad  Gujarat Titans          130        2      1   \n129  1312200  Ahmedabad  Gujarat Titans          130        2      1   \n130  1312200  Ahmedabad  Gujarat Titans          130        2      1   \n131  1312200  Ahmedabad  Gujarat Titans          130        2      1   \n132  1312200  Ahmedabad  Gujarat Titans          130        2      2   \n133  1312200  Ahmedabad  Gujarat Titans          130        2      2   \n134  1312200  Ahmedabad  Gujarat Titans          130        2      2   \n135  1312200  Ahmedabad  Gujarat Titans          130        2      2   \n136  1312200  Ahmedabad  Gujarat Titans          130        2      2   \n137  1312200  Ahmedabad  Gujarat Titans          130        2      2   \n138  1312200  Ahmedabad  Gujarat Titans          130        2      3   \n139  1312200  Ahmedabad  Gujarat Titans          130        2      3   \n140  1312200  Ahmedabad  Gujarat Titans          130        2      3   \n141  1312200  Ahmedabad  Gujarat Titans          130        2      3   \n142  1312200  Ahmedabad  Gujarat Titans          130        2      3   \n143  1312200  Ahmedabad  Gujarat Titans          130        2      3   \n144  1312200  Ahmedabad  Gujarat Titans          130        2      3   \n145  1312200  Ahmedabad  Gujarat Titans          130        2      4   \n146  1312200  Ahmedabad  Gujarat Titans          130        2      4   \n147  1312200  Ahmedabad  Gujarat Titans          130        2      4   \n148  1312200  Ahmedabad  Gujarat Titans          130        2      4   \n149  1312200  Ahmedabad  Gujarat Titans          130        2      4   \n\n     ballnumber        batter             bowler   non-striker  ...  \\\n120           1       WP Saha           TA Boult  Shubman Gill  ...   \n121           2       WP Saha           TA Boult  Shubman Gill  ...   \n122           3       WP Saha           TA Boult  Shubman Gill  ...   \n123           4  Shubman Gill           TA Boult       WP Saha  ...   \n124           5  Shubman Gill           TA Boult       WP Saha  ...   \n125           6  Shubman Gill           TA Boult       WP Saha  ...   \n126           1       WP Saha  M Prasidh Krishna  Shubman Gill  ...   \n127           2       WP Saha  M Prasidh Krishna  Shubman Gill  ...   \n128           3       WP Saha  M Prasidh Krishna  Shubman Gill  ...   \n129           4       WP Saha  M Prasidh Krishna  Shubman Gill  ...   \n130           5       MS Wade  M Prasidh Krishna  Shubman Gill  ...   \n131           6       MS Wade  M Prasidh Krishna  Shubman Gill  ...   \n132           1  Shubman Gill           TA Boult       MS Wade  ...   \n133           2  Shubman Gill           TA Boult       MS Wade  ...   \n134           3  Shubman Gill           TA Boult       MS Wade  ...   \n135           4  Shubman Gill           TA Boult       MS Wade  ...   \n136           5  Shubman Gill           TA Boult       MS Wade  ...   \n137           6  Shubman Gill           TA Boult       MS Wade  ...   \n138           1       MS Wade  M Prasidh Krishna  Shubman Gill  ...   \n139           2       MS Wade  M Prasidh Krishna  Shubman Gill  ...   \n140           3       MS Wade  M Prasidh Krishna  Shubman Gill  ...   \n141           4       MS Wade  M Prasidh Krishna  Shubman Gill  ...   \n142           5       MS Wade  M Prasidh Krishna  Shubman Gill  ...   \n143           6       MS Wade  M Prasidh Krishna  Shubman Gill  ...   \n144           7       MS Wade  M Prasidh Krishna  Shubman Gill  ...   \n145           1  Shubman Gill           TA Boult       MS Wade  ...   \n146           2       MS Wade           TA Boult  Shubman Gill  ...   \n147           3       MS Wade           TA Boult  Shubman Gill  ...   \n148           4     HH Pandya           TA Boult  Shubman Gill  ...   \n149           5     HH Pandya           TA Boult  Shubman Gill  ...   \n\n    player_out    kind  fielders_involved     BattingTeam  current_score  \\\n120          0     NaN                NaN  Gujarat Titans              0   \n121          0     NaN                NaN  Gujarat Titans              0   \n122          0     NaN                NaN  Gujarat Titans              1   \n123          0     NaN                NaN  Gujarat Titans              1   \n124          0     NaN                NaN  Gujarat Titans              1   \n125          0     NaN                NaN  Gujarat Titans              5   \n126          0     NaN                NaN  Gujarat Titans              5   \n127          0     NaN                NaN  Gujarat Titans              9   \n128          0     NaN                NaN  Gujarat Titans              9   \n129          1  bowled                NaN  Gujarat Titans              9   \n130          0     NaN                NaN  Gujarat Titans             11   \n131          0     NaN                NaN  Gujarat Titans             11   \n132          0     NaN                NaN  Gujarat Titans             11   \n133          0     NaN                NaN  Gujarat Titans             11   \n134          0     NaN                NaN  Gujarat Titans             11   \n135          0     NaN                NaN  Gujarat Titans             11   \n136          0     NaN                NaN  Gujarat Titans             11   \n137          0     NaN                NaN  Gujarat Titans             11   \n138          0     NaN                NaN  Gujarat Titans             16   \n139          0     NaN                NaN  Gujarat Titans             16   \n140          0     NaN                NaN  Gujarat Titans             16   \n141          0     NaN                NaN  Gujarat Titans             16   \n142          0     NaN                NaN  Gujarat Titans             22   \n143          0     NaN                NaN  Gujarat Titans             22   \n144          0     NaN                NaN  Gujarat Titans             22   \n145          0     NaN                NaN  Gujarat Titans             23   \n146          0     NaN                NaN  Gujarat Titans             23   \n147          1  caught            R Parag  Gujarat Titans             23   \n148          0     NaN                NaN  Gujarat Titans             24   \n149          0     NaN                NaN  Gujarat Titans             24   \n\n     Runs_Lefts  Balls_Lefts Wicket_remaining Current_run_rate  \\\n120         130          119               10         0.000000   \n121         130          118               10         0.000000   \n122         129          117               10         2.000000   \n123         129          116               10         1.500000   \n124         129          115               10         1.200000   \n125         125          114               10         5.000000   \n126         125          113               10         4.285714   \n127         121          112               10         6.750000   \n128         121          111               10         6.000000   \n129         121          110                9         5.400000   \n130         119          109                9         6.000000   \n131         119          108                9         5.500000   \n132         119          107                9         5.076923   \n133         119          106                9         4.714286   \n134         119          105                9         4.400000   \n135         119          104                9         4.125000   \n136         119          103                9         3.882353   \n137         119          102                9         3.666667   \n138         114          101                9         5.052632   \n139         114          100                9         4.800000   \n140         114           99                9         4.571429   \n141         114           98                9         4.363636   \n142         108           97                9         5.739130   \n143         108           96                9         5.500000   \n144         108           95                9         5.280000   \n145         107           95                9         5.520000   \n146         107           94                9         5.307692   \n147         107           93                8         5.111111   \n148         106           92                8         5.142857   \n149         106           91                8         4.965517   \n\n    Required_run_rate  \n120          6.554622  \n121          6.610169  \n122          6.615385  \n123          6.672414  \n124          6.730435  \n125          6.578947  \n126          6.637168  \n127          6.482143  \n128          6.540541  \n129          6.600000  \n130          6.550459  \n131          6.611111  \n132          6.672897  \n133          6.735849  \n134          6.800000  \n135          6.865385  \n136          6.932039  \n137          7.000000  \n138          6.772277  \n139          6.840000  \n140          6.909091  \n141          6.979592  \n142          6.680412  \n143          6.750000  \n144          6.821053  \n145          6.757895  \n146          6.829787  \n147          6.903226  \n148          6.913043  \n149          6.989011  \n\n[30 rows x 26 columns]",
      "text/html": "<div>\n<style scoped>\n    .dataframe tbody tr th:only-of-type {\n        vertical-align: middle;\n    }\n\n    .dataframe tbody tr th {\n        vertical-align: top;\n    }\n\n    .dataframe thead th {\n        text-align: right;\n    }\n</style>\n<table border=\"1\" class=\"dataframe\">\n  <thead>\n    <tr style=\"text-align: right;\">\n      <th></th>\n      <th>ID</th>\n      <th>City</th>\n      <th>WinningTeam</th>\n      <th>total_run_x</th>\n      <th>innings</th>\n      <th>overs</th>\n      <th>ballnumber</th>\n      <th>batter</th>\n      <th>bowler</th>\n      <th>non-striker</th>\n      <th>...</th>\n      <th>player_out</th>\n      <th>kind</th>\n      <th>fielders_involved</th>\n      <th>BattingTeam</th>\n      <th>current_score</th>\n      <th>Runs_Lefts</th>\n      <th>Balls_Lefts</th>\n      <th>Wicket_remaining</th>\n      <th>Current_run_rate</th>\n      <th>Required_run_rate</th>\n    </tr>\n  </thead>\n  <tbody>\n    <tr>\n      <th>120</th>\n      <td>1312200</td>\n      <td>Ahmedabad</td>\n      <td>Gujarat Titans</td>\n      <td>130</td>\n      <td>2</td>\n      <td>0</td>\n      <td>1</td>\n      <td>WP Saha</td>\n      <td>TA Boult</td>\n      <td>Shubman Gill</td>\n      <td>...</td>\n      <td>0</td>\n      <td>NaN</td>\n      <td>NaN</td>\n      <td>Gujarat Titans</td>\n      <td>0</td>\n      <td>130</td>\n      <td>119</td>\n      <td>10</td>\n      <td>0.000000</td>\n      <td>6.554622</td>\n    </tr>\n    <tr>\n      <th>121</th>\n      <td>1312200</td>\n      <td>Ahmedabad</td>\n      <td>Gujarat Titans</td>\n      <td>130</td>\n      <td>2</td>\n      <td>0</td>\n      <td>2</td>\n      <td>WP Saha</td>\n      <td>TA Boult</td>\n      <td>Shubman Gill</td>\n      <td>...</td>\n      <td>0</td>\n      <td>NaN</td>\n      <td>NaN</td>\n      <td>Gujarat Titans</td>\n      <td>0</td>\n      <td>130</td>\n      <td>118</td>\n      <td>10</td>\n      <td>0.000000</td>\n      <td>6.610169</td>\n    </tr>\n    <tr>\n      <th>122</th>\n      <td>1312200</td>\n      <td>Ahmedabad</td>\n      <td>Gujarat Titans</td>\n      <td>130</td>\n      <td>2</td>\n      <td>0</td>\n      <td>3</td>\n      <td>WP Saha</td>\n      <td>TA Boult</td>\n      <td>Shubman Gill</td>\n      <td>...</td>\n      <td>0</td>\n      <td>NaN</td>\n      <td>NaN</td>\n      <td>Gujarat Titans</td>\n      <td>1</td>\n      <td>129</td>\n      <td>117</td>\n      <td>10</td>\n      <td>2.000000</td>\n      <td>6.615385</td>\n    </tr>\n    <tr>\n      <th>123</th>\n      <td>1312200</td>\n      <td>Ahmedabad</td>\n      <td>Gujarat Titans</td>\n      <td>130</td>\n      <td>2</td>\n      <td>0</td>\n      <td>4</td>\n      <td>Shubman Gill</td>\n      <td>TA Boult</td>\n      <td>WP Saha</td>\n      <td>...</td>\n      <td>0</td>\n      <td>NaN</td>\n      <td>NaN</td>\n      <td>Gujarat Titans</td>\n      <td>1</td>\n      <td>129</td>\n      <td>116</td>\n      <td>10</td>\n      <td>1.500000</td>\n      <td>6.672414</td>\n    </tr>\n    <tr>\n      <th>124</th>\n      <td>1312200</td>\n      <td>Ahmedabad</td>\n      <td>Gujarat Titans</td>\n      <td>130</td>\n      <td>2</td>\n      <td>0</td>\n      <td>5</td>\n      <td>Shubman Gill</td>\n      <td>TA Boult</td>\n      <td>WP Saha</td>\n      <td>...</td>\n      <td>0</td>\n      <td>NaN</td>\n      <td>NaN</td>\n      <td>Gujarat Titans</td>\n      <td>1</td>\n      <td>129</td>\n      <td>115</td>\n      <td>10</td>\n      <td>1.200000</td>\n      <td>6.730435</td>\n    </tr>\n    <tr>\n      <th>125</th>\n      <td>1312200</td>\n      <td>Ahmedabad</td>\n      <td>Gujarat Titans</td>\n      <td>130</td>\n      <td>2</td>\n      <td>0</td>\n      <td>6</td>\n      <td>Shubman Gill</td>\n      <td>TA Boult</td>\n      <td>WP Saha</td>\n      <td>...</td>\n      <td>0</td>\n      <td>NaN</td>\n      <td>NaN</td>\n      <td>Gujarat Titans</td>\n      <td>5</td>\n      <td>125</td>\n      <td>114</td>\n      <td>10</td>\n      <td>5.000000</td>\n      <td>6.578947</td>\n    </tr>\n    <tr>\n      <th>126</th>\n      <td>1312200</td>\n      <td>Ahmedabad</td>\n      <td>Gujarat Titans</td>\n      <td>130</td>\n      <td>2</td>\n      <td>1</td>\n      <td>1</td>\n      <td>WP Saha</td>\n      <td>M Prasidh Krishna</td>\n      <td>Shubman Gill</td>\n      <td>...</td>\n      <td>0</td>\n      <td>NaN</td>\n      <td>NaN</td>\n      <td>Gujarat Titans</td>\n      <td>5</td>\n      <td>125</td>\n      <td>113</td>\n      <td>10</td>\n      <td>4.285714</td>\n      <td>6.637168</td>\n    </tr>\n    <tr>\n      <th>127</th>\n      <td>1312200</td>\n      <td>Ahmedabad</td>\n      <td>Gujarat Titans</td>\n      <td>130</td>\n      <td>2</td>\n      <td>1</td>\n      <td>2</td>\n      <td>WP Saha</td>\n      <td>M Prasidh Krishna</td>\n      <td>Shubman Gill</td>\n      <td>...</td>\n      <td>0</td>\n      <td>NaN</td>\n      <td>NaN</td>\n      <td>Gujarat Titans</td>\n      <td>9</td>\n      <td>121</td>\n      <td>112</td>\n      <td>10</td>\n      <td>6.750000</td>\n      <td>6.482143</td>\n    </tr>\n    <tr>\n      <th>128</th>\n      <td>1312200</td>\n      <td>Ahmedabad</td>\n      <td>Gujarat Titans</td>\n      <td>130</td>\n      <td>2</td>\n      <td>1</td>\n      <td>3</td>\n      <td>WP Saha</td>\n      <td>M Prasidh Krishna</td>\n      <td>Shubman Gill</td>\n      <td>...</td>\n      <td>0</td>\n      <td>NaN</td>\n      <td>NaN</td>\n      <td>Gujarat Titans</td>\n      <td>9</td>\n      <td>121</td>\n      <td>111</td>\n      <td>10</td>\n      <td>6.000000</td>\n      <td>6.540541</td>\n    </tr>\n    <tr>\n      <th>129</th>\n      <td>1312200</td>\n      <td>Ahmedabad</td>\n      <td>Gujarat Titans</td>\n      <td>130</td>\n      <td>2</td>\n      <td>1</td>\n      <td>4</td>\n      <td>WP Saha</td>\n      <td>M Prasidh Krishna</td>\n      <td>Shubman Gill</td>\n      <td>...</td>\n      <td>1</td>\n      <td>bowled</td>\n      <td>NaN</td>\n      <td>Gujarat Titans</td>\n      <td>9</td>\n      <td>121</td>\n      <td>110</td>\n      <td>9</td>\n      <td>5.400000</td>\n      <td>6.600000</td>\n    </tr>\n    <tr>\n      <th>130</th>\n      <td>1312200</td>\n      <td>Ahmedabad</td>\n      <td>Gujarat Titans</td>\n      <td>130</td>\n      <td>2</td>\n      <td>1</td>\n      <td>5</td>\n      <td>MS Wade</td>\n      <td>M Prasidh Krishna</td>\n      <td>Shubman Gill</td>\n      <td>...</td>\n      <td>0</td>\n      <td>NaN</td>\n      <td>NaN</td>\n      <td>Gujarat Titans</td>\n      <td>11</td>\n      <td>119</td>\n      <td>109</td>\n      <td>9</td>\n      <td>6.000000</td>\n      <td>6.550459</td>\n    </tr>\n    <tr>\n      <th>131</th>\n      <td>1312200</td>\n      <td>Ahmedabad</td>\n      <td>Gujarat Titans</td>\n      <td>130</td>\n      <td>2</td>\n      <td>1</td>\n      <td>6</td>\n      <td>MS Wade</td>\n      <td>M Prasidh Krishna</td>\n      <td>Shubman Gill</td>\n      <td>...</td>\n      <td>0</td>\n      <td>NaN</td>\n      <td>NaN</td>\n      <td>Gujarat Titans</td>\n      <td>11</td>\n      <td>119</td>\n      <td>108</td>\n      <td>9</td>\n      <td>5.500000</td>\n      <td>6.611111</td>\n    </tr>\n    <tr>\n      <th>132</th>\n      <td>1312200</td>\n      <td>Ahmedabad</td>\n      <td>Gujarat Titans</td>\n      <td>130</td>\n      <td>2</td>\n      <td>2</td>\n      <td>1</td>\n      <td>Shubman Gill</td>\n      <td>TA Boult</td>\n      <td>MS Wade</td>\n      <td>...</td>\n      <td>0</td>\n      <td>NaN</td>\n      <td>NaN</td>\n      <td>Gujarat Titans</td>\n      <td>11</td>\n      <td>119</td>\n      <td>107</td>\n      <td>9</td>\n      <td>5.076923</td>\n      <td>6.672897</td>\n    </tr>\n    <tr>\n      <th>133</th>\n      <td>1312200</td>\n      <td>Ahmedabad</td>\n      <td>Gujarat Titans</td>\n      <td>130</td>\n      <td>2</td>\n      <td>2</td>\n      <td>2</td>\n      <td>Shubman Gill</td>\n      <td>TA Boult</td>\n      <td>MS Wade</td>\n      <td>...</td>\n      <td>0</td>\n      <td>NaN</td>\n      <td>NaN</td>\n      <td>Gujarat Titans</td>\n      <td>11</td>\n      <td>119</td>\n      <td>106</td>\n      <td>9</td>\n      <td>4.714286</td>\n      <td>6.735849</td>\n    </tr>\n    <tr>\n      <th>134</th>\n      <td>1312200</td>\n      <td>Ahmedabad</td>\n      <td>Gujarat Titans</td>\n      <td>130</td>\n      <td>2</td>\n      <td>2</td>\n      <td>3</td>\n      <td>Shubman Gill</td>\n      <td>TA Boult</td>\n      <td>MS Wade</td>\n      <td>...</td>\n      <td>0</td>\n      <td>NaN</td>\n      <td>NaN</td>\n      <td>Gujarat Titans</td>\n      <td>11</td>\n      <td>119</td>\n      <td>105</td>\n      <td>9</td>\n      <td>4.400000</td>\n      <td>6.800000</td>\n    </tr>\n    <tr>\n      <th>135</th>\n      <td>1312200</td>\n      <td>Ahmedabad</td>\n      <td>Gujarat Titans</td>\n      <td>130</td>\n      <td>2</td>\n      <td>2</td>\n      <td>4</td>\n      <td>Shubman Gill</td>\n      <td>TA Boult</td>\n      <td>MS Wade</td>\n      <td>...</td>\n      <td>0</td>\n      <td>NaN</td>\n      <td>NaN</td>\n      <td>Gujarat Titans</td>\n      <td>11</td>\n      <td>119</td>\n      <td>104</td>\n      <td>9</td>\n      <td>4.125000</td>\n      <td>6.865385</td>\n    </tr>\n    <tr>\n      <th>136</th>\n      <td>1312200</td>\n      <td>Ahmedabad</td>\n      <td>Gujarat Titans</td>\n      <td>130</td>\n      <td>2</td>\n      <td>2</td>\n      <td>5</td>\n      <td>Shubman Gill</td>\n      <td>TA Boult</td>\n      <td>MS Wade</td>\n      <td>...</td>\n      <td>0</td>\n      <td>NaN</td>\n      <td>NaN</td>\n      <td>Gujarat Titans</td>\n      <td>11</td>\n      <td>119</td>\n      <td>103</td>\n      <td>9</td>\n      <td>3.882353</td>\n      <td>6.932039</td>\n    </tr>\n    <tr>\n      <th>137</th>\n      <td>1312200</td>\n      <td>Ahmedabad</td>\n      <td>Gujarat Titans</td>\n      <td>130</td>\n      <td>2</td>\n      <td>2</td>\n      <td>6</td>\n      <td>Shubman Gill</td>\n      <td>TA Boult</td>\n      <td>MS Wade</td>\n      <td>...</td>\n      <td>0</td>\n      <td>NaN</td>\n      <td>NaN</td>\n      <td>Gujarat Titans</td>\n      <td>11</td>\n      <td>119</td>\n      <td>102</td>\n      <td>9</td>\n      <td>3.666667</td>\n      <td>7.000000</td>\n    </tr>\n    <tr>\n      <th>138</th>\n      <td>1312200</td>\n      <td>Ahmedabad</td>\n      <td>Gujarat Titans</td>\n      <td>130</td>\n      <td>2</td>\n      <td>3</td>\n      <td>1</td>\n      <td>MS Wade</td>\n      <td>M Prasidh Krishna</td>\n      <td>Shubman Gill</td>\n      <td>...</td>\n      <td>0</td>\n      <td>NaN</td>\n      <td>NaN</td>\n      <td>Gujarat Titans</td>\n      <td>16</td>\n      <td>114</td>\n      <td>101</td>\n      <td>9</td>\n      <td>5.052632</td>\n      <td>6.772277</td>\n    </tr>\n    <tr>\n      <th>139</th>\n      <td>1312200</td>\n      <td>Ahmedabad</td>\n      <td>Gujarat Titans</td>\n      <td>130</td>\n      <td>2</td>\n      <td>3</td>\n      <td>2</td>\n      <td>MS Wade</td>\n      <td>M Prasidh Krishna</td>\n      <td>Shubman Gill</td>\n      <td>...</td>\n      <td>0</td>\n      <td>NaN</td>\n      <td>NaN</td>\n      <td>Gujarat Titans</td>\n      <td>16</td>\n      <td>114</td>\n      <td>100</td>\n      <td>9</td>\n      <td>4.800000</td>\n      <td>6.840000</td>\n    </tr>\n    <tr>\n      <th>140</th>\n      <td>1312200</td>\n      <td>Ahmedabad</td>\n      <td>Gujarat Titans</td>\n      <td>130</td>\n      <td>2</td>\n      <td>3</td>\n      <td>3</td>\n      <td>MS Wade</td>\n      <td>M Prasidh Krishna</td>\n      <td>Shubman Gill</td>\n      <td>...</td>\n      <td>0</td>\n      <td>NaN</td>\n      <td>NaN</td>\n      <td>Gujarat Titans</td>\n      <td>16</td>\n      <td>114</td>\n      <td>99</td>\n      <td>9</td>\n      <td>4.571429</td>\n      <td>6.909091</td>\n    </tr>\n    <tr>\n      <th>141</th>\n      <td>1312200</td>\n      <td>Ahmedabad</td>\n      <td>Gujarat Titans</td>\n      <td>130</td>\n      <td>2</td>\n      <td>3</td>\n      <td>4</td>\n      <td>MS Wade</td>\n      <td>M Prasidh Krishna</td>\n      <td>Shubman Gill</td>\n      <td>...</td>\n      <td>0</td>\n      <td>NaN</td>\n      <td>NaN</td>\n      <td>Gujarat Titans</td>\n      <td>16</td>\n      <td>114</td>\n      <td>98</td>\n      <td>9</td>\n      <td>4.363636</td>\n      <td>6.979592</td>\n    </tr>\n    <tr>\n      <th>142</th>\n      <td>1312200</td>\n      <td>Ahmedabad</td>\n      <td>Gujarat Titans</td>\n      <td>130</td>\n      <td>2</td>\n      <td>3</td>\n      <td>5</td>\n      <td>MS Wade</td>\n      <td>M Prasidh Krishna</td>\n      <td>Shubman Gill</td>\n      <td>...</td>\n      <td>0</td>\n      <td>NaN</td>\n      <td>NaN</td>\n      <td>Gujarat Titans</td>\n      <td>22</td>\n      <td>108</td>\n      <td>97</td>\n      <td>9</td>\n      <td>5.739130</td>\n      <td>6.680412</td>\n    </tr>\n    <tr>\n      <th>143</th>\n      <td>1312200</td>\n      <td>Ahmedabad</td>\n      <td>Gujarat Titans</td>\n      <td>130</td>\n      <td>2</td>\n      <td>3</td>\n      <td>6</td>\n      <td>MS Wade</td>\n      <td>M Prasidh Krishna</td>\n      <td>Shubman Gill</td>\n      <td>...</td>\n      <td>0</td>\n      <td>NaN</td>\n      <td>NaN</td>\n      <td>Gujarat Titans</td>\n      <td>22</td>\n      <td>108</td>\n      <td>96</td>\n      <td>9</td>\n      <td>5.500000</td>\n      <td>6.750000</td>\n    </tr>\n    <tr>\n      <th>144</th>\n      <td>1312200</td>\n      <td>Ahmedabad</td>\n      <td>Gujarat Titans</td>\n      <td>130</td>\n      <td>2</td>\n      <td>3</td>\n      <td>7</td>\n      <td>MS Wade</td>\n      <td>M Prasidh Krishna</td>\n      <td>Shubman Gill</td>\n      <td>...</td>\n      <td>0</td>\n      <td>NaN</td>\n      <td>NaN</td>\n      <td>Gujarat Titans</td>\n      <td>22</td>\n      <td>108</td>\n      <td>95</td>\n      <td>9</td>\n      <td>5.280000</td>\n      <td>6.821053</td>\n    </tr>\n    <tr>\n      <th>145</th>\n      <td>1312200</td>\n      <td>Ahmedabad</td>\n      <td>Gujarat Titans</td>\n      <td>130</td>\n      <td>2</td>\n      <td>4</td>\n      <td>1</td>\n      <td>Shubman Gill</td>\n      <td>TA Boult</td>\n      <td>MS Wade</td>\n      <td>...</td>\n      <td>0</td>\n      <td>NaN</td>\n      <td>NaN</td>\n      <td>Gujarat Titans</td>\n      <td>23</td>\n      <td>107</td>\n      <td>95</td>\n      <td>9</td>\n      <td>5.520000</td>\n      <td>6.757895</td>\n    </tr>\n    <tr>\n      <th>146</th>\n      <td>1312200</td>\n      <td>Ahmedabad</td>\n      <td>Gujarat Titans</td>\n      <td>130</td>\n      <td>2</td>\n      <td>4</td>\n      <td>2</td>\n      <td>MS Wade</td>\n      <td>TA Boult</td>\n      <td>Shubman Gill</td>\n      <td>...</td>\n      <td>0</td>\n      <td>NaN</td>\n      <td>NaN</td>\n      <td>Gujarat Titans</td>\n      <td>23</td>\n      <td>107</td>\n      <td>94</td>\n      <td>9</td>\n      <td>5.307692</td>\n      <td>6.829787</td>\n    </tr>\n    <tr>\n      <th>147</th>\n      <td>1312200</td>\n      <td>Ahmedabad</td>\n      <td>Gujarat Titans</td>\n      <td>130</td>\n      <td>2</td>\n      <td>4</td>\n      <td>3</td>\n      <td>MS Wade</td>\n      <td>TA Boult</td>\n      <td>Shubman Gill</td>\n      <td>...</td>\n      <td>1</td>\n      <td>caught</td>\n      <td>R Parag</td>\n      <td>Gujarat Titans</td>\n      <td>23</td>\n      <td>107</td>\n      <td>93</td>\n      <td>8</td>\n      <td>5.111111</td>\n      <td>6.903226</td>\n    </tr>\n    <tr>\n      <th>148</th>\n      <td>1312200</td>\n      <td>Ahmedabad</td>\n      <td>Gujarat Titans</td>\n      <td>130</td>\n      <td>2</td>\n      <td>4</td>\n      <td>4</td>\n      <td>HH Pandya</td>\n      <td>TA Boult</td>\n      <td>Shubman Gill</td>\n      <td>...</td>\n      <td>0</td>\n      <td>NaN</td>\n      <td>NaN</td>\n      <td>Gujarat Titans</td>\n      <td>24</td>\n      <td>106</td>\n      <td>92</td>\n      <td>8</td>\n      <td>5.142857</td>\n      <td>6.913043</td>\n    </tr>\n    <tr>\n      <th>149</th>\n      <td>1312200</td>\n      <td>Ahmedabad</td>\n      <td>Gujarat Titans</td>\n      <td>130</td>\n      <td>2</td>\n      <td>4</td>\n      <td>5</td>\n      <td>HH Pandya</td>\n      <td>TA Boult</td>\n      <td>Shubman Gill</td>\n      <td>...</td>\n      <td>0</td>\n      <td>NaN</td>\n      <td>NaN</td>\n      <td>Gujarat Titans</td>\n      <td>24</td>\n      <td>106</td>\n      <td>91</td>\n      <td>8</td>\n      <td>4.965517</td>\n      <td>6.989011</td>\n    </tr>\n  </tbody>\n</table>\n<p>30 rows × 26 columns</p>\n</div>"
     },
     "execution_count": 51,
     "metadata": {},
     "output_type": "execute_result"
    }
   ],
   "source": [
    "delivary_df.head(30)"
   ]
  },
  {
   "cell_type": "code",
   "execution_count": 52,
   "metadata": {
    "ExecuteTime": {
     "end_time": "2024-04-02T15:27:38.389385Z",
     "start_time": "2024-04-02T15:27:38.386433Z"
    }
   },
   "outputs": [],
   "source": [
    "def results(row):\n",
    "    return 1 if row['BattingTeam'] == row['WinningTeam'] else 0"
   ]
  },
  {
   "cell_type": "code",
   "execution_count": 53,
   "metadata": {
    "ExecuteTime": {
     "end_time": "2024-04-02T15:27:38.880335Z",
     "start_time": "2024-04-02T15:27:38.481630Z"
    }
   },
   "outputs": [],
   "source": [
    "delivary_df['results'] = delivary_df.apply(results, axis=1)"
   ]
  },
  {
   "cell_type": "code",
   "execution_count": 54,
   "metadata": {
    "ExecuteTime": {
     "end_time": "2024-04-02T15:27:38.891042Z",
     "start_time": "2024-04-02T15:27:38.881333Z"
    }
   },
   "outputs": [
    {
     "data": {
      "text/plain": "          ID       City     WinningTeam  total_run_x  innings  overs  \\\n120  1312200  Ahmedabad  Gujarat Titans          130        2      0   \n121  1312200  Ahmedabad  Gujarat Titans          130        2      0   \n122  1312200  Ahmedabad  Gujarat Titans          130        2      0   \n123  1312200  Ahmedabad  Gujarat Titans          130        2      0   \n124  1312200  Ahmedabad  Gujarat Titans          130        2      0   \n\n     ballnumber        batter    bowler   non-striker  ... kind  \\\n120           1       WP Saha  TA Boult  Shubman Gill  ...  NaN   \n121           2       WP Saha  TA Boult  Shubman Gill  ...  NaN   \n122           3       WP Saha  TA Boult  Shubman Gill  ...  NaN   \n123           4  Shubman Gill  TA Boult       WP Saha  ...  NaN   \n124           5  Shubman Gill  TA Boult       WP Saha  ...  NaN   \n\n     fielders_involved     BattingTeam  current_score  Runs_Lefts  \\\n120                NaN  Gujarat Titans              0         130   \n121                NaN  Gujarat Titans              0         130   \n122                NaN  Gujarat Titans              1         129   \n123                NaN  Gujarat Titans              1         129   \n124                NaN  Gujarat Titans              1         129   \n\n     Balls_Lefts  Wicket_remaining Current_run_rate Required_run_rate results  \n120          119                10              0.0          6.554622       1  \n121          118                10              0.0          6.610169       1  \n122          117                10              2.0          6.615385       1  \n123          116                10              1.5          6.672414       1  \n124          115                10              1.2          6.730435       1  \n\n[5 rows x 27 columns]",
      "text/html": "<div>\n<style scoped>\n    .dataframe tbody tr th:only-of-type {\n        vertical-align: middle;\n    }\n\n    .dataframe tbody tr th {\n        vertical-align: top;\n    }\n\n    .dataframe thead th {\n        text-align: right;\n    }\n</style>\n<table border=\"1\" class=\"dataframe\">\n  <thead>\n    <tr style=\"text-align: right;\">\n      <th></th>\n      <th>ID</th>\n      <th>City</th>\n      <th>WinningTeam</th>\n      <th>total_run_x</th>\n      <th>innings</th>\n      <th>overs</th>\n      <th>ballnumber</th>\n      <th>batter</th>\n      <th>bowler</th>\n      <th>non-striker</th>\n      <th>...</th>\n      <th>kind</th>\n      <th>fielders_involved</th>\n      <th>BattingTeam</th>\n      <th>current_score</th>\n      <th>Runs_Lefts</th>\n      <th>Balls_Lefts</th>\n      <th>Wicket_remaining</th>\n      <th>Current_run_rate</th>\n      <th>Required_run_rate</th>\n      <th>results</th>\n    </tr>\n  </thead>\n  <tbody>\n    <tr>\n      <th>120</th>\n      <td>1312200</td>\n      <td>Ahmedabad</td>\n      <td>Gujarat Titans</td>\n      <td>130</td>\n      <td>2</td>\n      <td>0</td>\n      <td>1</td>\n      <td>WP Saha</td>\n      <td>TA Boult</td>\n      <td>Shubman Gill</td>\n      <td>...</td>\n      <td>NaN</td>\n      <td>NaN</td>\n      <td>Gujarat Titans</td>\n      <td>0</td>\n      <td>130</td>\n      <td>119</td>\n      <td>10</td>\n      <td>0.0</td>\n      <td>6.554622</td>\n      <td>1</td>\n    </tr>\n    <tr>\n      <th>121</th>\n      <td>1312200</td>\n      <td>Ahmedabad</td>\n      <td>Gujarat Titans</td>\n      <td>130</td>\n      <td>2</td>\n      <td>0</td>\n      <td>2</td>\n      <td>WP Saha</td>\n      <td>TA Boult</td>\n      <td>Shubman Gill</td>\n      <td>...</td>\n      <td>NaN</td>\n      <td>NaN</td>\n      <td>Gujarat Titans</td>\n      <td>0</td>\n      <td>130</td>\n      <td>118</td>\n      <td>10</td>\n      <td>0.0</td>\n      <td>6.610169</td>\n      <td>1</td>\n    </tr>\n    <tr>\n      <th>122</th>\n      <td>1312200</td>\n      <td>Ahmedabad</td>\n      <td>Gujarat Titans</td>\n      <td>130</td>\n      <td>2</td>\n      <td>0</td>\n      <td>3</td>\n      <td>WP Saha</td>\n      <td>TA Boult</td>\n      <td>Shubman Gill</td>\n      <td>...</td>\n      <td>NaN</td>\n      <td>NaN</td>\n      <td>Gujarat Titans</td>\n      <td>1</td>\n      <td>129</td>\n      <td>117</td>\n      <td>10</td>\n      <td>2.0</td>\n      <td>6.615385</td>\n      <td>1</td>\n    </tr>\n    <tr>\n      <th>123</th>\n      <td>1312200</td>\n      <td>Ahmedabad</td>\n      <td>Gujarat Titans</td>\n      <td>130</td>\n      <td>2</td>\n      <td>0</td>\n      <td>4</td>\n      <td>Shubman Gill</td>\n      <td>TA Boult</td>\n      <td>WP Saha</td>\n      <td>...</td>\n      <td>NaN</td>\n      <td>NaN</td>\n      <td>Gujarat Titans</td>\n      <td>1</td>\n      <td>129</td>\n      <td>116</td>\n      <td>10</td>\n      <td>1.5</td>\n      <td>6.672414</td>\n      <td>1</td>\n    </tr>\n    <tr>\n      <th>124</th>\n      <td>1312200</td>\n      <td>Ahmedabad</td>\n      <td>Gujarat Titans</td>\n      <td>130</td>\n      <td>2</td>\n      <td>0</td>\n      <td>5</td>\n      <td>Shubman Gill</td>\n      <td>TA Boult</td>\n      <td>WP Saha</td>\n      <td>...</td>\n      <td>NaN</td>\n      <td>NaN</td>\n      <td>Gujarat Titans</td>\n      <td>1</td>\n      <td>129</td>\n      <td>115</td>\n      <td>10</td>\n      <td>1.2</td>\n      <td>6.730435</td>\n      <td>1</td>\n    </tr>\n  </tbody>\n</table>\n<p>5 rows × 27 columns</p>\n</div>"
     },
     "execution_count": 54,
     "metadata": {},
     "output_type": "execute_result"
    }
   ],
   "source": [
    "delivary_df.head()"
   ]
  },
  {
   "cell_type": "code",
   "execution_count": 55,
   "metadata": {
    "ExecuteTime": {
     "end_time": "2024-04-02T15:27:38.897314Z",
     "start_time": "2024-04-02T15:27:38.892041Z"
    }
   },
   "outputs": [],
   "source": [
    "final_df = delivary_df[['BattingTeam', 'City', 'Runs_Lefts', 'Balls_Lefts', 'Wicket_remaining', 'Current_run_rate', 'Required_run_rate', 'results']]"
   ]
  },
  {
   "cell_type": "code",
   "execution_count": 56,
   "metadata": {
    "ExecuteTime": {
     "end_time": "2024-04-02T15:27:38.904551Z",
     "start_time": "2024-04-02T15:27:38.898314Z"
    }
   },
   "outputs": [
    {
     "data": {
      "text/plain": "                        BattingTeam       City  Runs_Lefts  Balls_Lefts  \\\n120                  Gujarat Titans  Ahmedabad         130          119   \n121                  Gujarat Titans  Ahmedabad         130          118   \n122                  Gujarat Titans  Ahmedabad         129          117   \n123                  Gujarat Titans  Ahmedabad         129          116   \n124                  Gujarat Titans  Ahmedabad         129          115   \n...                             ...        ...         ...          ...   \n198930  Royal Challengers Bangalore  Bangalore         142           31   \n198931  Royal Challengers Bangalore  Bangalore         141           30   \n198932  Royal Challengers Bangalore  Bangalore         141           29   \n198933  Royal Challengers Bangalore  Bangalore         140           29   \n198934  Royal Challengers Bangalore  Bangalore         140           28   \n\n        Wicket_remaining  Current_run_rate  Required_run_rate  results  \n120                   10          0.000000           6.554622        1  \n121                   10          0.000000           6.610169        1  \n122                   10          2.000000           6.615385        1  \n123                   10          1.500000           6.672414        1  \n124                   10          1.200000           6.730435        1  \n...                  ...               ...                ...      ...  \n198930                 1          5.393258          27.483871        0  \n198931                 1          5.400000          28.200000        0  \n198932                 1          5.340659          29.172414        0  \n198933                 1          5.406593          28.965517        0  \n198934                 0          5.347826          30.000000        0  \n\n[95974 rows x 8 columns]",
      "text/html": "<div>\n<style scoped>\n    .dataframe tbody tr th:only-of-type {\n        vertical-align: middle;\n    }\n\n    .dataframe tbody tr th {\n        vertical-align: top;\n    }\n\n    .dataframe thead th {\n        text-align: right;\n    }\n</style>\n<table border=\"1\" class=\"dataframe\">\n  <thead>\n    <tr style=\"text-align: right;\">\n      <th></th>\n      <th>BattingTeam</th>\n      <th>City</th>\n      <th>Runs_Lefts</th>\n      <th>Balls_Lefts</th>\n      <th>Wicket_remaining</th>\n      <th>Current_run_rate</th>\n      <th>Required_run_rate</th>\n      <th>results</th>\n    </tr>\n  </thead>\n  <tbody>\n    <tr>\n      <th>120</th>\n      <td>Gujarat Titans</td>\n      <td>Ahmedabad</td>\n      <td>130</td>\n      <td>119</td>\n      <td>10</td>\n      <td>0.000000</td>\n      <td>6.554622</td>\n      <td>1</td>\n    </tr>\n    <tr>\n      <th>121</th>\n      <td>Gujarat Titans</td>\n      <td>Ahmedabad</td>\n      <td>130</td>\n      <td>118</td>\n      <td>10</td>\n      <td>0.000000</td>\n      <td>6.610169</td>\n      <td>1</td>\n    </tr>\n    <tr>\n      <th>122</th>\n      <td>Gujarat Titans</td>\n      <td>Ahmedabad</td>\n      <td>129</td>\n      <td>117</td>\n      <td>10</td>\n      <td>2.000000</td>\n      <td>6.615385</td>\n      <td>1</td>\n    </tr>\n    <tr>\n      <th>123</th>\n      <td>Gujarat Titans</td>\n      <td>Ahmedabad</td>\n      <td>129</td>\n      <td>116</td>\n      <td>10</td>\n      <td>1.500000</td>\n      <td>6.672414</td>\n      <td>1</td>\n    </tr>\n    <tr>\n      <th>124</th>\n      <td>Gujarat Titans</td>\n      <td>Ahmedabad</td>\n      <td>129</td>\n      <td>115</td>\n      <td>10</td>\n      <td>1.200000</td>\n      <td>6.730435</td>\n      <td>1</td>\n    </tr>\n    <tr>\n      <th>...</th>\n      <td>...</td>\n      <td>...</td>\n      <td>...</td>\n      <td>...</td>\n      <td>...</td>\n      <td>...</td>\n      <td>...</td>\n      <td>...</td>\n    </tr>\n    <tr>\n      <th>198930</th>\n      <td>Royal Challengers Bangalore</td>\n      <td>Bangalore</td>\n      <td>142</td>\n      <td>31</td>\n      <td>1</td>\n      <td>5.393258</td>\n      <td>27.483871</td>\n      <td>0</td>\n    </tr>\n    <tr>\n      <th>198931</th>\n      <td>Royal Challengers Bangalore</td>\n      <td>Bangalore</td>\n      <td>141</td>\n      <td>30</td>\n      <td>1</td>\n      <td>5.400000</td>\n      <td>28.200000</td>\n      <td>0</td>\n    </tr>\n    <tr>\n      <th>198932</th>\n      <td>Royal Challengers Bangalore</td>\n      <td>Bangalore</td>\n      <td>141</td>\n      <td>29</td>\n      <td>1</td>\n      <td>5.340659</td>\n      <td>29.172414</td>\n      <td>0</td>\n    </tr>\n    <tr>\n      <th>198933</th>\n      <td>Royal Challengers Bangalore</td>\n      <td>Bangalore</td>\n      <td>140</td>\n      <td>29</td>\n      <td>1</td>\n      <td>5.406593</td>\n      <td>28.965517</td>\n      <td>0</td>\n    </tr>\n    <tr>\n      <th>198934</th>\n      <td>Royal Challengers Bangalore</td>\n      <td>Bangalore</td>\n      <td>140</td>\n      <td>28</td>\n      <td>0</td>\n      <td>5.347826</td>\n      <td>30.000000</td>\n      <td>0</td>\n    </tr>\n  </tbody>\n</table>\n<p>95974 rows × 8 columns</p>\n</div>"
     },
     "execution_count": 56,
     "metadata": {},
     "output_type": "execute_result"
    }
   ],
   "source": [
    "final_df"
   ]
  },
  {
   "cell_type": "code",
   "execution_count": 57,
   "metadata": {
    "ExecuteTime": {
     "end_time": "2024-04-02T15:27:38.916616Z",
     "start_time": "2024-04-02T15:27:38.905549Z"
    }
   },
   "outputs": [],
   "source": [
    "final_df = final_df.sample(final_df.shape[0])"
   ]
  },
  {
   "cell_type": "code",
   "execution_count": 58,
   "metadata": {
    "ExecuteTime": {
     "end_time": "2024-04-02T15:27:38.926247Z",
     "start_time": "2024-04-02T15:27:38.916616Z"
    }
   },
   "outputs": [],
   "source": [
    "final_df.dropna(inplace=True)"
   ]
  },
  {
   "cell_type": "code",
   "execution_count": 59,
   "metadata": {
    "ExecuteTime": {
     "end_time": "2024-04-02T15:27:38.934899Z",
     "start_time": "2024-04-02T15:27:38.926247Z"
    }
   },
   "outputs": [
    {
     "data": {
      "text/plain": "BattingTeam          0\nCity                 0\nRuns_Lefts           0\nBalls_Lefts          0\nWicket_remaining     0\nCurrent_run_rate     0\nRequired_run_rate    0\nresults              0\ndtype: int64"
     },
     "execution_count": 59,
     "metadata": {},
     "output_type": "execute_result"
    }
   ],
   "source": [
    "final_df.isnull().sum()"
   ]
  },
  {
   "cell_type": "code",
   "execution_count": 60,
   "metadata": {
    "ExecuteTime": {
     "end_time": "2024-04-02T15:27:38.943187Z",
     "start_time": "2024-04-02T15:27:38.935909Z"
    }
   },
   "outputs": [],
   "source": [
    "final_df = final_df[final_df['Balls_Lefts'] != 0]"
   ]
  },
  {
   "cell_type": "code",
   "execution_count": 61,
   "metadata": {
    "ExecuteTime": {
     "end_time": "2024-04-02T15:27:38.948535Z",
     "start_time": "2024-04-02T15:27:38.943187Z"
    }
   },
   "outputs": [],
   "source": [
    "X = final_df.iloc[:,:-1]\n",
    "y = final_df.iloc[:,-1]"
   ]
  },
  {
   "cell_type": "code",
   "execution_count": 62,
   "metadata": {
    "ExecuteTime": {
     "end_time": "2024-04-02T15:27:39.683712Z",
     "start_time": "2024-04-02T15:27:38.948535Z"
    }
   },
   "outputs": [],
   "source": [
    "from sklearn.model_selection import train_test_split\n",
    "X_train, X_test, y_train, y_test = train_test_split(X, y, test_size=0.2, random_state=1)"
   ]
  },
  {
   "cell_type": "code",
   "execution_count": 63,
   "metadata": {
    "ExecuteTime": {
     "end_time": "2024-04-02T15:27:39.689115Z",
     "start_time": "2024-04-02T15:27:39.684745Z"
    }
   },
   "outputs": [
    {
     "data": {
      "text/plain": "(71728, 7)"
     },
     "execution_count": 63,
     "metadata": {},
     "output_type": "execute_result"
    }
   ],
   "source": [
    "X_train.shape"
   ]
  },
  {
   "cell_type": "code",
   "execution_count": 64,
   "metadata": {
    "ExecuteTime": {
     "end_time": "2024-04-02T15:27:39.694139Z",
     "start_time": "2024-04-02T15:27:39.690114Z"
    }
   },
   "outputs": [
    {
     "data": {
      "text/plain": "(71728,)"
     },
     "execution_count": 64,
     "metadata": {},
     "output_type": "execute_result"
    }
   ],
   "source": [
    "y_train.shape"
   ]
  },
  {
   "cell_type": "code",
   "execution_count": 65,
   "metadata": {
    "ExecuteTime": {
     "end_time": "2024-04-02T15:27:39.698689Z",
     "start_time": "2024-04-02T15:27:39.695140Z"
    }
   },
   "outputs": [
    {
     "data": {
      "text/plain": "(17933, 7)"
     },
     "execution_count": 65,
     "metadata": {},
     "output_type": "execute_result"
    }
   ],
   "source": [
    "X_test.shape"
   ]
  },
  {
   "cell_type": "code",
   "execution_count": 66,
   "metadata": {
    "ExecuteTime": {
     "end_time": "2024-04-02T15:27:39.704630Z",
     "start_time": "2024-04-02T15:27:39.700687Z"
    }
   },
   "outputs": [
    {
     "data": {
      "text/plain": "(17933,)"
     },
     "execution_count": 66,
     "metadata": {},
     "output_type": "execute_result"
    }
   ],
   "source": [
    "y_test.shape"
   ]
  },
  {
   "cell_type": "code",
   "execution_count": 67,
   "metadata": {
    "ExecuteTime": {
     "end_time": "2024-04-02T15:27:39.712435Z",
     "start_time": "2024-04-02T15:27:39.704630Z"
    }
   },
   "outputs": [],
   "source": [
    "from sklearn.compose import ColumnTransformer\n",
    "from sklearn.preprocessing import OneHotEncoder\n",
    "\n",
    "transformer = ColumnTransformer([\n",
    "    ('transformer', OneHotEncoder(sparse = False, drop = 'first'), ['BattingTeam', 'City'])\n",
    "]\n",
    ",remainder='passthrough'\n",
    ")"
   ]
  },
  {
   "cell_type": "code",
   "execution_count": 68,
   "metadata": {
    "ExecuteTime": {
     "end_time": "2024-04-02T15:27:39.851320Z",
     "start_time": "2024-04-02T15:27:39.713434Z"
    }
   },
   "outputs": [],
   "source": [
    "from sklearn.linear_model import LogisticRegression\n",
    "from sklearn.ensemble import RandomForestClassifier\n",
    "from sklearn.pipeline import Pipeline"
   ]
  },
  {
   "cell_type": "code",
   "execution_count": 69,
   "metadata": {
    "ExecuteTime": {
     "end_time": "2024-04-02T15:27:39.855266Z",
     "start_time": "2024-04-02T15:27:39.852336Z"
    }
   },
   "outputs": [],
   "source": [
    "pipeline = Pipeline(steps=[\n",
    "    ('step1', transformer),\n",
    "    ('step2', LogisticRegression(solver='liblinear'))\n",
    "])"
   ]
  },
  {
   "cell_type": "code",
   "execution_count": 70,
   "metadata": {
    "ExecuteTime": {
     "end_time": "2024-04-02T15:27:40.123901Z",
     "start_time": "2024-04-02T15:27:39.855266Z"
    }
   },
   "outputs": [
    {
     "name": "stderr",
     "output_type": "stream",
     "text": [
      "C:\\Users\\Admin\\miniconda3\\Lib\\site-packages\\sklearn\\preprocessing\\_encoders.py:975: FutureWarning: `sparse` was renamed to `sparse_output` in version 1.2 and will be removed in 1.4. `sparse_output` is ignored unless you leave `sparse` to its default value.\n",
      "  warnings.warn(\n"
     ]
    },
    {
     "data": {
      "text/plain": "Pipeline(steps=[('step1',\n                 ColumnTransformer(remainder='passthrough',\n                                   transformers=[('transformer',\n                                                  OneHotEncoder(drop='first',\n                                                                sparse=False),\n                                                  ['BattingTeam', 'City'])])),\n                ('step2', LogisticRegression(solver='liblinear'))])",
      "text/html": "<style>#sk-container-id-1 {color: black;}#sk-container-id-1 pre{padding: 0;}#sk-container-id-1 div.sk-toggleable {background-color: white;}#sk-container-id-1 label.sk-toggleable__label {cursor: pointer;display: block;width: 100%;margin-bottom: 0;padding: 0.3em;box-sizing: border-box;text-align: center;}#sk-container-id-1 label.sk-toggleable__label-arrow:before {content: \"▸\";float: left;margin-right: 0.25em;color: #696969;}#sk-container-id-1 label.sk-toggleable__label-arrow:hover:before {color: black;}#sk-container-id-1 div.sk-estimator:hover label.sk-toggleable__label-arrow:before {color: black;}#sk-container-id-1 div.sk-toggleable__content {max-height: 0;max-width: 0;overflow: hidden;text-align: left;background-color: #f0f8ff;}#sk-container-id-1 div.sk-toggleable__content pre {margin: 0.2em;color: black;border-radius: 0.25em;background-color: #f0f8ff;}#sk-container-id-1 input.sk-toggleable__control:checked~div.sk-toggleable__content {max-height: 200px;max-width: 100%;overflow: auto;}#sk-container-id-1 input.sk-toggleable__control:checked~label.sk-toggleable__label-arrow:before {content: \"▾\";}#sk-container-id-1 div.sk-estimator input.sk-toggleable__control:checked~label.sk-toggleable__label {background-color: #d4ebff;}#sk-container-id-1 div.sk-label input.sk-toggleable__control:checked~label.sk-toggleable__label {background-color: #d4ebff;}#sk-container-id-1 input.sk-hidden--visually {border: 0;clip: rect(1px 1px 1px 1px);clip: rect(1px, 1px, 1px, 1px);height: 1px;margin: -1px;overflow: hidden;padding: 0;position: absolute;width: 1px;}#sk-container-id-1 div.sk-estimator {font-family: monospace;background-color: #f0f8ff;border: 1px dotted black;border-radius: 0.25em;box-sizing: border-box;margin-bottom: 0.5em;}#sk-container-id-1 div.sk-estimator:hover {background-color: #d4ebff;}#sk-container-id-1 div.sk-parallel-item::after {content: \"\";width: 100%;border-bottom: 1px solid gray;flex-grow: 1;}#sk-container-id-1 div.sk-label:hover label.sk-toggleable__label {background-color: #d4ebff;}#sk-container-id-1 div.sk-serial::before {content: \"\";position: absolute;border-left: 1px solid gray;box-sizing: border-box;top: 0;bottom: 0;left: 50%;z-index: 0;}#sk-container-id-1 div.sk-serial {display: flex;flex-direction: column;align-items: center;background-color: white;padding-right: 0.2em;padding-left: 0.2em;position: relative;}#sk-container-id-1 div.sk-item {position: relative;z-index: 1;}#sk-container-id-1 div.sk-parallel {display: flex;align-items: stretch;justify-content: center;background-color: white;position: relative;}#sk-container-id-1 div.sk-item::before, #sk-container-id-1 div.sk-parallel-item::before {content: \"\";position: absolute;border-left: 1px solid gray;box-sizing: border-box;top: 0;bottom: 0;left: 50%;z-index: -1;}#sk-container-id-1 div.sk-parallel-item {display: flex;flex-direction: column;z-index: 1;position: relative;background-color: white;}#sk-container-id-1 div.sk-parallel-item:first-child::after {align-self: flex-end;width: 50%;}#sk-container-id-1 div.sk-parallel-item:last-child::after {align-self: flex-start;width: 50%;}#sk-container-id-1 div.sk-parallel-item:only-child::after {width: 0;}#sk-container-id-1 div.sk-dashed-wrapped {border: 1px dashed gray;margin: 0 0.4em 0.5em 0.4em;box-sizing: border-box;padding-bottom: 0.4em;background-color: white;}#sk-container-id-1 div.sk-label label {font-family: monospace;font-weight: bold;display: inline-block;line-height: 1.2em;}#sk-container-id-1 div.sk-label-container {text-align: center;}#sk-container-id-1 div.sk-container {/* jupyter's `normalize.less` sets `[hidden] { display: none; }` but bootstrap.min.css set `[hidden] { display: none !important; }` so we also need the `!important` here to be able to override the default hidden behavior on the sphinx rendered scikit-learn.org. See: https://github.com/scikit-learn/scikit-learn/issues/21755 */display: inline-block !important;position: relative;}#sk-container-id-1 div.sk-text-repr-fallback {display: none;}</style><div id=\"sk-container-id-1\" class=\"sk-top-container\"><div class=\"sk-text-repr-fallback\"><pre>Pipeline(steps=[(&#x27;step1&#x27;,\n                 ColumnTransformer(remainder=&#x27;passthrough&#x27;,\n                                   transformers=[(&#x27;transformer&#x27;,\n                                                  OneHotEncoder(drop=&#x27;first&#x27;,\n                                                                sparse=False),\n                                                  [&#x27;BattingTeam&#x27;, &#x27;City&#x27;])])),\n                (&#x27;step2&#x27;, LogisticRegression(solver=&#x27;liblinear&#x27;))])</pre><b>In a Jupyter environment, please rerun this cell to show the HTML representation or trust the notebook. <br />On GitHub, the HTML representation is unable to render, please try loading this page with nbviewer.org.</b></div><div class=\"sk-container\" hidden><div class=\"sk-item sk-dashed-wrapped\"><div class=\"sk-label-container\"><div class=\"sk-label sk-toggleable\"><input class=\"sk-toggleable__control sk-hidden--visually\" id=\"sk-estimator-id-1\" type=\"checkbox\" ><label for=\"sk-estimator-id-1\" class=\"sk-toggleable__label sk-toggleable__label-arrow\">Pipeline</label><div class=\"sk-toggleable__content\"><pre>Pipeline(steps=[(&#x27;step1&#x27;,\n                 ColumnTransformer(remainder=&#x27;passthrough&#x27;,\n                                   transformers=[(&#x27;transformer&#x27;,\n                                                  OneHotEncoder(drop=&#x27;first&#x27;,\n                                                                sparse=False),\n                                                  [&#x27;BattingTeam&#x27;, &#x27;City&#x27;])])),\n                (&#x27;step2&#x27;, LogisticRegression(solver=&#x27;liblinear&#x27;))])</pre></div></div></div><div class=\"sk-serial\"><div class=\"sk-item sk-dashed-wrapped\"><div class=\"sk-label-container\"><div class=\"sk-label sk-toggleable\"><input class=\"sk-toggleable__control sk-hidden--visually\" id=\"sk-estimator-id-2\" type=\"checkbox\" ><label for=\"sk-estimator-id-2\" class=\"sk-toggleable__label sk-toggleable__label-arrow\">step1: ColumnTransformer</label><div class=\"sk-toggleable__content\"><pre>ColumnTransformer(remainder=&#x27;passthrough&#x27;,\n                  transformers=[(&#x27;transformer&#x27;,\n                                 OneHotEncoder(drop=&#x27;first&#x27;, sparse=False),\n                                 [&#x27;BattingTeam&#x27;, &#x27;City&#x27;])])</pre></div></div></div><div class=\"sk-parallel\"><div class=\"sk-parallel-item\"><div class=\"sk-item\"><div class=\"sk-label-container\"><div class=\"sk-label sk-toggleable\"><input class=\"sk-toggleable__control sk-hidden--visually\" id=\"sk-estimator-id-3\" type=\"checkbox\" ><label for=\"sk-estimator-id-3\" class=\"sk-toggleable__label sk-toggleable__label-arrow\">transformer</label><div class=\"sk-toggleable__content\"><pre>[&#x27;BattingTeam&#x27;, &#x27;City&#x27;]</pre></div></div></div><div class=\"sk-serial\"><div class=\"sk-item\"><div class=\"sk-estimator sk-toggleable\"><input class=\"sk-toggleable__control sk-hidden--visually\" id=\"sk-estimator-id-4\" type=\"checkbox\" ><label for=\"sk-estimator-id-4\" class=\"sk-toggleable__label sk-toggleable__label-arrow\">OneHotEncoder</label><div class=\"sk-toggleable__content\"><pre>OneHotEncoder(drop=&#x27;first&#x27;, sparse=False)</pre></div></div></div></div></div></div><div class=\"sk-parallel-item\"><div class=\"sk-item\"><div class=\"sk-label-container\"><div class=\"sk-label sk-toggleable\"><input class=\"sk-toggleable__control sk-hidden--visually\" id=\"sk-estimator-id-5\" type=\"checkbox\" ><label for=\"sk-estimator-id-5\" class=\"sk-toggleable__label sk-toggleable__label-arrow\">remainder</label><div class=\"sk-toggleable__content\"><pre>[&#x27;Runs_Lefts&#x27;, &#x27;Balls_Lefts&#x27;, &#x27;Wicket_remaining&#x27;, &#x27;Current_run_rate&#x27;, &#x27;Required_run_rate&#x27;]</pre></div></div></div><div class=\"sk-serial\"><div class=\"sk-item\"><div class=\"sk-estimator sk-toggleable\"><input class=\"sk-toggleable__control sk-hidden--visually\" id=\"sk-estimator-id-6\" type=\"checkbox\" ><label for=\"sk-estimator-id-6\" class=\"sk-toggleable__label sk-toggleable__label-arrow\">passthrough</label><div class=\"sk-toggleable__content\"><pre>passthrough</pre></div></div></div></div></div></div></div></div><div class=\"sk-item\"><div class=\"sk-estimator sk-toggleable\"><input class=\"sk-toggleable__control sk-hidden--visually\" id=\"sk-estimator-id-7\" type=\"checkbox\" ><label for=\"sk-estimator-id-7\" class=\"sk-toggleable__label sk-toggleable__label-arrow\">LogisticRegression</label><div class=\"sk-toggleable__content\"><pre>LogisticRegression(solver=&#x27;liblinear&#x27;)</pre></div></div></div></div></div></div></div>"
     },
     "execution_count": 70,
     "metadata": {},
     "output_type": "execute_result"
    }
   ],
   "source": [
    "pipeline.fit(X_train, y_train)"
   ]
  },
  {
   "cell_type": "code",
   "execution_count": 71,
   "metadata": {
    "ExecuteTime": {
     "end_time": "2024-04-02T15:27:40.144037Z",
     "start_time": "2024-04-02T15:27:40.124903Z"
    }
   },
   "outputs": [
    {
     "data": {
      "text/plain": "         Runs_Lefts   Balls_Lefts  Wicket_remaining  Current_run_rate  \\\ncount  71728.000000  71728.000000      71728.000000      71728.000000   \nmean      92.195502     63.106695          7.560353          7.441605   \nstd       49.599787     33.278304          2.131749          2.262196   \nmin      -16.000000     -2.000000          0.000000          0.000000   \n25%       53.000000     35.000000          6.000000          6.272727   \n50%       91.000000     64.000000          8.000000          7.500000   \n75%      130.000000     92.000000          9.000000          8.673267   \nmax      246.000000    119.000000         10.000000         36.000000   \n\n       Required_run_rate  \ncount       71728.000000  \nmean           10.295697  \nstd            13.907114  \nmin          -510.000000  \n25%             7.111111  \n50%             8.805823  \n75%            10.820513  \nmax           708.000000  ",
      "text/html": "<div>\n<style scoped>\n    .dataframe tbody tr th:only-of-type {\n        vertical-align: middle;\n    }\n\n    .dataframe tbody tr th {\n        vertical-align: top;\n    }\n\n    .dataframe thead th {\n        text-align: right;\n    }\n</style>\n<table border=\"1\" class=\"dataframe\">\n  <thead>\n    <tr style=\"text-align: right;\">\n      <th></th>\n      <th>Runs_Lefts</th>\n      <th>Balls_Lefts</th>\n      <th>Wicket_remaining</th>\n      <th>Current_run_rate</th>\n      <th>Required_run_rate</th>\n    </tr>\n  </thead>\n  <tbody>\n    <tr>\n      <th>count</th>\n      <td>71728.000000</td>\n      <td>71728.000000</td>\n      <td>71728.000000</td>\n      <td>71728.000000</td>\n      <td>71728.000000</td>\n    </tr>\n    <tr>\n      <th>mean</th>\n      <td>92.195502</td>\n      <td>63.106695</td>\n      <td>7.560353</td>\n      <td>7.441605</td>\n      <td>10.295697</td>\n    </tr>\n    <tr>\n      <th>std</th>\n      <td>49.599787</td>\n      <td>33.278304</td>\n      <td>2.131749</td>\n      <td>2.262196</td>\n      <td>13.907114</td>\n    </tr>\n    <tr>\n      <th>min</th>\n      <td>-16.000000</td>\n      <td>-2.000000</td>\n      <td>0.000000</td>\n      <td>0.000000</td>\n      <td>-510.000000</td>\n    </tr>\n    <tr>\n      <th>25%</th>\n      <td>53.000000</td>\n      <td>35.000000</td>\n      <td>6.000000</td>\n      <td>6.272727</td>\n      <td>7.111111</td>\n    </tr>\n    <tr>\n      <th>50%</th>\n      <td>91.000000</td>\n      <td>64.000000</td>\n      <td>8.000000</td>\n      <td>7.500000</td>\n      <td>8.805823</td>\n    </tr>\n    <tr>\n      <th>75%</th>\n      <td>130.000000</td>\n      <td>92.000000</td>\n      <td>9.000000</td>\n      <td>8.673267</td>\n      <td>10.820513</td>\n    </tr>\n    <tr>\n      <th>max</th>\n      <td>246.000000</td>\n      <td>119.000000</td>\n      <td>10.000000</td>\n      <td>36.000000</td>\n      <td>708.000000</td>\n    </tr>\n  </tbody>\n</table>\n</div>"
     },
     "execution_count": 71,
     "metadata": {},
     "output_type": "execute_result"
    }
   ],
   "source": [
    "X_train.describe()"
   ]
  },
  {
   "cell_type": "code",
   "execution_count": 72,
   "metadata": {
    "ExecuteTime": {
     "end_time": "2024-04-02T15:27:40.417523Z",
     "start_time": "2024-04-02T15:27:40.145037Z"
    }
   },
   "outputs": [
    {
     "name": "stderr",
     "output_type": "stream",
     "text": [
      "C:\\Users\\Admin\\miniconda3\\Lib\\site-packages\\sklearn\\preprocessing\\_encoders.py:975: FutureWarning: `sparse` was renamed to `sparse_output` in version 1.2 and will be removed in 1.4. `sparse_output` is ignored unless you leave `sparse` to its default value.\n",
      "  warnings.warn(\n"
     ]
    },
    {
     "data": {
      "text/plain": "Pipeline(steps=[('step1',\n                 ColumnTransformer(remainder='passthrough',\n                                   transformers=[('transformer',\n                                                  OneHotEncoder(drop='first',\n                                                                sparse=False),\n                                                  ['BattingTeam', 'City'])])),\n                ('step2', LogisticRegression(solver='liblinear'))])",
      "text/html": "<style>#sk-container-id-2 {color: black;}#sk-container-id-2 pre{padding: 0;}#sk-container-id-2 div.sk-toggleable {background-color: white;}#sk-container-id-2 label.sk-toggleable__label {cursor: pointer;display: block;width: 100%;margin-bottom: 0;padding: 0.3em;box-sizing: border-box;text-align: center;}#sk-container-id-2 label.sk-toggleable__label-arrow:before {content: \"▸\";float: left;margin-right: 0.25em;color: #696969;}#sk-container-id-2 label.sk-toggleable__label-arrow:hover:before {color: black;}#sk-container-id-2 div.sk-estimator:hover label.sk-toggleable__label-arrow:before {color: black;}#sk-container-id-2 div.sk-toggleable__content {max-height: 0;max-width: 0;overflow: hidden;text-align: left;background-color: #f0f8ff;}#sk-container-id-2 div.sk-toggleable__content pre {margin: 0.2em;color: black;border-radius: 0.25em;background-color: #f0f8ff;}#sk-container-id-2 input.sk-toggleable__control:checked~div.sk-toggleable__content {max-height: 200px;max-width: 100%;overflow: auto;}#sk-container-id-2 input.sk-toggleable__control:checked~label.sk-toggleable__label-arrow:before {content: \"▾\";}#sk-container-id-2 div.sk-estimator input.sk-toggleable__control:checked~label.sk-toggleable__label {background-color: #d4ebff;}#sk-container-id-2 div.sk-label input.sk-toggleable__control:checked~label.sk-toggleable__label {background-color: #d4ebff;}#sk-container-id-2 input.sk-hidden--visually {border: 0;clip: rect(1px 1px 1px 1px);clip: rect(1px, 1px, 1px, 1px);height: 1px;margin: -1px;overflow: hidden;padding: 0;position: absolute;width: 1px;}#sk-container-id-2 div.sk-estimator {font-family: monospace;background-color: #f0f8ff;border: 1px dotted black;border-radius: 0.25em;box-sizing: border-box;margin-bottom: 0.5em;}#sk-container-id-2 div.sk-estimator:hover {background-color: #d4ebff;}#sk-container-id-2 div.sk-parallel-item::after {content: \"\";width: 100%;border-bottom: 1px solid gray;flex-grow: 1;}#sk-container-id-2 div.sk-label:hover label.sk-toggleable__label {background-color: #d4ebff;}#sk-container-id-2 div.sk-serial::before {content: \"\";position: absolute;border-left: 1px solid gray;box-sizing: border-box;top: 0;bottom: 0;left: 50%;z-index: 0;}#sk-container-id-2 div.sk-serial {display: flex;flex-direction: column;align-items: center;background-color: white;padding-right: 0.2em;padding-left: 0.2em;position: relative;}#sk-container-id-2 div.sk-item {position: relative;z-index: 1;}#sk-container-id-2 div.sk-parallel {display: flex;align-items: stretch;justify-content: center;background-color: white;position: relative;}#sk-container-id-2 div.sk-item::before, #sk-container-id-2 div.sk-parallel-item::before {content: \"\";position: absolute;border-left: 1px solid gray;box-sizing: border-box;top: 0;bottom: 0;left: 50%;z-index: -1;}#sk-container-id-2 div.sk-parallel-item {display: flex;flex-direction: column;z-index: 1;position: relative;background-color: white;}#sk-container-id-2 div.sk-parallel-item:first-child::after {align-self: flex-end;width: 50%;}#sk-container-id-2 div.sk-parallel-item:last-child::after {align-self: flex-start;width: 50%;}#sk-container-id-2 div.sk-parallel-item:only-child::after {width: 0;}#sk-container-id-2 div.sk-dashed-wrapped {border: 1px dashed gray;margin: 0 0.4em 0.5em 0.4em;box-sizing: border-box;padding-bottom: 0.4em;background-color: white;}#sk-container-id-2 div.sk-label label {font-family: monospace;font-weight: bold;display: inline-block;line-height: 1.2em;}#sk-container-id-2 div.sk-label-container {text-align: center;}#sk-container-id-2 div.sk-container {/* jupyter's `normalize.less` sets `[hidden] { display: none; }` but bootstrap.min.css set `[hidden] { display: none !important; }` so we also need the `!important` here to be able to override the default hidden behavior on the sphinx rendered scikit-learn.org. See: https://github.com/scikit-learn/scikit-learn/issues/21755 */display: inline-block !important;position: relative;}#sk-container-id-2 div.sk-text-repr-fallback {display: none;}</style><div id=\"sk-container-id-2\" class=\"sk-top-container\"><div class=\"sk-text-repr-fallback\"><pre>Pipeline(steps=[(&#x27;step1&#x27;,\n                 ColumnTransformer(remainder=&#x27;passthrough&#x27;,\n                                   transformers=[(&#x27;transformer&#x27;,\n                                                  OneHotEncoder(drop=&#x27;first&#x27;,\n                                                                sparse=False),\n                                                  [&#x27;BattingTeam&#x27;, &#x27;City&#x27;])])),\n                (&#x27;step2&#x27;, LogisticRegression(solver=&#x27;liblinear&#x27;))])</pre><b>In a Jupyter environment, please rerun this cell to show the HTML representation or trust the notebook. <br />On GitHub, the HTML representation is unable to render, please try loading this page with nbviewer.org.</b></div><div class=\"sk-container\" hidden><div class=\"sk-item sk-dashed-wrapped\"><div class=\"sk-label-container\"><div class=\"sk-label sk-toggleable\"><input class=\"sk-toggleable__control sk-hidden--visually\" id=\"sk-estimator-id-8\" type=\"checkbox\" ><label for=\"sk-estimator-id-8\" class=\"sk-toggleable__label sk-toggleable__label-arrow\">Pipeline</label><div class=\"sk-toggleable__content\"><pre>Pipeline(steps=[(&#x27;step1&#x27;,\n                 ColumnTransformer(remainder=&#x27;passthrough&#x27;,\n                                   transformers=[(&#x27;transformer&#x27;,\n                                                  OneHotEncoder(drop=&#x27;first&#x27;,\n                                                                sparse=False),\n                                                  [&#x27;BattingTeam&#x27;, &#x27;City&#x27;])])),\n                (&#x27;step2&#x27;, LogisticRegression(solver=&#x27;liblinear&#x27;))])</pre></div></div></div><div class=\"sk-serial\"><div class=\"sk-item sk-dashed-wrapped\"><div class=\"sk-label-container\"><div class=\"sk-label sk-toggleable\"><input class=\"sk-toggleable__control sk-hidden--visually\" id=\"sk-estimator-id-9\" type=\"checkbox\" ><label for=\"sk-estimator-id-9\" class=\"sk-toggleable__label sk-toggleable__label-arrow\">step1: ColumnTransformer</label><div class=\"sk-toggleable__content\"><pre>ColumnTransformer(remainder=&#x27;passthrough&#x27;,\n                  transformers=[(&#x27;transformer&#x27;,\n                                 OneHotEncoder(drop=&#x27;first&#x27;, sparse=False),\n                                 [&#x27;BattingTeam&#x27;, &#x27;City&#x27;])])</pre></div></div></div><div class=\"sk-parallel\"><div class=\"sk-parallel-item\"><div class=\"sk-item\"><div class=\"sk-label-container\"><div class=\"sk-label sk-toggleable\"><input class=\"sk-toggleable__control sk-hidden--visually\" id=\"sk-estimator-id-10\" type=\"checkbox\" ><label for=\"sk-estimator-id-10\" class=\"sk-toggleable__label sk-toggleable__label-arrow\">transformer</label><div class=\"sk-toggleable__content\"><pre>[&#x27;BattingTeam&#x27;, &#x27;City&#x27;]</pre></div></div></div><div class=\"sk-serial\"><div class=\"sk-item\"><div class=\"sk-estimator sk-toggleable\"><input class=\"sk-toggleable__control sk-hidden--visually\" id=\"sk-estimator-id-11\" type=\"checkbox\" ><label for=\"sk-estimator-id-11\" class=\"sk-toggleable__label sk-toggleable__label-arrow\">OneHotEncoder</label><div class=\"sk-toggleable__content\"><pre>OneHotEncoder(drop=&#x27;first&#x27;, sparse=False)</pre></div></div></div></div></div></div><div class=\"sk-parallel-item\"><div class=\"sk-item\"><div class=\"sk-label-container\"><div class=\"sk-label sk-toggleable\"><input class=\"sk-toggleable__control sk-hidden--visually\" id=\"sk-estimator-id-12\" type=\"checkbox\" ><label for=\"sk-estimator-id-12\" class=\"sk-toggleable__label sk-toggleable__label-arrow\">remainder</label><div class=\"sk-toggleable__content\"><pre>[&#x27;Runs_Lefts&#x27;, &#x27;Balls_Lefts&#x27;, &#x27;Wicket_remaining&#x27;, &#x27;Current_run_rate&#x27;, &#x27;Required_run_rate&#x27;]</pre></div></div></div><div class=\"sk-serial\"><div class=\"sk-item\"><div class=\"sk-estimator sk-toggleable\"><input class=\"sk-toggleable__control sk-hidden--visually\" id=\"sk-estimator-id-13\" type=\"checkbox\" ><label for=\"sk-estimator-id-13\" class=\"sk-toggleable__label sk-toggleable__label-arrow\">passthrough</label><div class=\"sk-toggleable__content\"><pre>passthrough</pre></div></div></div></div></div></div></div></div><div class=\"sk-item\"><div class=\"sk-estimator sk-toggleable\"><input class=\"sk-toggleable__control sk-hidden--visually\" id=\"sk-estimator-id-14\" type=\"checkbox\" ><label for=\"sk-estimator-id-14\" class=\"sk-toggleable__label sk-toggleable__label-arrow\">LogisticRegression</label><div class=\"sk-toggleable__content\"><pre>LogisticRegression(solver=&#x27;liblinear&#x27;)</pre></div></div></div></div></div></div></div>"
     },
     "execution_count": 72,
     "metadata": {},
     "output_type": "execute_result"
    }
   ],
   "source": [
    "pipeline.fit(X_train, y_train)"
   ]
  },
  {
   "cell_type": "code",
   "execution_count": 73,
   "metadata": {
    "ExecuteTime": {
     "end_time": "2024-04-02T15:27:40.435482Z",
     "start_time": "2024-04-02T15:27:40.418522Z"
    }
   },
   "outputs": [],
   "source": [
    "y_pred = pipeline.predict(X_test)"
   ]
  },
  {
   "cell_type": "code",
   "execution_count": 74,
   "metadata": {
    "ExecuteTime": {
     "end_time": "2024-04-02T15:27:40.442334Z",
     "start_time": "2024-04-02T15:27:40.436481Z"
    }
   },
   "outputs": [
    {
     "data": {
      "text/plain": "0.8090670830312832"
     },
     "execution_count": 74,
     "metadata": {},
     "output_type": "execute_result"
    }
   ],
   "source": [
    "from sklearn.metrics import accuracy_score\n",
    "accuracy_score(y_pred, y_test)"
   ]
  },
  {
   "cell_type": "code",
   "execution_count": 75,
   "metadata": {
    "ExecuteTime": {
     "end_time": "2024-04-02T15:27:40.446359Z",
     "start_time": "2024-04-02T15:27:40.443333Z"
    }
   },
   "outputs": [],
   "source": [
    "pipeline_1 = Pipeline(steps=[\n",
    "    ('step1', transformer),\n",
    "    ('step2', RandomForestClassifier())\n",
    "])"
   ]
  },
  {
   "cell_type": "code",
   "execution_count": 76,
   "metadata": {
    "ExecuteTime": {
     "end_time": "2024-04-02T15:27:48.214294Z",
     "start_time": "2024-04-02T15:27:40.447357Z"
    }
   },
   "outputs": [
    {
     "name": "stderr",
     "output_type": "stream",
     "text": [
      "C:\\Users\\Admin\\miniconda3\\Lib\\site-packages\\sklearn\\preprocessing\\_encoders.py:975: FutureWarning: `sparse` was renamed to `sparse_output` in version 1.2 and will be removed in 1.4. `sparse_output` is ignored unless you leave `sparse` to its default value.\n",
      "  warnings.warn(\n"
     ]
    },
    {
     "data": {
      "text/plain": "Pipeline(steps=[('step1',\n                 ColumnTransformer(remainder='passthrough',\n                                   transformers=[('transformer',\n                                                  OneHotEncoder(drop='first',\n                                                                sparse=False),\n                                                  ['BattingTeam', 'City'])])),\n                ('step2', RandomForestClassifier())])",
      "text/html": "<style>#sk-container-id-3 {color: black;}#sk-container-id-3 pre{padding: 0;}#sk-container-id-3 div.sk-toggleable {background-color: white;}#sk-container-id-3 label.sk-toggleable__label {cursor: pointer;display: block;width: 100%;margin-bottom: 0;padding: 0.3em;box-sizing: border-box;text-align: center;}#sk-container-id-3 label.sk-toggleable__label-arrow:before {content: \"▸\";float: left;margin-right: 0.25em;color: #696969;}#sk-container-id-3 label.sk-toggleable__label-arrow:hover:before {color: black;}#sk-container-id-3 div.sk-estimator:hover label.sk-toggleable__label-arrow:before {color: black;}#sk-container-id-3 div.sk-toggleable__content {max-height: 0;max-width: 0;overflow: hidden;text-align: left;background-color: #f0f8ff;}#sk-container-id-3 div.sk-toggleable__content pre {margin: 0.2em;color: black;border-radius: 0.25em;background-color: #f0f8ff;}#sk-container-id-3 input.sk-toggleable__control:checked~div.sk-toggleable__content {max-height: 200px;max-width: 100%;overflow: auto;}#sk-container-id-3 input.sk-toggleable__control:checked~label.sk-toggleable__label-arrow:before {content: \"▾\";}#sk-container-id-3 div.sk-estimator input.sk-toggleable__control:checked~label.sk-toggleable__label {background-color: #d4ebff;}#sk-container-id-3 div.sk-label input.sk-toggleable__control:checked~label.sk-toggleable__label {background-color: #d4ebff;}#sk-container-id-3 input.sk-hidden--visually {border: 0;clip: rect(1px 1px 1px 1px);clip: rect(1px, 1px, 1px, 1px);height: 1px;margin: -1px;overflow: hidden;padding: 0;position: absolute;width: 1px;}#sk-container-id-3 div.sk-estimator {font-family: monospace;background-color: #f0f8ff;border: 1px dotted black;border-radius: 0.25em;box-sizing: border-box;margin-bottom: 0.5em;}#sk-container-id-3 div.sk-estimator:hover {background-color: #d4ebff;}#sk-container-id-3 div.sk-parallel-item::after {content: \"\";width: 100%;border-bottom: 1px solid gray;flex-grow: 1;}#sk-container-id-3 div.sk-label:hover label.sk-toggleable__label {background-color: #d4ebff;}#sk-container-id-3 div.sk-serial::before {content: \"\";position: absolute;border-left: 1px solid gray;box-sizing: border-box;top: 0;bottom: 0;left: 50%;z-index: 0;}#sk-container-id-3 div.sk-serial {display: flex;flex-direction: column;align-items: center;background-color: white;padding-right: 0.2em;padding-left: 0.2em;position: relative;}#sk-container-id-3 div.sk-item {position: relative;z-index: 1;}#sk-container-id-3 div.sk-parallel {display: flex;align-items: stretch;justify-content: center;background-color: white;position: relative;}#sk-container-id-3 div.sk-item::before, #sk-container-id-3 div.sk-parallel-item::before {content: \"\";position: absolute;border-left: 1px solid gray;box-sizing: border-box;top: 0;bottom: 0;left: 50%;z-index: -1;}#sk-container-id-3 div.sk-parallel-item {display: flex;flex-direction: column;z-index: 1;position: relative;background-color: white;}#sk-container-id-3 div.sk-parallel-item:first-child::after {align-self: flex-end;width: 50%;}#sk-container-id-3 div.sk-parallel-item:last-child::after {align-self: flex-start;width: 50%;}#sk-container-id-3 div.sk-parallel-item:only-child::after {width: 0;}#sk-container-id-3 div.sk-dashed-wrapped {border: 1px dashed gray;margin: 0 0.4em 0.5em 0.4em;box-sizing: border-box;padding-bottom: 0.4em;background-color: white;}#sk-container-id-3 div.sk-label label {font-family: monospace;font-weight: bold;display: inline-block;line-height: 1.2em;}#sk-container-id-3 div.sk-label-container {text-align: center;}#sk-container-id-3 div.sk-container {/* jupyter's `normalize.less` sets `[hidden] { display: none; }` but bootstrap.min.css set `[hidden] { display: none !important; }` so we also need the `!important` here to be able to override the default hidden behavior on the sphinx rendered scikit-learn.org. See: https://github.com/scikit-learn/scikit-learn/issues/21755 */display: inline-block !important;position: relative;}#sk-container-id-3 div.sk-text-repr-fallback {display: none;}</style><div id=\"sk-container-id-3\" class=\"sk-top-container\"><div class=\"sk-text-repr-fallback\"><pre>Pipeline(steps=[(&#x27;step1&#x27;,\n                 ColumnTransformer(remainder=&#x27;passthrough&#x27;,\n                                   transformers=[(&#x27;transformer&#x27;,\n                                                  OneHotEncoder(drop=&#x27;first&#x27;,\n                                                                sparse=False),\n                                                  [&#x27;BattingTeam&#x27;, &#x27;City&#x27;])])),\n                (&#x27;step2&#x27;, RandomForestClassifier())])</pre><b>In a Jupyter environment, please rerun this cell to show the HTML representation or trust the notebook. <br />On GitHub, the HTML representation is unable to render, please try loading this page with nbviewer.org.</b></div><div class=\"sk-container\" hidden><div class=\"sk-item sk-dashed-wrapped\"><div class=\"sk-label-container\"><div class=\"sk-label sk-toggleable\"><input class=\"sk-toggleable__control sk-hidden--visually\" id=\"sk-estimator-id-15\" type=\"checkbox\" ><label for=\"sk-estimator-id-15\" class=\"sk-toggleable__label sk-toggleable__label-arrow\">Pipeline</label><div class=\"sk-toggleable__content\"><pre>Pipeline(steps=[(&#x27;step1&#x27;,\n                 ColumnTransformer(remainder=&#x27;passthrough&#x27;,\n                                   transformers=[(&#x27;transformer&#x27;,\n                                                  OneHotEncoder(drop=&#x27;first&#x27;,\n                                                                sparse=False),\n                                                  [&#x27;BattingTeam&#x27;, &#x27;City&#x27;])])),\n                (&#x27;step2&#x27;, RandomForestClassifier())])</pre></div></div></div><div class=\"sk-serial\"><div class=\"sk-item sk-dashed-wrapped\"><div class=\"sk-label-container\"><div class=\"sk-label sk-toggleable\"><input class=\"sk-toggleable__control sk-hidden--visually\" id=\"sk-estimator-id-16\" type=\"checkbox\" ><label for=\"sk-estimator-id-16\" class=\"sk-toggleable__label sk-toggleable__label-arrow\">step1: ColumnTransformer</label><div class=\"sk-toggleable__content\"><pre>ColumnTransformer(remainder=&#x27;passthrough&#x27;,\n                  transformers=[(&#x27;transformer&#x27;,\n                                 OneHotEncoder(drop=&#x27;first&#x27;, sparse=False),\n                                 [&#x27;BattingTeam&#x27;, &#x27;City&#x27;])])</pre></div></div></div><div class=\"sk-parallel\"><div class=\"sk-parallel-item\"><div class=\"sk-item\"><div class=\"sk-label-container\"><div class=\"sk-label sk-toggleable\"><input class=\"sk-toggleable__control sk-hidden--visually\" id=\"sk-estimator-id-17\" type=\"checkbox\" ><label for=\"sk-estimator-id-17\" class=\"sk-toggleable__label sk-toggleable__label-arrow\">transformer</label><div class=\"sk-toggleable__content\"><pre>[&#x27;BattingTeam&#x27;, &#x27;City&#x27;]</pre></div></div></div><div class=\"sk-serial\"><div class=\"sk-item\"><div class=\"sk-estimator sk-toggleable\"><input class=\"sk-toggleable__control sk-hidden--visually\" id=\"sk-estimator-id-18\" type=\"checkbox\" ><label for=\"sk-estimator-id-18\" class=\"sk-toggleable__label sk-toggleable__label-arrow\">OneHotEncoder</label><div class=\"sk-toggleable__content\"><pre>OneHotEncoder(drop=&#x27;first&#x27;, sparse=False)</pre></div></div></div></div></div></div><div class=\"sk-parallel-item\"><div class=\"sk-item\"><div class=\"sk-label-container\"><div class=\"sk-label sk-toggleable\"><input class=\"sk-toggleable__control sk-hidden--visually\" id=\"sk-estimator-id-19\" type=\"checkbox\" ><label for=\"sk-estimator-id-19\" class=\"sk-toggleable__label sk-toggleable__label-arrow\">remainder</label><div class=\"sk-toggleable__content\"><pre>[&#x27;Runs_Lefts&#x27;, &#x27;Balls_Lefts&#x27;, &#x27;Wicket_remaining&#x27;, &#x27;Current_run_rate&#x27;, &#x27;Required_run_rate&#x27;]</pre></div></div></div><div class=\"sk-serial\"><div class=\"sk-item\"><div class=\"sk-estimator sk-toggleable\"><input class=\"sk-toggleable__control sk-hidden--visually\" id=\"sk-estimator-id-20\" type=\"checkbox\" ><label for=\"sk-estimator-id-20\" class=\"sk-toggleable__label sk-toggleable__label-arrow\">passthrough</label><div class=\"sk-toggleable__content\"><pre>passthrough</pre></div></div></div></div></div></div></div></div><div class=\"sk-item\"><div class=\"sk-estimator sk-toggleable\"><input class=\"sk-toggleable__control sk-hidden--visually\" id=\"sk-estimator-id-21\" type=\"checkbox\" ><label for=\"sk-estimator-id-21\" class=\"sk-toggleable__label sk-toggleable__label-arrow\">RandomForestClassifier</label><div class=\"sk-toggleable__content\"><pre>RandomForestClassifier()</pre></div></div></div></div></div></div></div>"
     },
     "execution_count": 76,
     "metadata": {},
     "output_type": "execute_result"
    }
   ],
   "source": [
    "pipeline_1.fit(X_train, y_train)"
   ]
  },
  {
   "cell_type": "code",
   "execution_count": 77,
   "metadata": {
    "ExecuteTime": {
     "end_time": "2024-04-02T15:27:48.474599Z",
     "start_time": "2024-04-02T15:27:48.215292Z"
    }
   },
   "outputs": [],
   "source": [
    "y_pred_1 = pipeline_1.predict(X_test)"
   ]
  },
  {
   "cell_type": "code",
   "execution_count": 78,
   "metadata": {
    "ExecuteTime": {
     "end_time": "2024-04-02T15:27:48.482581Z",
     "start_time": "2024-04-02T15:27:48.475601Z"
    }
   },
   "outputs": [
    {
     "data": {
      "text/plain": "0.9868956672057101"
     },
     "execution_count": 78,
     "metadata": {},
     "output_type": "execute_result"
    }
   ],
   "source": [
    "accuracy_score(y_pred_1, y_test)"
   ]
  },
  {
   "cell_type": "code",
   "execution_count": 79,
   "metadata": {
    "ExecuteTime": {
     "end_time": "2024-04-02T15:27:48.503647Z",
     "start_time": "2024-04-02T15:27:48.482581Z"
    }
   },
   "outputs": [
    {
     "data": {
      "text/plain": "array([0.43709393, 0.56290607])"
     },
     "execution_count": 79,
     "metadata": {},
     "output_type": "execute_result"
    }
   ],
   "source": [
    "pipeline.predict_proba(X_test)[67]"
   ]
  },
  {
   "cell_type": "code",
   "execution_count": 80,
   "metadata": {
    "ExecuteTime": {
     "end_time": "2024-04-02T15:27:48.508984Z",
     "start_time": "2024-04-02T15:27:48.504645Z"
    }
   },
   "outputs": [],
   "source": [
    "def match_summary(row):\n",
    "    print(\"Batting Team-\" + row['batting_team'] + \" | Target- \" + str(row['total_runs_x']))\n",
    "    "
   ]
  },
  {
   "cell_type": "code",
   "execution_count": 81,
   "metadata": {
    "ExecuteTime": {
     "end_time": "2024-04-02T15:27:48.529506Z",
     "start_time": "2024-04-02T15:27:48.510979Z"
    }
   },
   "outputs": [
    {
     "data": {
      "text/plain": "            ID       City            WinningTeam  total_run_x  innings  overs  \\\n198885  335982  Bangalore  Kolkata Knight Riders          222        2      7   \n198886  335982  Bangalore  Kolkata Knight Riders          222        2      8   \n198887  335982  Bangalore  Kolkata Knight Riders          222        2      8   \n198888  335982  Bangalore  Kolkata Knight Riders          222        2      8   \n198889  335982  Bangalore  Kolkata Knight Riders          222        2      8   \n198890  335982  Bangalore  Kolkata Knight Riders          222        2      8   \n198891  335982  Bangalore  Kolkata Knight Riders          222        2      8   \n198892  335982  Bangalore  Kolkata Knight Riders          222        2      8   \n198893  335982  Bangalore  Kolkata Knight Riders          222        2      8   \n198894  335982  Bangalore  Kolkata Knight Riders          222        2      9   \n198895  335982  Bangalore  Kolkata Knight Riders          222        2      9   \n198896  335982  Bangalore  Kolkata Knight Riders          222        2      9   \n198897  335982  Bangalore  Kolkata Knight Riders          222        2      9   \n198898  335982  Bangalore  Kolkata Knight Riders          222        2      9   \n198899  335982  Bangalore  Kolkata Knight Riders          222        2      9   \n198900  335982  Bangalore  Kolkata Knight Riders          222        2      9   \n198901  335982  Bangalore  Kolkata Knight Riders          222        2     10   \n198902  335982  Bangalore  Kolkata Knight Riders          222        2     10   \n198903  335982  Bangalore  Kolkata Knight Riders          222        2     10   \n198904  335982  Bangalore  Kolkata Knight Riders          222        2     10   \n198905  335982  Bangalore  Kolkata Knight Riders          222        2     10   \n198906  335982  Bangalore  Kolkata Knight Riders          222        2     10   \n198907  335982  Bangalore  Kolkata Knight Riders          222        2     11   \n198908  335982  Bangalore  Kolkata Knight Riders          222        2     11   \n198909  335982  Bangalore  Kolkata Knight Riders          222        2     11   \n198910  335982  Bangalore  Kolkata Knight Riders          222        2     11   \n198911  335982  Bangalore  Kolkata Knight Riders          222        2     11   \n198912  335982  Bangalore  Kolkata Knight Riders          222        2     11   \n198913  335982  Bangalore  Kolkata Knight Riders          222        2     12   \n198914  335982  Bangalore  Kolkata Knight Riders          222        2     12   \n198915  335982  Bangalore  Kolkata Knight Riders          222        2     12   \n198916  335982  Bangalore  Kolkata Knight Riders          222        2     12   \n198917  335982  Bangalore  Kolkata Knight Riders          222        2     12   \n198918  335982  Bangalore  Kolkata Knight Riders          222        2     12   \n198919  335982  Bangalore  Kolkata Knight Riders          222        2     12   \n198920  335982  Bangalore  Kolkata Knight Riders          222        2     13   \n198921  335982  Bangalore  Kolkata Knight Riders          222        2     13   \n198922  335982  Bangalore  Kolkata Knight Riders          222        2     13   \n198923  335982  Bangalore  Kolkata Knight Riders          222        2     13   \n198924  335982  Bangalore  Kolkata Knight Riders          222        2     13   \n198925  335982  Bangalore  Kolkata Knight Riders          222        2     13   \n198926  335982  Bangalore  Kolkata Knight Riders          222        2     14   \n198927  335982  Bangalore  Kolkata Knight Riders          222        2     14   \n198928  335982  Bangalore  Kolkata Knight Riders          222        2     14   \n198929  335982  Bangalore  Kolkata Knight Riders          222        2     14   \n198930  335982  Bangalore  Kolkata Knight Riders          222        2     14   \n198931  335982  Bangalore  Kolkata Knight Riders          222        2     14   \n198932  335982  Bangalore  Kolkata Knight Riders          222        2     14   \n198933  335982  Bangalore  Kolkata Knight Riders          222        2     15   \n198934  335982  Bangalore  Kolkata Knight Riders          222        2     15   \n\n        ballnumber     batter      bowler non-striker  ...     kind  \\\n198885           6   CL White  SC Ganguly     B Akhil  ...      NaN   \n198886           1    B Akhil  AB Agarkar    CL White  ...      NaN   \n198887           2    B Akhil  AB Agarkar    CL White  ...   caught   \n198888           3  AA Noffke  AB Agarkar    CL White  ...      NaN   \n198889           4  AA Noffke  AB Agarkar    CL White  ...      NaN   \n198890           5  AA Noffke  AB Agarkar    CL White  ...      NaN   \n198891           6  AA Noffke  AB Agarkar    CL White  ...      NaN   \n198892           7   CL White  AB Agarkar   AA Noffke  ...      NaN   \n198893           8   CL White  AB Agarkar   AA Noffke  ...   caught   \n198894           1  AA Noffke  SC Ganguly     P Kumar  ...      NaN   \n198895           2    P Kumar  SC Ganguly   AA Noffke  ...      NaN   \n198896           3    P Kumar  SC Ganguly   AA Noffke  ...      NaN   \n198897           4    P Kumar  SC Ganguly   AA Noffke  ...      NaN   \n198898           5    P Kumar  SC Ganguly   AA Noffke  ...      NaN   \n198899           6  AA Noffke  SC Ganguly     P Kumar  ...      NaN   \n198900           7  AA Noffke  SC Ganguly     P Kumar  ...      NaN   \n198901           1  AA Noffke  AB Agarkar     P Kumar  ...      NaN   \n198902           2  AA Noffke  AB Agarkar     P Kumar  ...      NaN   \n198903           3  AA Noffke  AB Agarkar     P Kumar  ...      NaN   \n198904           4  AA Noffke  AB Agarkar     P Kumar  ...      NaN   \n198905           5    P Kumar  AB Agarkar   AA Noffke  ...      NaN   \n198906           6    P Kumar  AB Agarkar   AA Noffke  ...      NaN   \n198907           1  AA Noffke  SC Ganguly     P Kumar  ...  run out   \n198908           2     Z Khan  SC Ganguly     P Kumar  ...      NaN   \n198909           3     Z Khan  SC Ganguly     P Kumar  ...      NaN   \n198910           4     Z Khan  SC Ganguly     P Kumar  ...      NaN   \n198911           5    P Kumar  SC Ganguly      Z Khan  ...      NaN   \n198912           6    P Kumar  SC Ganguly      Z Khan  ...      NaN   \n198913           1    P Kumar   LR Shukla      Z Khan  ...      NaN   \n198914           2    P Kumar   LR Shukla      Z Khan  ...      NaN   \n198915           3     Z Khan   LR Shukla     P Kumar  ...      NaN   \n198916           4    P Kumar   LR Shukla      Z Khan  ...      NaN   \n198917           5     Z Khan   LR Shukla     P Kumar  ...      NaN   \n198918           6     Z Khan   LR Shukla     P Kumar  ...      NaN   \n198919           7     Z Khan   LR Shukla     P Kumar  ...      NaN   \n198920           1     Z Khan  SC Ganguly     P Kumar  ...   bowled   \n198921           2   SB Joshi  SC Ganguly     P Kumar  ...      NaN   \n198922           3    P Kumar  SC Ganguly    SB Joshi  ...      NaN   \n198923           4    P Kumar  SC Ganguly    SB Joshi  ...      NaN   \n198924           5    P Kumar  SC Ganguly    SB Joshi  ...      NaN   \n198925           6    P Kumar  SC Ganguly    SB Joshi  ...      NaN   \n198926           1   SB Joshi    I Sharma     P Kumar  ...      NaN   \n198927           2   SB Joshi    I Sharma     P Kumar  ...      NaN   \n198928           3   SB Joshi    I Sharma     P Kumar  ...      NaN   \n198929           4   SB Joshi    I Sharma     P Kumar  ...      NaN   \n198930           5    P Kumar    I Sharma    SB Joshi  ...      NaN   \n198931           6   SB Joshi    I Sharma     P Kumar  ...      NaN   \n198932           7    P Kumar    I Sharma    SB Joshi  ...      NaN   \n198933           1   SB Joshi   LR Shukla     P Kumar  ...      NaN   \n198934           2   SB Joshi   LR Shukla     P Kumar  ...   caught   \n\n        fielders_involved                  BattingTeam  current_score  \\\n198885                NaN  Royal Challengers Bangalore             38   \n198886                NaN  Royal Challengers Bangalore             38   \n198887         RT Ponting  Royal Challengers Bangalore             38   \n198888                NaN  Royal Challengers Bangalore             38   \n198889                NaN  Royal Challengers Bangalore             39   \n198890                NaN  Royal Challengers Bangalore             40   \n198891                NaN  Royal Challengers Bangalore             41   \n198892                NaN  Royal Challengers Bangalore             43   \n198893            WP Saha  Royal Challengers Bangalore             43   \n198894                NaN  Royal Challengers Bangalore             44   \n198895                NaN  Royal Challengers Bangalore             44   \n198896                NaN  Royal Challengers Bangalore             44   \n198897                NaN  Royal Challengers Bangalore             45   \n198898                NaN  Royal Challengers Bangalore             46   \n198899                NaN  Royal Challengers Bangalore             50   \n198900                NaN  Royal Challengers Bangalore             51   \n198901                NaN  Royal Challengers Bangalore             51   \n198902                NaN  Royal Challengers Bangalore             51   \n198903                NaN  Royal Challengers Bangalore             51   \n198904                NaN  Royal Challengers Bangalore             52   \n198905                NaN  Royal Challengers Bangalore             56   \n198906                NaN  Royal Challengers Bangalore             56   \n198907         AB Agarkar  Royal Challengers Bangalore             57   \n198908                NaN  Royal Challengers Bangalore             57   \n198909                NaN  Royal Challengers Bangalore             57   \n198910                NaN  Royal Challengers Bangalore             58   \n198911                NaN  Royal Challengers Bangalore             58   \n198912                NaN  Royal Challengers Bangalore             59   \n198913                NaN  Royal Challengers Bangalore             65   \n198914                NaN  Royal Challengers Bangalore             67   \n198915                NaN  Royal Challengers Bangalore             68   \n198916                NaN  Royal Challengers Bangalore             69   \n198917                NaN  Royal Challengers Bangalore             69   \n198918                NaN  Royal Challengers Bangalore             69   \n198919                NaN  Royal Challengers Bangalore             70   \n198920                NaN  Royal Challengers Bangalore             70   \n198921                NaN  Royal Challengers Bangalore             71   \n198922                NaN  Royal Challengers Bangalore             71   \n198923                NaN  Royal Challengers Bangalore             71   \n198924                NaN  Royal Challengers Bangalore             71   \n198925                NaN  Royal Challengers Bangalore             77   \n198926                NaN  Royal Challengers Bangalore             78   \n198927                NaN  Royal Challengers Bangalore             78   \n198928                NaN  Royal Challengers Bangalore             78   \n198929                NaN  Royal Challengers Bangalore             79   \n198930                NaN  Royal Challengers Bangalore             80   \n198931                NaN  Royal Challengers Bangalore             81   \n198932                NaN  Royal Challengers Bangalore             81   \n198933                NaN  Royal Challengers Bangalore             82   \n198934        BB McCullum  Royal Challengers Bangalore             82   \n\n        Runs_Lefts  Balls_Lefts  Wicket_remaining Current_run_rate  \\\n198885         184           72                 5         4.750000   \n198886         184           71                 5         4.653061   \n198887         184           70                 4         4.560000   \n198888         184           69                 4         4.470588   \n198889         183           68                 4         4.500000   \n198890         182           67                 4         4.528302   \n198891         181           66                 4         4.555556   \n198892         179           65                 4         4.690909   \n198893         179           64                 3         4.607143   \n198894         178           65                 3         4.800000   \n198895         178           64                 3         4.714286   \n198896         178           63                 3         4.631579   \n198897         177           62                 3         4.655172   \n198898         176           61                 3         4.677966   \n198899         172           60                 3         5.000000   \n198900         171           59                 3         5.016393   \n198901         171           59                 3         5.016393   \n198902         171           58                 3         4.935484   \n198903         171           57                 3         4.857143   \n198904         170           56                 3         4.875000   \n198905         166           55                 3         5.169231   \n198906         166           54                 3         5.090909   \n198907         165           53                 2         5.104478   \n198908         165           52                 2         5.029412   \n198909         165           51                 2         4.956522   \n198910         164           50                 2         4.971429   \n198911         164           49                 2         4.901408   \n198912         163           48                 2         4.916667   \n198913         157           47                 2         5.342466   \n198914         155           46                 2         5.432432   \n198915         154           45                 2         5.440000   \n198916         153           44                 2         5.447368   \n198917         153           43                 2         5.376623   \n198918         153           42                 2         5.307692   \n198919         152           41                 2         5.316456   \n198920         152           41                 1         5.316456   \n198921         151           40                 1         5.325000   \n198922         151           39                 1         5.259259   \n198923         151           38                 1         5.195122   \n198924         151           37                 1         5.132530   \n198925         145           36                 1         5.500000   \n198926         144           35                 1         5.505882   \n198927         144           34                 1         5.441860   \n198928         144           33                 1         5.379310   \n198929         143           32                 1         5.386364   \n198930         142           31                 1         5.393258   \n198931         141           30                 1         5.400000   \n198932         141           29                 1         5.340659   \n198933         140           29                 1         5.406593   \n198934         140           28                 0         5.347826   \n\n       Required_run_rate results  \n198885         15.333333       0  \n198886         15.549296       0  \n198887         15.771429       0  \n198888         16.000000       0  \n198889         16.147059       0  \n198890         16.298507       0  \n198891         16.454545       0  \n198892         16.523077       0  \n198893         16.781250       0  \n198894         16.430769       0  \n198895         16.687500       0  \n198896         16.952381       0  \n198897         17.129032       0  \n198898         17.311475       0  \n198899         17.200000       0  \n198900         17.389831       0  \n198901         17.389831       0  \n198902         17.689655       0  \n198903         18.000000       0  \n198904         18.214286       0  \n198905         18.109091       0  \n198906         18.444444       0  \n198907         18.679245       0  \n198908         19.038462       0  \n198909         19.411765       0  \n198910         19.680000       0  \n198911         20.081633       0  \n198912         20.375000       0  \n198913         20.042553       0  \n198914         20.217391       0  \n198915         20.533333       0  \n198916         20.863636       0  \n198917         21.348837       0  \n198918         21.857143       0  \n198919         22.243902       0  \n198920         22.243902       0  \n198921         22.650000       0  \n198922         23.230769       0  \n198923         23.842105       0  \n198924         24.486486       0  \n198925         24.166667       0  \n198926         24.685714       0  \n198927         25.411765       0  \n198928         26.181818       0  \n198929         26.812500       0  \n198930         27.483871       0  \n198931         28.200000       0  \n198932         29.172414       0  \n198933         28.965517       0  \n198934         30.000000       0  \n\n[50 rows x 27 columns]",
      "text/html": "<div>\n<style scoped>\n    .dataframe tbody tr th:only-of-type {\n        vertical-align: middle;\n    }\n\n    .dataframe tbody tr th {\n        vertical-align: top;\n    }\n\n    .dataframe thead th {\n        text-align: right;\n    }\n</style>\n<table border=\"1\" class=\"dataframe\">\n  <thead>\n    <tr style=\"text-align: right;\">\n      <th></th>\n      <th>ID</th>\n      <th>City</th>\n      <th>WinningTeam</th>\n      <th>total_run_x</th>\n      <th>innings</th>\n      <th>overs</th>\n      <th>ballnumber</th>\n      <th>batter</th>\n      <th>bowler</th>\n      <th>non-striker</th>\n      <th>...</th>\n      <th>kind</th>\n      <th>fielders_involved</th>\n      <th>BattingTeam</th>\n      <th>current_score</th>\n      <th>Runs_Lefts</th>\n      <th>Balls_Lefts</th>\n      <th>Wicket_remaining</th>\n      <th>Current_run_rate</th>\n      <th>Required_run_rate</th>\n      <th>results</th>\n    </tr>\n  </thead>\n  <tbody>\n    <tr>\n      <th>198885</th>\n      <td>335982</td>\n      <td>Bangalore</td>\n      <td>Kolkata Knight Riders</td>\n      <td>222</td>\n      <td>2</td>\n      <td>7</td>\n      <td>6</td>\n      <td>CL White</td>\n      <td>SC Ganguly</td>\n      <td>B Akhil</td>\n      <td>...</td>\n      <td>NaN</td>\n      <td>NaN</td>\n      <td>Royal Challengers Bangalore</td>\n      <td>38</td>\n      <td>184</td>\n      <td>72</td>\n      <td>5</td>\n      <td>4.750000</td>\n      <td>15.333333</td>\n      <td>0</td>\n    </tr>\n    <tr>\n      <th>198886</th>\n      <td>335982</td>\n      <td>Bangalore</td>\n      <td>Kolkata Knight Riders</td>\n      <td>222</td>\n      <td>2</td>\n      <td>8</td>\n      <td>1</td>\n      <td>B Akhil</td>\n      <td>AB Agarkar</td>\n      <td>CL White</td>\n      <td>...</td>\n      <td>NaN</td>\n      <td>NaN</td>\n      <td>Royal Challengers Bangalore</td>\n      <td>38</td>\n      <td>184</td>\n      <td>71</td>\n      <td>5</td>\n      <td>4.653061</td>\n      <td>15.549296</td>\n      <td>0</td>\n    </tr>\n    <tr>\n      <th>198887</th>\n      <td>335982</td>\n      <td>Bangalore</td>\n      <td>Kolkata Knight Riders</td>\n      <td>222</td>\n      <td>2</td>\n      <td>8</td>\n      <td>2</td>\n      <td>B Akhil</td>\n      <td>AB Agarkar</td>\n      <td>CL White</td>\n      <td>...</td>\n      <td>caught</td>\n      <td>RT Ponting</td>\n      <td>Royal Challengers Bangalore</td>\n      <td>38</td>\n      <td>184</td>\n      <td>70</td>\n      <td>4</td>\n      <td>4.560000</td>\n      <td>15.771429</td>\n      <td>0</td>\n    </tr>\n    <tr>\n      <th>198888</th>\n      <td>335982</td>\n      <td>Bangalore</td>\n      <td>Kolkata Knight Riders</td>\n      <td>222</td>\n      <td>2</td>\n      <td>8</td>\n      <td>3</td>\n      <td>AA Noffke</td>\n      <td>AB Agarkar</td>\n      <td>CL White</td>\n      <td>...</td>\n      <td>NaN</td>\n      <td>NaN</td>\n      <td>Royal Challengers Bangalore</td>\n      <td>38</td>\n      <td>184</td>\n      <td>69</td>\n      <td>4</td>\n      <td>4.470588</td>\n      <td>16.000000</td>\n      <td>0</td>\n    </tr>\n    <tr>\n      <th>198889</th>\n      <td>335982</td>\n      <td>Bangalore</td>\n      <td>Kolkata Knight Riders</td>\n      <td>222</td>\n      <td>2</td>\n      <td>8</td>\n      <td>4</td>\n      <td>AA Noffke</td>\n      <td>AB Agarkar</td>\n      <td>CL White</td>\n      <td>...</td>\n      <td>NaN</td>\n      <td>NaN</td>\n      <td>Royal Challengers Bangalore</td>\n      <td>39</td>\n      <td>183</td>\n      <td>68</td>\n      <td>4</td>\n      <td>4.500000</td>\n      <td>16.147059</td>\n      <td>0</td>\n    </tr>\n    <tr>\n      <th>198890</th>\n      <td>335982</td>\n      <td>Bangalore</td>\n      <td>Kolkata Knight Riders</td>\n      <td>222</td>\n      <td>2</td>\n      <td>8</td>\n      <td>5</td>\n      <td>AA Noffke</td>\n      <td>AB Agarkar</td>\n      <td>CL White</td>\n      <td>...</td>\n      <td>NaN</td>\n      <td>NaN</td>\n      <td>Royal Challengers Bangalore</td>\n      <td>40</td>\n      <td>182</td>\n      <td>67</td>\n      <td>4</td>\n      <td>4.528302</td>\n      <td>16.298507</td>\n      <td>0</td>\n    </tr>\n    <tr>\n      <th>198891</th>\n      <td>335982</td>\n      <td>Bangalore</td>\n      <td>Kolkata Knight Riders</td>\n      <td>222</td>\n      <td>2</td>\n      <td>8</td>\n      <td>6</td>\n      <td>AA Noffke</td>\n      <td>AB Agarkar</td>\n      <td>CL White</td>\n      <td>...</td>\n      <td>NaN</td>\n      <td>NaN</td>\n      <td>Royal Challengers Bangalore</td>\n      <td>41</td>\n      <td>181</td>\n      <td>66</td>\n      <td>4</td>\n      <td>4.555556</td>\n      <td>16.454545</td>\n      <td>0</td>\n    </tr>\n    <tr>\n      <th>198892</th>\n      <td>335982</td>\n      <td>Bangalore</td>\n      <td>Kolkata Knight Riders</td>\n      <td>222</td>\n      <td>2</td>\n      <td>8</td>\n      <td>7</td>\n      <td>CL White</td>\n      <td>AB Agarkar</td>\n      <td>AA Noffke</td>\n      <td>...</td>\n      <td>NaN</td>\n      <td>NaN</td>\n      <td>Royal Challengers Bangalore</td>\n      <td>43</td>\n      <td>179</td>\n      <td>65</td>\n      <td>4</td>\n      <td>4.690909</td>\n      <td>16.523077</td>\n      <td>0</td>\n    </tr>\n    <tr>\n      <th>198893</th>\n      <td>335982</td>\n      <td>Bangalore</td>\n      <td>Kolkata Knight Riders</td>\n      <td>222</td>\n      <td>2</td>\n      <td>8</td>\n      <td>8</td>\n      <td>CL White</td>\n      <td>AB Agarkar</td>\n      <td>AA Noffke</td>\n      <td>...</td>\n      <td>caught</td>\n      <td>WP Saha</td>\n      <td>Royal Challengers Bangalore</td>\n      <td>43</td>\n      <td>179</td>\n      <td>64</td>\n      <td>3</td>\n      <td>4.607143</td>\n      <td>16.781250</td>\n      <td>0</td>\n    </tr>\n    <tr>\n      <th>198894</th>\n      <td>335982</td>\n      <td>Bangalore</td>\n      <td>Kolkata Knight Riders</td>\n      <td>222</td>\n      <td>2</td>\n      <td>9</td>\n      <td>1</td>\n      <td>AA Noffke</td>\n      <td>SC Ganguly</td>\n      <td>P Kumar</td>\n      <td>...</td>\n      <td>NaN</td>\n      <td>NaN</td>\n      <td>Royal Challengers Bangalore</td>\n      <td>44</td>\n      <td>178</td>\n      <td>65</td>\n      <td>3</td>\n      <td>4.800000</td>\n      <td>16.430769</td>\n      <td>0</td>\n    </tr>\n    <tr>\n      <th>198895</th>\n      <td>335982</td>\n      <td>Bangalore</td>\n      <td>Kolkata Knight Riders</td>\n      <td>222</td>\n      <td>2</td>\n      <td>9</td>\n      <td>2</td>\n      <td>P Kumar</td>\n      <td>SC Ganguly</td>\n      <td>AA Noffke</td>\n      <td>...</td>\n      <td>NaN</td>\n      <td>NaN</td>\n      <td>Royal Challengers Bangalore</td>\n      <td>44</td>\n      <td>178</td>\n      <td>64</td>\n      <td>3</td>\n      <td>4.714286</td>\n      <td>16.687500</td>\n      <td>0</td>\n    </tr>\n    <tr>\n      <th>198896</th>\n      <td>335982</td>\n      <td>Bangalore</td>\n      <td>Kolkata Knight Riders</td>\n      <td>222</td>\n      <td>2</td>\n      <td>9</td>\n      <td>3</td>\n      <td>P Kumar</td>\n      <td>SC Ganguly</td>\n      <td>AA Noffke</td>\n      <td>...</td>\n      <td>NaN</td>\n      <td>NaN</td>\n      <td>Royal Challengers Bangalore</td>\n      <td>44</td>\n      <td>178</td>\n      <td>63</td>\n      <td>3</td>\n      <td>4.631579</td>\n      <td>16.952381</td>\n      <td>0</td>\n    </tr>\n    <tr>\n      <th>198897</th>\n      <td>335982</td>\n      <td>Bangalore</td>\n      <td>Kolkata Knight Riders</td>\n      <td>222</td>\n      <td>2</td>\n      <td>9</td>\n      <td>4</td>\n      <td>P Kumar</td>\n      <td>SC Ganguly</td>\n      <td>AA Noffke</td>\n      <td>...</td>\n      <td>NaN</td>\n      <td>NaN</td>\n      <td>Royal Challengers Bangalore</td>\n      <td>45</td>\n      <td>177</td>\n      <td>62</td>\n      <td>3</td>\n      <td>4.655172</td>\n      <td>17.129032</td>\n      <td>0</td>\n    </tr>\n    <tr>\n      <th>198898</th>\n      <td>335982</td>\n      <td>Bangalore</td>\n      <td>Kolkata Knight Riders</td>\n      <td>222</td>\n      <td>2</td>\n      <td>9</td>\n      <td>5</td>\n      <td>P Kumar</td>\n      <td>SC Ganguly</td>\n      <td>AA Noffke</td>\n      <td>...</td>\n      <td>NaN</td>\n      <td>NaN</td>\n      <td>Royal Challengers Bangalore</td>\n      <td>46</td>\n      <td>176</td>\n      <td>61</td>\n      <td>3</td>\n      <td>4.677966</td>\n      <td>17.311475</td>\n      <td>0</td>\n    </tr>\n    <tr>\n      <th>198899</th>\n      <td>335982</td>\n      <td>Bangalore</td>\n      <td>Kolkata Knight Riders</td>\n      <td>222</td>\n      <td>2</td>\n      <td>9</td>\n      <td>6</td>\n      <td>AA Noffke</td>\n      <td>SC Ganguly</td>\n      <td>P Kumar</td>\n      <td>...</td>\n      <td>NaN</td>\n      <td>NaN</td>\n      <td>Royal Challengers Bangalore</td>\n      <td>50</td>\n      <td>172</td>\n      <td>60</td>\n      <td>3</td>\n      <td>5.000000</td>\n      <td>17.200000</td>\n      <td>0</td>\n    </tr>\n    <tr>\n      <th>198900</th>\n      <td>335982</td>\n      <td>Bangalore</td>\n      <td>Kolkata Knight Riders</td>\n      <td>222</td>\n      <td>2</td>\n      <td>9</td>\n      <td>7</td>\n      <td>AA Noffke</td>\n      <td>SC Ganguly</td>\n      <td>P Kumar</td>\n      <td>...</td>\n      <td>NaN</td>\n      <td>NaN</td>\n      <td>Royal Challengers Bangalore</td>\n      <td>51</td>\n      <td>171</td>\n      <td>59</td>\n      <td>3</td>\n      <td>5.016393</td>\n      <td>17.389831</td>\n      <td>0</td>\n    </tr>\n    <tr>\n      <th>198901</th>\n      <td>335982</td>\n      <td>Bangalore</td>\n      <td>Kolkata Knight Riders</td>\n      <td>222</td>\n      <td>2</td>\n      <td>10</td>\n      <td>1</td>\n      <td>AA Noffke</td>\n      <td>AB Agarkar</td>\n      <td>P Kumar</td>\n      <td>...</td>\n      <td>NaN</td>\n      <td>NaN</td>\n      <td>Royal Challengers Bangalore</td>\n      <td>51</td>\n      <td>171</td>\n      <td>59</td>\n      <td>3</td>\n      <td>5.016393</td>\n      <td>17.389831</td>\n      <td>0</td>\n    </tr>\n    <tr>\n      <th>198902</th>\n      <td>335982</td>\n      <td>Bangalore</td>\n      <td>Kolkata Knight Riders</td>\n      <td>222</td>\n      <td>2</td>\n      <td>10</td>\n      <td>2</td>\n      <td>AA Noffke</td>\n      <td>AB Agarkar</td>\n      <td>P Kumar</td>\n      <td>...</td>\n      <td>NaN</td>\n      <td>NaN</td>\n      <td>Royal Challengers Bangalore</td>\n      <td>51</td>\n      <td>171</td>\n      <td>58</td>\n      <td>3</td>\n      <td>4.935484</td>\n      <td>17.689655</td>\n      <td>0</td>\n    </tr>\n    <tr>\n      <th>198903</th>\n      <td>335982</td>\n      <td>Bangalore</td>\n      <td>Kolkata Knight Riders</td>\n      <td>222</td>\n      <td>2</td>\n      <td>10</td>\n      <td>3</td>\n      <td>AA Noffke</td>\n      <td>AB Agarkar</td>\n      <td>P Kumar</td>\n      <td>...</td>\n      <td>NaN</td>\n      <td>NaN</td>\n      <td>Royal Challengers Bangalore</td>\n      <td>51</td>\n      <td>171</td>\n      <td>57</td>\n      <td>3</td>\n      <td>4.857143</td>\n      <td>18.000000</td>\n      <td>0</td>\n    </tr>\n    <tr>\n      <th>198904</th>\n      <td>335982</td>\n      <td>Bangalore</td>\n      <td>Kolkata Knight Riders</td>\n      <td>222</td>\n      <td>2</td>\n      <td>10</td>\n      <td>4</td>\n      <td>AA Noffke</td>\n      <td>AB Agarkar</td>\n      <td>P Kumar</td>\n      <td>...</td>\n      <td>NaN</td>\n      <td>NaN</td>\n      <td>Royal Challengers Bangalore</td>\n      <td>52</td>\n      <td>170</td>\n      <td>56</td>\n      <td>3</td>\n      <td>4.875000</td>\n      <td>18.214286</td>\n      <td>0</td>\n    </tr>\n    <tr>\n      <th>198905</th>\n      <td>335982</td>\n      <td>Bangalore</td>\n      <td>Kolkata Knight Riders</td>\n      <td>222</td>\n      <td>2</td>\n      <td>10</td>\n      <td>5</td>\n      <td>P Kumar</td>\n      <td>AB Agarkar</td>\n      <td>AA Noffke</td>\n      <td>...</td>\n      <td>NaN</td>\n      <td>NaN</td>\n      <td>Royal Challengers Bangalore</td>\n      <td>56</td>\n      <td>166</td>\n      <td>55</td>\n      <td>3</td>\n      <td>5.169231</td>\n      <td>18.109091</td>\n      <td>0</td>\n    </tr>\n    <tr>\n      <th>198906</th>\n      <td>335982</td>\n      <td>Bangalore</td>\n      <td>Kolkata Knight Riders</td>\n      <td>222</td>\n      <td>2</td>\n      <td>10</td>\n      <td>6</td>\n      <td>P Kumar</td>\n      <td>AB Agarkar</td>\n      <td>AA Noffke</td>\n      <td>...</td>\n      <td>NaN</td>\n      <td>NaN</td>\n      <td>Royal Challengers Bangalore</td>\n      <td>56</td>\n      <td>166</td>\n      <td>54</td>\n      <td>3</td>\n      <td>5.090909</td>\n      <td>18.444444</td>\n      <td>0</td>\n    </tr>\n    <tr>\n      <th>198907</th>\n      <td>335982</td>\n      <td>Bangalore</td>\n      <td>Kolkata Knight Riders</td>\n      <td>222</td>\n      <td>2</td>\n      <td>11</td>\n      <td>1</td>\n      <td>AA Noffke</td>\n      <td>SC Ganguly</td>\n      <td>P Kumar</td>\n      <td>...</td>\n      <td>run out</td>\n      <td>AB Agarkar</td>\n      <td>Royal Challengers Bangalore</td>\n      <td>57</td>\n      <td>165</td>\n      <td>53</td>\n      <td>2</td>\n      <td>5.104478</td>\n      <td>18.679245</td>\n      <td>0</td>\n    </tr>\n    <tr>\n      <th>198908</th>\n      <td>335982</td>\n      <td>Bangalore</td>\n      <td>Kolkata Knight Riders</td>\n      <td>222</td>\n      <td>2</td>\n      <td>11</td>\n      <td>2</td>\n      <td>Z Khan</td>\n      <td>SC Ganguly</td>\n      <td>P Kumar</td>\n      <td>...</td>\n      <td>NaN</td>\n      <td>NaN</td>\n      <td>Royal Challengers Bangalore</td>\n      <td>57</td>\n      <td>165</td>\n      <td>52</td>\n      <td>2</td>\n      <td>5.029412</td>\n      <td>19.038462</td>\n      <td>0</td>\n    </tr>\n    <tr>\n      <th>198909</th>\n      <td>335982</td>\n      <td>Bangalore</td>\n      <td>Kolkata Knight Riders</td>\n      <td>222</td>\n      <td>2</td>\n      <td>11</td>\n      <td>3</td>\n      <td>Z Khan</td>\n      <td>SC Ganguly</td>\n      <td>P Kumar</td>\n      <td>...</td>\n      <td>NaN</td>\n      <td>NaN</td>\n      <td>Royal Challengers Bangalore</td>\n      <td>57</td>\n      <td>165</td>\n      <td>51</td>\n      <td>2</td>\n      <td>4.956522</td>\n      <td>19.411765</td>\n      <td>0</td>\n    </tr>\n    <tr>\n      <th>198910</th>\n      <td>335982</td>\n      <td>Bangalore</td>\n      <td>Kolkata Knight Riders</td>\n      <td>222</td>\n      <td>2</td>\n      <td>11</td>\n      <td>4</td>\n      <td>Z Khan</td>\n      <td>SC Ganguly</td>\n      <td>P Kumar</td>\n      <td>...</td>\n      <td>NaN</td>\n      <td>NaN</td>\n      <td>Royal Challengers Bangalore</td>\n      <td>58</td>\n      <td>164</td>\n      <td>50</td>\n      <td>2</td>\n      <td>4.971429</td>\n      <td>19.680000</td>\n      <td>0</td>\n    </tr>\n    <tr>\n      <th>198911</th>\n      <td>335982</td>\n      <td>Bangalore</td>\n      <td>Kolkata Knight Riders</td>\n      <td>222</td>\n      <td>2</td>\n      <td>11</td>\n      <td>5</td>\n      <td>P Kumar</td>\n      <td>SC Ganguly</td>\n      <td>Z Khan</td>\n      <td>...</td>\n      <td>NaN</td>\n      <td>NaN</td>\n      <td>Royal Challengers Bangalore</td>\n      <td>58</td>\n      <td>164</td>\n      <td>49</td>\n      <td>2</td>\n      <td>4.901408</td>\n      <td>20.081633</td>\n      <td>0</td>\n    </tr>\n    <tr>\n      <th>198912</th>\n      <td>335982</td>\n      <td>Bangalore</td>\n      <td>Kolkata Knight Riders</td>\n      <td>222</td>\n      <td>2</td>\n      <td>11</td>\n      <td>6</td>\n      <td>P Kumar</td>\n      <td>SC Ganguly</td>\n      <td>Z Khan</td>\n      <td>...</td>\n      <td>NaN</td>\n      <td>NaN</td>\n      <td>Royal Challengers Bangalore</td>\n      <td>59</td>\n      <td>163</td>\n      <td>48</td>\n      <td>2</td>\n      <td>4.916667</td>\n      <td>20.375000</td>\n      <td>0</td>\n    </tr>\n    <tr>\n      <th>198913</th>\n      <td>335982</td>\n      <td>Bangalore</td>\n      <td>Kolkata Knight Riders</td>\n      <td>222</td>\n      <td>2</td>\n      <td>12</td>\n      <td>1</td>\n      <td>P Kumar</td>\n      <td>LR Shukla</td>\n      <td>Z Khan</td>\n      <td>...</td>\n      <td>NaN</td>\n      <td>NaN</td>\n      <td>Royal Challengers Bangalore</td>\n      <td>65</td>\n      <td>157</td>\n      <td>47</td>\n      <td>2</td>\n      <td>5.342466</td>\n      <td>20.042553</td>\n      <td>0</td>\n    </tr>\n    <tr>\n      <th>198914</th>\n      <td>335982</td>\n      <td>Bangalore</td>\n      <td>Kolkata Knight Riders</td>\n      <td>222</td>\n      <td>2</td>\n      <td>12</td>\n      <td>2</td>\n      <td>P Kumar</td>\n      <td>LR Shukla</td>\n      <td>Z Khan</td>\n      <td>...</td>\n      <td>NaN</td>\n      <td>NaN</td>\n      <td>Royal Challengers Bangalore</td>\n      <td>67</td>\n      <td>155</td>\n      <td>46</td>\n      <td>2</td>\n      <td>5.432432</td>\n      <td>20.217391</td>\n      <td>0</td>\n    </tr>\n    <tr>\n      <th>198915</th>\n      <td>335982</td>\n      <td>Bangalore</td>\n      <td>Kolkata Knight Riders</td>\n      <td>222</td>\n      <td>2</td>\n      <td>12</td>\n      <td>3</td>\n      <td>Z Khan</td>\n      <td>LR Shukla</td>\n      <td>P Kumar</td>\n      <td>...</td>\n      <td>NaN</td>\n      <td>NaN</td>\n      <td>Royal Challengers Bangalore</td>\n      <td>68</td>\n      <td>154</td>\n      <td>45</td>\n      <td>2</td>\n      <td>5.440000</td>\n      <td>20.533333</td>\n      <td>0</td>\n    </tr>\n    <tr>\n      <th>198916</th>\n      <td>335982</td>\n      <td>Bangalore</td>\n      <td>Kolkata Knight Riders</td>\n      <td>222</td>\n      <td>2</td>\n      <td>12</td>\n      <td>4</td>\n      <td>P Kumar</td>\n      <td>LR Shukla</td>\n      <td>Z Khan</td>\n      <td>...</td>\n      <td>NaN</td>\n      <td>NaN</td>\n      <td>Royal Challengers Bangalore</td>\n      <td>69</td>\n      <td>153</td>\n      <td>44</td>\n      <td>2</td>\n      <td>5.447368</td>\n      <td>20.863636</td>\n      <td>0</td>\n    </tr>\n    <tr>\n      <th>198917</th>\n      <td>335982</td>\n      <td>Bangalore</td>\n      <td>Kolkata Knight Riders</td>\n      <td>222</td>\n      <td>2</td>\n      <td>12</td>\n      <td>5</td>\n      <td>Z Khan</td>\n      <td>LR Shukla</td>\n      <td>P Kumar</td>\n      <td>...</td>\n      <td>NaN</td>\n      <td>NaN</td>\n      <td>Royal Challengers Bangalore</td>\n      <td>69</td>\n      <td>153</td>\n      <td>43</td>\n      <td>2</td>\n      <td>5.376623</td>\n      <td>21.348837</td>\n      <td>0</td>\n    </tr>\n    <tr>\n      <th>198918</th>\n      <td>335982</td>\n      <td>Bangalore</td>\n      <td>Kolkata Knight Riders</td>\n      <td>222</td>\n      <td>2</td>\n      <td>12</td>\n      <td>6</td>\n      <td>Z Khan</td>\n      <td>LR Shukla</td>\n      <td>P Kumar</td>\n      <td>...</td>\n      <td>NaN</td>\n      <td>NaN</td>\n      <td>Royal Challengers Bangalore</td>\n      <td>69</td>\n      <td>153</td>\n      <td>42</td>\n      <td>2</td>\n      <td>5.307692</td>\n      <td>21.857143</td>\n      <td>0</td>\n    </tr>\n    <tr>\n      <th>198919</th>\n      <td>335982</td>\n      <td>Bangalore</td>\n      <td>Kolkata Knight Riders</td>\n      <td>222</td>\n      <td>2</td>\n      <td>12</td>\n      <td>7</td>\n      <td>Z Khan</td>\n      <td>LR Shukla</td>\n      <td>P Kumar</td>\n      <td>...</td>\n      <td>NaN</td>\n      <td>NaN</td>\n      <td>Royal Challengers Bangalore</td>\n      <td>70</td>\n      <td>152</td>\n      <td>41</td>\n      <td>2</td>\n      <td>5.316456</td>\n      <td>22.243902</td>\n      <td>0</td>\n    </tr>\n    <tr>\n      <th>198920</th>\n      <td>335982</td>\n      <td>Bangalore</td>\n      <td>Kolkata Knight Riders</td>\n      <td>222</td>\n      <td>2</td>\n      <td>13</td>\n      <td>1</td>\n      <td>Z Khan</td>\n      <td>SC Ganguly</td>\n      <td>P Kumar</td>\n      <td>...</td>\n      <td>bowled</td>\n      <td>NaN</td>\n      <td>Royal Challengers Bangalore</td>\n      <td>70</td>\n      <td>152</td>\n      <td>41</td>\n      <td>1</td>\n      <td>5.316456</td>\n      <td>22.243902</td>\n      <td>0</td>\n    </tr>\n    <tr>\n      <th>198921</th>\n      <td>335982</td>\n      <td>Bangalore</td>\n      <td>Kolkata Knight Riders</td>\n      <td>222</td>\n      <td>2</td>\n      <td>13</td>\n      <td>2</td>\n      <td>SB Joshi</td>\n      <td>SC Ganguly</td>\n      <td>P Kumar</td>\n      <td>...</td>\n      <td>NaN</td>\n      <td>NaN</td>\n      <td>Royal Challengers Bangalore</td>\n      <td>71</td>\n      <td>151</td>\n      <td>40</td>\n      <td>1</td>\n      <td>5.325000</td>\n      <td>22.650000</td>\n      <td>0</td>\n    </tr>\n    <tr>\n      <th>198922</th>\n      <td>335982</td>\n      <td>Bangalore</td>\n      <td>Kolkata Knight Riders</td>\n      <td>222</td>\n      <td>2</td>\n      <td>13</td>\n      <td>3</td>\n      <td>P Kumar</td>\n      <td>SC Ganguly</td>\n      <td>SB Joshi</td>\n      <td>...</td>\n      <td>NaN</td>\n      <td>NaN</td>\n      <td>Royal Challengers Bangalore</td>\n      <td>71</td>\n      <td>151</td>\n      <td>39</td>\n      <td>1</td>\n      <td>5.259259</td>\n      <td>23.230769</td>\n      <td>0</td>\n    </tr>\n    <tr>\n      <th>198923</th>\n      <td>335982</td>\n      <td>Bangalore</td>\n      <td>Kolkata Knight Riders</td>\n      <td>222</td>\n      <td>2</td>\n      <td>13</td>\n      <td>4</td>\n      <td>P Kumar</td>\n      <td>SC Ganguly</td>\n      <td>SB Joshi</td>\n      <td>...</td>\n      <td>NaN</td>\n      <td>NaN</td>\n      <td>Royal Challengers Bangalore</td>\n      <td>71</td>\n      <td>151</td>\n      <td>38</td>\n      <td>1</td>\n      <td>5.195122</td>\n      <td>23.842105</td>\n      <td>0</td>\n    </tr>\n    <tr>\n      <th>198924</th>\n      <td>335982</td>\n      <td>Bangalore</td>\n      <td>Kolkata Knight Riders</td>\n      <td>222</td>\n      <td>2</td>\n      <td>13</td>\n      <td>5</td>\n      <td>P Kumar</td>\n      <td>SC Ganguly</td>\n      <td>SB Joshi</td>\n      <td>...</td>\n      <td>NaN</td>\n      <td>NaN</td>\n      <td>Royal Challengers Bangalore</td>\n      <td>71</td>\n      <td>151</td>\n      <td>37</td>\n      <td>1</td>\n      <td>5.132530</td>\n      <td>24.486486</td>\n      <td>0</td>\n    </tr>\n    <tr>\n      <th>198925</th>\n      <td>335982</td>\n      <td>Bangalore</td>\n      <td>Kolkata Knight Riders</td>\n      <td>222</td>\n      <td>2</td>\n      <td>13</td>\n      <td>6</td>\n      <td>P Kumar</td>\n      <td>SC Ganguly</td>\n      <td>SB Joshi</td>\n      <td>...</td>\n      <td>NaN</td>\n      <td>NaN</td>\n      <td>Royal Challengers Bangalore</td>\n      <td>77</td>\n      <td>145</td>\n      <td>36</td>\n      <td>1</td>\n      <td>5.500000</td>\n      <td>24.166667</td>\n      <td>0</td>\n    </tr>\n    <tr>\n      <th>198926</th>\n      <td>335982</td>\n      <td>Bangalore</td>\n      <td>Kolkata Knight Riders</td>\n      <td>222</td>\n      <td>2</td>\n      <td>14</td>\n      <td>1</td>\n      <td>SB Joshi</td>\n      <td>I Sharma</td>\n      <td>P Kumar</td>\n      <td>...</td>\n      <td>NaN</td>\n      <td>NaN</td>\n      <td>Royal Challengers Bangalore</td>\n      <td>78</td>\n      <td>144</td>\n      <td>35</td>\n      <td>1</td>\n      <td>5.505882</td>\n      <td>24.685714</td>\n      <td>0</td>\n    </tr>\n    <tr>\n      <th>198927</th>\n      <td>335982</td>\n      <td>Bangalore</td>\n      <td>Kolkata Knight Riders</td>\n      <td>222</td>\n      <td>2</td>\n      <td>14</td>\n      <td>2</td>\n      <td>SB Joshi</td>\n      <td>I Sharma</td>\n      <td>P Kumar</td>\n      <td>...</td>\n      <td>NaN</td>\n      <td>NaN</td>\n      <td>Royal Challengers Bangalore</td>\n      <td>78</td>\n      <td>144</td>\n      <td>34</td>\n      <td>1</td>\n      <td>5.441860</td>\n      <td>25.411765</td>\n      <td>0</td>\n    </tr>\n    <tr>\n      <th>198928</th>\n      <td>335982</td>\n      <td>Bangalore</td>\n      <td>Kolkata Knight Riders</td>\n      <td>222</td>\n      <td>2</td>\n      <td>14</td>\n      <td>3</td>\n      <td>SB Joshi</td>\n      <td>I Sharma</td>\n      <td>P Kumar</td>\n      <td>...</td>\n      <td>NaN</td>\n      <td>NaN</td>\n      <td>Royal Challengers Bangalore</td>\n      <td>78</td>\n      <td>144</td>\n      <td>33</td>\n      <td>1</td>\n      <td>5.379310</td>\n      <td>26.181818</td>\n      <td>0</td>\n    </tr>\n    <tr>\n      <th>198929</th>\n      <td>335982</td>\n      <td>Bangalore</td>\n      <td>Kolkata Knight Riders</td>\n      <td>222</td>\n      <td>2</td>\n      <td>14</td>\n      <td>4</td>\n      <td>SB Joshi</td>\n      <td>I Sharma</td>\n      <td>P Kumar</td>\n      <td>...</td>\n      <td>NaN</td>\n      <td>NaN</td>\n      <td>Royal Challengers Bangalore</td>\n      <td>79</td>\n      <td>143</td>\n      <td>32</td>\n      <td>1</td>\n      <td>5.386364</td>\n      <td>26.812500</td>\n      <td>0</td>\n    </tr>\n    <tr>\n      <th>198930</th>\n      <td>335982</td>\n      <td>Bangalore</td>\n      <td>Kolkata Knight Riders</td>\n      <td>222</td>\n      <td>2</td>\n      <td>14</td>\n      <td>5</td>\n      <td>P Kumar</td>\n      <td>I Sharma</td>\n      <td>SB Joshi</td>\n      <td>...</td>\n      <td>NaN</td>\n      <td>NaN</td>\n      <td>Royal Challengers Bangalore</td>\n      <td>80</td>\n      <td>142</td>\n      <td>31</td>\n      <td>1</td>\n      <td>5.393258</td>\n      <td>27.483871</td>\n      <td>0</td>\n    </tr>\n    <tr>\n      <th>198931</th>\n      <td>335982</td>\n      <td>Bangalore</td>\n      <td>Kolkata Knight Riders</td>\n      <td>222</td>\n      <td>2</td>\n      <td>14</td>\n      <td>6</td>\n      <td>SB Joshi</td>\n      <td>I Sharma</td>\n      <td>P Kumar</td>\n      <td>...</td>\n      <td>NaN</td>\n      <td>NaN</td>\n      <td>Royal Challengers Bangalore</td>\n      <td>81</td>\n      <td>141</td>\n      <td>30</td>\n      <td>1</td>\n      <td>5.400000</td>\n      <td>28.200000</td>\n      <td>0</td>\n    </tr>\n    <tr>\n      <th>198932</th>\n      <td>335982</td>\n      <td>Bangalore</td>\n      <td>Kolkata Knight Riders</td>\n      <td>222</td>\n      <td>2</td>\n      <td>14</td>\n      <td>7</td>\n      <td>P Kumar</td>\n      <td>I Sharma</td>\n      <td>SB Joshi</td>\n      <td>...</td>\n      <td>NaN</td>\n      <td>NaN</td>\n      <td>Royal Challengers Bangalore</td>\n      <td>81</td>\n      <td>141</td>\n      <td>29</td>\n      <td>1</td>\n      <td>5.340659</td>\n      <td>29.172414</td>\n      <td>0</td>\n    </tr>\n    <tr>\n      <th>198933</th>\n      <td>335982</td>\n      <td>Bangalore</td>\n      <td>Kolkata Knight Riders</td>\n      <td>222</td>\n      <td>2</td>\n      <td>15</td>\n      <td>1</td>\n      <td>SB Joshi</td>\n      <td>LR Shukla</td>\n      <td>P Kumar</td>\n      <td>...</td>\n      <td>NaN</td>\n      <td>NaN</td>\n      <td>Royal Challengers Bangalore</td>\n      <td>82</td>\n      <td>140</td>\n      <td>29</td>\n      <td>1</td>\n      <td>5.406593</td>\n      <td>28.965517</td>\n      <td>0</td>\n    </tr>\n    <tr>\n      <th>198934</th>\n      <td>335982</td>\n      <td>Bangalore</td>\n      <td>Kolkata Knight Riders</td>\n      <td>222</td>\n      <td>2</td>\n      <td>15</td>\n      <td>2</td>\n      <td>SB Joshi</td>\n      <td>LR Shukla</td>\n      <td>P Kumar</td>\n      <td>...</td>\n      <td>caught</td>\n      <td>BB McCullum</td>\n      <td>Royal Challengers Bangalore</td>\n      <td>82</td>\n      <td>140</td>\n      <td>28</td>\n      <td>0</td>\n      <td>5.347826</td>\n      <td>30.000000</td>\n      <td>0</td>\n    </tr>\n  </tbody>\n</table>\n<p>50 rows × 27 columns</p>\n</div>"
     },
     "execution_count": 81,
     "metadata": {},
     "output_type": "execute_result"
    }
   ],
   "source": [
    "delivary_df.tail(50)"
   ]
  },
  {
   "cell_type": "code",
   "execution_count": 82,
   "metadata": {
    "ExecuteTime": {
     "end_time": "2024-04-02T15:27:48.535901Z",
     "start_time": "2024-04-02T15:27:48.530504Z"
    }
   },
   "outputs": [
    {
     "data": {
      "text/plain": "array([1312200, 1312199, 1312198, 1312197, 1304116, 1304115, 1304114,\n       1304113, 1304112, 1304111, 1304110, 1304109, 1304108, 1304107,\n       1304106, 1304105, 1304104, 1304103, 1304102, 1304101, 1304100,\n       1304099, 1304098, 1304097, 1304096, 1304095, 1304094, 1304093,\n       1304092, 1304091, 1304090, 1304089, 1304088, 1304087, 1304086,\n       1304085, 1304084, 1304083, 1304082, 1304081, 1304080, 1304079,\n       1304078, 1304077, 1304076, 1304075, 1304074, 1304073, 1304072,\n       1304071, 1304070, 1304069, 1304068, 1304067, 1304066, 1304065,\n       1304064, 1304063, 1304062, 1304061, 1304060, 1304059, 1304058,\n       1304057, 1304056, 1304055, 1304054, 1304053, 1304052, 1304051,\n       1304050, 1304049, 1304048, 1304047, 1254117, 1254116, 1254115,\n       1254114, 1254101, 1254088, 1254106, 1254094, 1254095, 1254093,\n       1254110, 1254090, 1254109, 1254112, 1254089, 1254102, 1254091,\n       1254103, 1254099, 1254092, 1254100, 1254098, 1254108, 1254097,\n       1254107, 1254113, 1254096, 1254105, 1254111, 1254087, 1254104,\n       1254086, 1254085, 1254084, 1254083, 1254082, 1254081, 1254080,\n       1254079, 1254078, 1254077, 1254076, 1254075, 1254074, 1254073,\n       1254072, 1254071, 1254070, 1254069, 1254068, 1254067, 1254066,\n       1254065, 1254064, 1254063, 1254062, 1254061, 1254060, 1254059,\n       1254058, 1237181, 1237180, 1237178, 1237177, 1216495, 1216505,\n       1216530, 1216506, 1216535, 1216502, 1216537, 1216536, 1216499,\n       1216524, 1216520, 1216541, 1216544, 1216498, 1216497, 1216521,\n       1216518, 1216494, 1216546, 1216533, 1216512, 1216517, 1216522,\n       1216509, 1216526, 1216531, 1216543, 1216528, 1216540, 1216507,\n       1216529, 1216523, 1216525, 1216500, 1216542, 1216501, 1216511,\n       1216519, 1216513, 1216538, 1216514, 1216515, 1216516, 1216503,\n       1216504, 1216532, 1216547, 1216527, 1216545, 1216539, 1216510,\n       1216508, 1216496, 1216534, 1216493, 1216492, 1181768, 1181767,\n       1181766, 1181764, 1178430, 1178431, 1178429, 1178428, 1178427,\n       1178426, 1178425, 1178424, 1178423, 1178422, 1178421, 1178420,\n       1178419, 1178418, 1178417, 1178416, 1178415, 1178413, 1178414,\n       1178412, 1178411, 1178410, 1178409, 1178408, 1178407, 1178406,\n       1178404, 1178405, 1178402, 1178403, 1178401, 1178400, 1178399,\n       1178398, 1178397, 1178396, 1178395, 1178394, 1178393, 1175372,\n       1175371, 1175370, 1175369, 1175368, 1175366, 1175367, 1175365,\n       1175364, 1175363, 1175362, 1175361, 1175360, 1175359, 1175358,\n       1175357, 1175356, 1136620, 1136619, 1136618, 1136617, 1136616,\n       1136615, 1136614, 1136613, 1136612, 1136611, 1136610, 1136609,\n       1136608, 1136607, 1136606, 1136605, 1136604, 1136603, 1136602,\n       1136601, 1136600, 1136599, 1136598, 1136597, 1136596, 1136595,\n       1136594, 1136593, 1136592, 1136591, 1136590, 1136588, 1136589,\n       1136587, 1136586, 1136585, 1136584, 1136583, 1136582, 1136581,\n       1136580, 1136579, 1136578, 1136577, 1136576, 1136575, 1136574,\n       1136573, 1136572, 1136571, 1136570, 1136569, 1136568, 1136567,\n       1136566, 1136565, 1136564, 1136562, 1136563, 1136561, 1082649,\n       1082648, 1082646, 1082644, 1082641, 1082639, 1082638, 1082636,\n       1082635, 1082633, 1082630, 1082628, 1082627, 1082626, 1082622,\n       1082623, 1082617, 1082614, 1082612, 1082611, 1082608, 1082609,\n       1082605, 1082604, 1082602, 1082601, 1082600, 1082598, 1082597,\n       1082595, 1082591,  981019,  981015,  981011,  981009,  981003,\n        980999,  980995,  980991,  980993,  980985,  980983,  980981,\n        980977,  980973,  980971,  980963,  980959,  980951,  980953,\n        980947,  980941,  980935,  980933,  980927,  980925,  980923,\n        980921,  980915,  980913,  980909,  980907,  980903,  829823,\n        829821,  829819,  829817,  829813,  829815,  829811,  829809,\n        829807,  829805,  829803,  829801,  829799,  829797,  829795,\n        829793,  829791,  829789,  829787,  829761,  829785,  829783,\n        829781,  829779,  829775,  829777,  829771,  829773,  829769,\n        829767,  829723,  829765,  829759,  829757,  829753,  829751,\n        829749,  829747,  829743,  829745,  829741,  829739,  829735,\n        829737,  829731,  829733,  829729,  829727,  829725,  829721,\n        829719,  829717,  829715,  829713,  829711,  829709,  829707,\n        829705,  734049,  734047,  734045,  734043,  734041,  734039,\n        734035,  734037,  734031,  734033,  734027,  734029,  734025,\n        734023,  734021,  734019,  734017,  734013,  734015,  734011,\n        734009,  734007,  734005,  734003,  734001,  733997,  733999,\n        733995,  733993,  733991,  733989,  733985,  733987,  733983,\n        733981,  733979,  733977,  733975,  733973,  733971,  729317,\n        729315,  729313,  729311,  729309,  729307,  729305,  729301,\n        729303,  729299,  729297,  729295,  729293,  729291,  729289,\n        729287,  729285,  729283,  729281,  729279,  598073,  598072,\n        598071,  598070,  598069,  598068,  598066,  598065,  598028,\n        598063,  598062,  598045,  598060,  598058,  598057,  598056,\n        598054,  598052,  598051,  598049,  598050,  598064,  598046,\n        598044,  598043,  598041,  598040,  598039,  598037,  598036,\n        598034,  598033,  598032,  598031,  598030,  598029,  598059,\n        598026,  598024,  598023,  598022,  598021,  598020,  598019,\n        598016,  598017,  598014,  598013,  598012,  598010,  598008,\n        598007,  598048,  598006,  598005,  598004,  598002,  598001,\n        597999,  597998,  548381,  548380,  548379,  548378,  548377,\n        548376,  548374,  548373,  548371,  548372,  548370,  548369,\n        548368,  548367,  548366,  548364,  548363,  548361,  548329,\n        548360,  548359,  548357,  548356,  548355,  548354,  548352,\n        548350,  548349,  548347,  548346,  548345,  548344,  548343,\n        548342,  548339,  548336,  548334,  548335,  548332,  548331,\n        548321,  548328,  548326,  548325,  548324,  548323,  548320,\n        548318,  548317,  548316,  548315,  548314,  548312,  548311,\n        548310,  548309,  548307,  548306,  501271,  501270,  501269,\n        501268,  501267,  501266,  501264,  501263,  501260,  501257,\n        501255,  501256,  501253,  501252,  501251,  501249,  501246,\n        501245,  501244,  501243,  501240,  501239,  501237,  501236,\n        501234,  501231,  501230,  501227,  501224,  501223,  501222,\n        501221,  501220,  501216,  501214,  501212,  501211,  501209,\n        501208,  501206,  501204,  501205,  501203,  501201,  501199,\n        501198,  419165,  419164,  419163,  419162,  419161,  419160,\n        419159,  419158,  419157,  419156,  419155,  419154,  419153,\n        419152,  419151,  419150,  419149,  419148,  419147,  419146,\n        419145,  419144,  419143,  419142,  419141,  419139,  419140,\n        419138,  419137,  419136,  419135,  419134,  419133,  419132,\n        419131,  419130,  419129,  419127,  419126,  419125,  419128,\n        419124,  419123,  419122,  419121,  419120,  419119,  419118,\n        419116,  419117,  419115,  419114,  419113,  419112,  419111,\n        419109,  419110,  419108,  419107,  419106,  392239,  392238,\n        392237,  392236,  392235,  392234,  392233,  392232,  392231,\n        392230,  392229,  392227,  392228,  392226,  392225,  392224,\n        392223,  392222,  392221,  392220,  392219,  392218,  392216,\n        392217,  392215,  392214,  392213,  392212,  392211,  392210,\n        392209,  392208,  392207,  392205,  392206,  392203,  392204,\n        392202,  392201,  392200,  392199,  392198,  392197,  392196,\n        392194,  392195,  392192,  392191,  392190,  392189,  392188,\n        392186,  392185,  392184,  392183,  392182,  392181,  336040,\n        336039,  336038,  336019,  336012,  336037,  336036,  336035,\n        336002,  336033,  336032,  336031,  336029,  336028,  336027,\n        336026,  336025,  336024,  336022,  336023,  336021,  336020,\n        336018,  336017,  336016,  336015,  336014,  336013,  336011,\n        336009,  336010,  336008,  336007,  336006,  336005,  336004,\n        336034,  336003,  336001,  336000,  335999,  335998,  335997,\n        335996,  335995,  335994,  335993,  335992,  335991,  335990,\n        335989,  335988,  335987,  335986,  335985,  335984,  335983,\n        335982], dtype=int64)"
     },
     "execution_count": 82,
     "metadata": {},
     "output_type": "execute_result"
    }
   ],
   "source": [
    "delivary_df['ID'].unique()"
   ]
  },
  {
   "cell_type": "code",
   "execution_count": 83,
   "metadata": {
    "ExecuteTime": {
     "end_time": "2024-04-02T15:27:48.541829Z",
     "start_time": "2024-04-02T15:27:48.536900Z"
    }
   },
   "outputs": [],
   "source": [
    "def match_progression(x_df, ID, pipeline):\n",
    "    match = x_df[x_df['ID'] == ID]\n",
    "    match = match[(match['Balls_Lefts'] % 6 == 0) & (match['Balls_Lefts'] <= 120)]  # Filtering for end of each over\n",
    "    \n",
    "    temp_df = match[['BattingTeam', 'City', 'total_run_x', 'Runs_Lefts', 'Balls_Lefts', 'Wicket_remaining', 'Current_run_rate', 'Required_run_rate', 'results']].dropna()\n",
    "    temp_df = temp_df[temp_df['Balls_Lefts'] != 0]\n",
    "    \n",
    "    result = pipeline.predict_proba(temp_df)\n",
    "    temp_df['lose'] = np.round(result.T[0] * 100, 1)\n",
    "    temp_df['win'] = np.round(result.T[1] * 100, 1)\n",
    "    temp_df['end_of_over'] = range(1, temp_df.shape[0] + 1)\n",
    "    \n",
    "    target = temp_df['total_run_x'].values[0]\n",
    "    runs = list(temp_df['Runs_Lefts'].values)\n",
    "    new_runs = runs[:]\n",
    "    runs.insert(0, target)\n",
    "    temp_df['runs_after_over'] = np.array(runs)[:-1] - np.array(new_runs)\n",
    "    \n",
    "    wickets = list(temp_df['Wicket_remaining'].values)\n",
    "    new_wickets = wickets[:]\n",
    "    new_wickets.insert(0, 10)\n",
    "    wickets.append(0)\n",
    "    w = np.array(wickets)\n",
    "    nw = np.array(new_wickets)\n",
    "    temp_df['wickets_in_over'] = (nw - w)[:temp_df.shape[0]]\n",
    "    \n",
    "    print(\"Target -\", target)\n",
    "    \n",
    "    temp_df = temp_df[['end_of_over', 'runs_after_over', 'wickets_in_over', 'lose', 'win']]\n",
    "    \n",
    "    return temp_df, target\n"
   ]
  },
  {
   "cell_type": "code",
   "execution_count": 84,
   "metadata": {
    "ExecuteTime": {
     "end_time": "2024-04-02T15:27:48.554447Z",
     "start_time": "2024-04-02T15:27:48.542828Z"
    }
   },
   "outputs": [
    {
     "name": "stdout",
     "output_type": "stream",
     "text": [
      "Target - 160\n"
     ]
    },
    {
     "data": {
      "text/plain": "        end_of_over  runs_after_over  wickets_in_over  lose   win\n111439            1                2                0  39.5  60.5\n111445            2               13                0  27.8  72.2\n111451            3               12                0  19.9  80.1\n111457            4                3                0  22.5  77.5\n111463            5                6                0  21.8  78.2\n111470            6               16                0  12.1  87.9\n111476            7               11                0   8.7  91.3\n111482            8                9                0   6.9  93.1\n111488            9                5                0   7.1  92.9\n111494           10               13                0   4.4  95.6\n111500           11               12                0   2.8  97.2\n111506           12                5                1   5.2  94.8\n111512           13                9                0   4.1  95.9\n111518           14                8                0   3.4  96.6\n111524           15                4                0   3.7  96.3\n111530           16               10                0   2.7  97.3\n111536           17               13                0   1.5  98.5\n111542           18                5                1   2.7  97.3",
      "text/html": "<div>\n<style scoped>\n    .dataframe tbody tr th:only-of-type {\n        vertical-align: middle;\n    }\n\n    .dataframe tbody tr th {\n        vertical-align: top;\n    }\n\n    .dataframe thead th {\n        text-align: right;\n    }\n</style>\n<table border=\"1\" class=\"dataframe\">\n  <thead>\n    <tr style=\"text-align: right;\">\n      <th></th>\n      <th>end_of_over</th>\n      <th>runs_after_over</th>\n      <th>wickets_in_over</th>\n      <th>lose</th>\n      <th>win</th>\n    </tr>\n  </thead>\n  <tbody>\n    <tr>\n      <th>111439</th>\n      <td>1</td>\n      <td>2</td>\n      <td>0</td>\n      <td>39.5</td>\n      <td>60.5</td>\n    </tr>\n    <tr>\n      <th>111445</th>\n      <td>2</td>\n      <td>13</td>\n      <td>0</td>\n      <td>27.8</td>\n      <td>72.2</td>\n    </tr>\n    <tr>\n      <th>111451</th>\n      <td>3</td>\n      <td>12</td>\n      <td>0</td>\n      <td>19.9</td>\n      <td>80.1</td>\n    </tr>\n    <tr>\n      <th>111457</th>\n      <td>4</td>\n      <td>3</td>\n      <td>0</td>\n      <td>22.5</td>\n      <td>77.5</td>\n    </tr>\n    <tr>\n      <th>111463</th>\n      <td>5</td>\n      <td>6</td>\n      <td>0</td>\n      <td>21.8</td>\n      <td>78.2</td>\n    </tr>\n    <tr>\n      <th>111470</th>\n      <td>6</td>\n      <td>16</td>\n      <td>0</td>\n      <td>12.1</td>\n      <td>87.9</td>\n    </tr>\n    <tr>\n      <th>111476</th>\n      <td>7</td>\n      <td>11</td>\n      <td>0</td>\n      <td>8.7</td>\n      <td>91.3</td>\n    </tr>\n    <tr>\n      <th>111482</th>\n      <td>8</td>\n      <td>9</td>\n      <td>0</td>\n      <td>6.9</td>\n      <td>93.1</td>\n    </tr>\n    <tr>\n      <th>111488</th>\n      <td>9</td>\n      <td>5</td>\n      <td>0</td>\n      <td>7.1</td>\n      <td>92.9</td>\n    </tr>\n    <tr>\n      <th>111494</th>\n      <td>10</td>\n      <td>13</td>\n      <td>0</td>\n      <td>4.4</td>\n      <td>95.6</td>\n    </tr>\n    <tr>\n      <th>111500</th>\n      <td>11</td>\n      <td>12</td>\n      <td>0</td>\n      <td>2.8</td>\n      <td>97.2</td>\n    </tr>\n    <tr>\n      <th>111506</th>\n      <td>12</td>\n      <td>5</td>\n      <td>1</td>\n      <td>5.2</td>\n      <td>94.8</td>\n    </tr>\n    <tr>\n      <th>111512</th>\n      <td>13</td>\n      <td>9</td>\n      <td>0</td>\n      <td>4.1</td>\n      <td>95.9</td>\n    </tr>\n    <tr>\n      <th>111518</th>\n      <td>14</td>\n      <td>8</td>\n      <td>0</td>\n      <td>3.4</td>\n      <td>96.6</td>\n    </tr>\n    <tr>\n      <th>111524</th>\n      <td>15</td>\n      <td>4</td>\n      <td>0</td>\n      <td>3.7</td>\n      <td>96.3</td>\n    </tr>\n    <tr>\n      <th>111530</th>\n      <td>16</td>\n      <td>10</td>\n      <td>0</td>\n      <td>2.7</td>\n      <td>97.3</td>\n    </tr>\n    <tr>\n      <th>111536</th>\n      <td>17</td>\n      <td>13</td>\n      <td>0</td>\n      <td>1.5</td>\n      <td>98.5</td>\n    </tr>\n    <tr>\n      <th>111542</th>\n      <td>18</td>\n      <td>5</td>\n      <td>1</td>\n      <td>2.7</td>\n      <td>97.3</td>\n    </tr>\n  </tbody>\n</table>\n</div>"
     },
     "execution_count": 84,
     "metadata": {},
     "output_type": "execute_result"
    }
   ],
   "source": [
    "temp_df, target = match_progression(delivary_df, 733985, pipeline)\n",
    "temp_df"
   ]
  },
  {
   "cell_type": "code",
   "execution_count": 85,
   "metadata": {
    "ExecuteTime": {
     "end_time": "2024-04-02T15:27:49.005581Z",
     "start_time": "2024-04-02T15:27:48.555445Z"
    }
   },
   "outputs": [
    {
     "data": {
      "text/plain": "Text(0.5, 1.0, 'Target-160')"
     },
     "execution_count": 85,
     "metadata": {},
     "output_type": "execute_result"
    },
    {
     "data": {
      "text/plain": "<Figure size 1800x800 with 1 Axes>",
      "image/png": "[encoded data removed]"
     },
     "metadata": {},
     "output_type": "display_data"
    }
   ],
   "source": [
    "import matplotlib.pyplot as plt\n",
    "plt.figure(figsize=(18,8))\n",
    "plt.plot(temp_df['end_of_over'],temp_df['wickets_in_over'],color='yellow',linewidth=3)\n",
    "plt.plot(temp_df['end_of_over'],temp_df['win'],color='#00a65a',linewidth=4)\n",
    "plt.plot(temp_df['end_of_over'],temp_df['lose'],color='red',linewidth=4)\n",
    "plt.bar(temp_df['end_of_over'],temp_df['runs_after_over'])\n",
    "plt.title('Target-' + str(target))"
   ]
  },
  {
   "cell_type": "code",
   "execution_count": 86,
   "metadata": {
    "ExecuteTime": {
     "end_time": "2024-04-02T15:27:49.010416Z",
     "start_time": "2024-04-02T15:27:49.006581Z"
    }
   },
   "outputs": [
    {
     "data": {
      "text/plain": "['Rajasthan Royals',\n 'Kolkata Knight Riders',\n 'Chennai Super Kings',\n 'Mumbai Indians',\n 'Royal Challengers Bangalore',\n 'Sunrisers Hyderabad',\n 'Delhi Capitals',\n 'Punjab Kings',\n 'Lucknow Super Giants',\n 'Gujarat Titans']"
     },
     "execution_count": 86,
     "metadata": {},
     "output_type": "execute_result"
    }
   ],
   "source": [
    "teams"
   ]
  },
  {
   "cell_type": "code",
   "execution_count": 87,
   "metadata": {
    "ExecuteTime": {
     "end_time": "2024-04-02T15:27:49.016850Z",
     "start_time": "2024-04-02T15:27:49.011414Z"
    }
   },
   "outputs": [
    {
     "data": {
      "text/plain": "array(['Ahmedabad', 'Kolkata', 'Mumbai', 'Navi Mumbai', 'Pune', 'Dubai',\n       'Sharjah', 'Abu Dhabi', 'Delhi', 'Chennai', nan, 'Hyderabad',\n       'Visakhapatnam', 'Chandigarh', 'Bengaluru', 'Jaipur', 'Indore',\n       'Bangalore', 'Raipur', 'Ranchi', 'Cuttack', 'Dharamsala', 'Nagpur',\n       'Johannesburg', 'Centurion', 'Durban', 'Bloemfontein',\n       'Port Elizabeth', 'Kimberley', 'East London', 'Cape Town'],\n      dtype=object)"
     },
     "execution_count": 87,
     "metadata": {},
     "output_type": "execute_result"
    }
   ],
   "source": [
    "delivary_df['City'].unique()"
   ]
  },
  {
   "cell_type": "code",
   "execution_count": 88,
   "metadata": {
    "ExecuteTime": {
     "end_time": "2024-04-02T15:27:49.021179Z",
     "start_time": "2024-04-02T15:27:49.017849Z"
    }
   },
   "outputs": [],
   "source": [
    "import pickle\n",
    "pickle.dump(pipeline, open('ipl_ped.pkl', 'wb'))"
   ]
  },
  {
   "cell_type": "code",
   "execution_count": 88,
   "metadata": {
    "ExecuteTime": {
     "end_time": "2024-04-02T15:27:49.023352Z",
     "start_time": "2024-04-02T15:27:49.021179Z"
    }
   },
   "outputs": [],
   "source": []
  }
 ],
 "metadata": {
  "kernelspec": {
   "display_name": "Python 3 (ipykernel)",
   "language": "python",
   "name": "python3"
  },
  "language_info": {
   "codemirror_mode": {
    "name": "ipython",
    "version": 3
   },
   "file_extension": ".py",
   "mimetype": "text/x-python",
   "name": "python",
   "nbconvert_exporter": "python",
   "pygments_lexer": "ipython3",
   "version": "3.11.5"
  }
 },
 "nbformat": 4,
 "nbformat_minor": 2
}
